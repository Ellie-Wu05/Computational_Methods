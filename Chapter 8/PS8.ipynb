{
 "cells": [
  {
   "cell_type": "markdown",
   "id": "65a1e1a2",
   "metadata": {},
   "source": [
    "# PS8_Kaiyue Wu"
   ]
  },
  {
   "cell_type": "code",
   "execution_count": 2,
   "id": "b18bd521",
   "metadata": {
    "ExecuteTime": {
     "end_time": "2022-05-29T21:57:28.426859Z",
     "start_time": "2022-05-29T21:57:28.392951Z"
    }
   },
   "outputs": [],
   "source": [
    "import numpy as np\n",
    "import matplotlib.pyplot as plt\n",
    "import seaborn as sns\n",
    "import pandas as pd\n",
    "from scipy.stats import norm\n",
    "import scipy.stats\n",
    "from scipy.stats import ncx2\n",
    "\n",
    "new_line = '\\n'\n",
    "pd.options.mode.chained_assignment = None \n",
    "import warnings\n",
    "warnings.filterwarnings('ignore')\n",
    "\n",
    "sns.set(font_scale=1.5, rc={'text.usetex' : True,})\n",
    "%config InlineBackend.figure_format='retina'"
   ]
  },
  {
   "cell_type": "markdown",
   "id": "8a7953eb",
   "metadata": {},
   "source": [
    "## 1 Vasicek model\n",
    "$ dr_t =\\kappa ( \\bar{r} - r)dt+\\sigma dW$"
   ]
  },
  {
   "cell_type": "code",
   "execution_count": 3,
   "id": "cf09374f",
   "metadata": {
    "ExecuteTime": {
     "end_time": "2022-05-29T21:57:29.241488Z",
     "start_time": "2022-05-29T21:57:29.235623Z"
    }
   },
   "outputs": [],
   "source": [
    "r0 = 0.05\n",
    "sigma = 0.1\n",
    "kappa = 0.82\n",
    "r_bar = 0.05"
   ]
  },
  {
   "cell_type": "markdown",
   "id": "313bb89d",
   "metadata": {},
   "source": [
    "### (a)  Monte Carlo Simulation for pure discount bond, with Face Value of $1,000, maturing in 𝑇 = 0.5 years"
   ]
  },
  {
   "cell_type": "code",
   "execution_count": 4,
   "id": "463cb27a",
   "metadata": {
    "ExecuteTime": {
     "end_time": "2022-05-29T21:57:30.275419Z",
     "start_time": "2022-05-29T21:57:30.271919Z"
    }
   },
   "outputs": [],
   "source": [
    "T = 0.5\n",
    "t=0\n",
    "FV=1000"
   ]
  },
  {
   "cell_type": "code",
   "execution_count": 5,
   "id": "7c8b3b38",
   "metadata": {
    "ExecuteTime": {
     "end_time": "2022-05-29T21:57:32.255362Z",
     "start_time": "2022-05-29T21:57:32.240737Z"
    }
   },
   "outputs": [],
   "source": [
    "def VasicekR(r0,T,path,steps):\n",
    "    \n",
    "    \"\"\"\n",
    "    simulate rt\n",
    "    \"\"\"\n",
    "    dt = T/steps\n",
    "    rts = np.zeros((path,steps+1))\n",
    "    \n",
    "    # initialize r0\n",
    "    rts[:,0] = r0\n",
    "    \n",
    "    for i in range(1,steps+1):\n",
    "        dWt = np.sqrt(dt)*np.random.normal(0,1,path)\n",
    "        rts[:,i] = rts[:,i-1] + kappa*(r_bar - rts[:,i-1])*dt + sigma*dWt\n",
    "        \n",
    "    return rts\n",
    "# VasicekR(r0=0.05,T=0.5,path=10,steps=10)"
   ]
  },
  {
   "cell_type": "code",
   "execution_count": 6,
   "id": "f71d9e8f",
   "metadata": {
    "ExecuteTime": {
     "end_time": "2022-05-29T21:57:32.866017Z",
     "start_time": "2022-05-29T21:57:32.854228Z"
    }
   },
   "outputs": [],
   "source": [
    "def PureDiscountBond(r0,T,path,FV,t):\n",
    "    \n",
    "    steps = int(365*(T - t))\n",
    "    dt = (T - t)/steps\n",
    "    r = VasicekR(r0,T,path,steps)\n",
    "    \n",
    "    Euler = np.zeros(path)\n",
    "    \n",
    "    for i in range(path):\n",
    "        Euler[i] = -sum(r[i,1:]*dt)\n",
    "        \n",
    "    price = np.mean(FV*np.exp(Euler))\n",
    "    \n",
    "    return price"
   ]
  },
  {
   "cell_type": "code",
   "execution_count": 7,
   "id": "5bfaec6b",
   "metadata": {
    "ExecuteTime": {
     "end_time": "2022-05-29T21:57:35.912949Z",
     "start_time": "2022-05-29T21:57:33.589122Z"
    }
   },
   "outputs": [],
   "source": [
    "PDB = PureDiscountBond(r0=0.05,T=0.5,t=0,path=100000,FV=1000)"
   ]
  },
  {
   "cell_type": "code",
   "execution_count": 8,
   "id": "c51ed8e7",
   "metadata": {
    "ExecuteTime": {
     "end_time": "2022-05-29T21:57:35.918778Z",
     "start_time": "2022-05-29T21:57:35.914242Z"
    }
   },
   "outputs": [
    {
     "name": "stdout",
     "output_type": "stream",
     "text": [
      "The Pure Discount Bond price is $975.5014097260087\n"
     ]
    }
   ],
   "source": [
    "print(f\"The Pure Discount Bond price is ${PDB}\")"
   ]
  },
  {
   "cell_type": "markdown",
   "id": "b222325c",
   "metadata": {},
   "source": [
    "### (b) Monte Carlo Simulation to find the price of a coupon-paying bond, with Face Value of 1,000, paying semiannual coupons of 30, maturing in T = 4 years"
   ]
  },
  {
   "cell_type": "code",
   "execution_count": 9,
   "id": "fcd4ad49",
   "metadata": {
    "ExecuteTime": {
     "end_time": "2022-05-29T21:57:37.423190Z",
     "start_time": "2022-05-29T21:57:37.417272Z"
    }
   },
   "outputs": [],
   "source": [
    "FV = 1000\n",
    "c = np.append(np.repeat(30,7),1030)\n",
    "T = 4\n",
    "time = np.arange(0.5,4.5,0.5)"
   ]
  },
  {
   "cell_type": "code",
   "execution_count": 10,
   "id": "df208c19",
   "metadata": {
    "ExecuteTime": {
     "end_time": "2022-05-29T21:57:38.094139Z",
     "start_time": "2022-05-29T21:57:38.090649Z"
    },
    "code_folding": [
     0
    ]
   },
   "outputs": [],
   "source": [
    "# def CouponPayingBond(r0,T,t,path,FV):\n",
    "#     \"\"\"\n",
    "#     Coupon Paying Bond\n",
    "#     \"\"\"\n",
    "#     steps = int(365*(T - t))\n",
    "#     dt = (T - t)/steps\n",
    "#     r = VasicekR(r0,(T - t),path,steps)\n",
    "#     time_steps = np.array([int(i*365) for i in time])\n",
    "    \n",
    "#     Euler = np.zeros((path,len(time)))\n",
    "#     for i in range(path):\n",
    "#         for j in range(len(time)):\n",
    "#             Euler[i,j] = c[j]*np.exp(-sum(r[i,:(time_steps[j]+1)]*dt))\n",
    "            \n",
    "#     EP = np.sum(Euler,axis=1).mean()\n",
    "    \n",
    "#     return EP"
   ]
  },
  {
   "cell_type": "code",
   "execution_count": 11,
   "id": "2ffecec9",
   "metadata": {
    "ExecuteTime": {
     "end_time": "2022-05-29T21:57:38.899967Z",
     "start_time": "2022-05-29T21:57:38.888632Z"
    }
   },
   "outputs": [],
   "source": [
    "def CouponPayingBond(r0,T,t,path,FV):\n",
    "    \"\"\"\n",
    "    Coupon Paying Bond\n",
    "    \"\"\"\n",
    "    steps = int(365*(T - t))\n",
    "    dt = (T - t)/steps\n",
    "    r = VasicekR(r0,(T - t),path,steps)\n",
    "    r = r[:,-1]\n",
    "    \n",
    "    Euler = list(map(lambda coupon,ctime:PureDiscountBond(r0=r,T=ctime,path=path,FV=coupon,t=t),\n",
    "                    c,time))\n",
    "            \n",
    "    EP = sum(Euler).mean()\n",
    "    \n",
    "    return EP"
   ]
  },
  {
   "cell_type": "code",
   "execution_count": 12,
   "id": "7332c7e9",
   "metadata": {
    "ExecuteTime": {
     "end_time": "2022-05-29T21:57:40.746407Z",
     "start_time": "2022-05-29T21:57:39.872518Z"
    }
   },
   "outputs": [],
   "source": [
    "CPB = CouponPayingBond(r0=0.05,T=4,t=0,path=1000,FV=1000)"
   ]
  },
  {
   "cell_type": "code",
   "execution_count": 13,
   "id": "7cf94842",
   "metadata": {
    "ExecuteTime": {
     "end_time": "2022-05-29T21:57:40.754559Z",
     "start_time": "2022-05-29T21:57:40.747639Z"
    }
   },
   "outputs": [
    {
     "name": "stdout",
     "output_type": "stream",
     "text": [
      "The Coupon Paying Bond price is $1056.7784\n"
     ]
    }
   ],
   "source": [
    "print(f\"The Coupon Paying Bond price is ${round(CPB,4)}\")"
   ]
  },
  {
   "cell_type": "markdown",
   "id": "07cdcbe7",
   "metadata": {},
   "source": [
    "### (c) Use Monte Carlo Simulation to find the price of a European Call Option on the Pure Discount Bond of part (a). The option expires in 3 months and has a strike price of K = 980. Use the explicit formula for the underlying bond price (use explicit formula only for the bond price).\n"
   ]
  },
  {
   "cell_type": "code",
   "execution_count": 14,
   "id": "c9864702",
   "metadata": {
    "ExecuteTime": {
     "end_time": "2022-05-29T21:57:41.855333Z",
     "start_time": "2022-05-29T21:57:41.850866Z"
    }
   },
   "outputs": [],
   "source": [
    "K = 980\n",
    "t = 3/12\n",
    "T = 0.5\n",
    "FV = 1000"
   ]
  },
  {
   "cell_type": "code",
   "execution_count": 15,
   "id": "4cc7aaa9",
   "metadata": {
    "ExecuteTime": {
     "end_time": "2022-05-29T21:57:42.882231Z",
     "start_time": "2022-05-29T21:57:42.872938Z"
    }
   },
   "outputs": [],
   "source": [
    "def EuroCall_explicit(r0,T,t,path,FV):\n",
    "    \n",
    "#     np.random.seed(0)\n",
    "    \n",
    "    steps = int(365*(T - t))\n",
    "    dt = (T - t)/steps\n",
    "    rt = VasicekR(r0,T,path,steps)\n",
    "    \n",
    "    B = 1/kappa*(1-np.exp(-kappa*(T-t)))\n",
    "    A = np.exp((r_bar-sigma**2/(2*kappa**2))*(B-(T-t))-sigma**2/(4*kappa)*B**2)\n",
    "    \n",
    "    PtT = A*np.exp(-B*rt) * FV\n",
    "    \n",
    "    PtT = PtT[:,-1]\n",
    "    \n",
    "    payoff = np.maximum(PtT - K,0)\n",
    "    \n",
    "    disc = np.exp(-rt[:,-1]*(T-t))\n",
    "    \n",
    "    price = sum(payoff*disc)/path\n",
    "    \n",
    "    return price"
   ]
  },
  {
   "cell_type": "code",
   "execution_count": 16,
   "id": "92d260b5",
   "metadata": {
    "ExecuteTime": {
     "end_time": "2022-05-29T21:57:44.063402Z",
     "start_time": "2022-05-29T21:57:43.588663Z"
    }
   },
   "outputs": [],
   "source": [
    "p_ex = EuroCall_explicit(r0=0.05,T=0.5,t=3/12,path=100000,FV=1000)"
   ]
  },
  {
   "cell_type": "code",
   "execution_count": 17,
   "id": "4112878d",
   "metadata": {
    "ExecuteTime": {
     "end_time": "2022-05-29T21:57:44.066651Z",
     "start_time": "2022-05-29T21:57:44.064577Z"
    }
   },
   "outputs": [
    {
     "name": "stdout",
     "output_type": "stream",
     "text": [
      "The Pure Discount Bond price with the explicit formula is $9.955777882617983\n"
     ]
    }
   ],
   "source": [
    "print(f\"The Pure Discount Bond price with the explicit formula is ${p_ex}\")"
   ]
  },
  {
   "cell_type": "markdown",
   "id": "d0bf7761",
   "metadata": {},
   "source": [
    "### (d) Use Monte Carlo Simulation to find the price of a European Call Option on the coupon-paying bond in part (b). The option expires in 3 months and has a strike price of 𝐾 = 980. Use Monte Carlo simulation for pricing the underlying bond (no explicit formula can be used in this part)."
   ]
  },
  {
   "cell_type": "code",
   "execution_count": 18,
   "id": "728444a8",
   "metadata": {
    "ExecuteTime": {
     "end_time": "2022-05-29T21:57:45.279958Z",
     "start_time": "2022-05-29T21:57:45.273077Z"
    }
   },
   "outputs": [],
   "source": [
    "def EuroCall_b_MC(r0,T,t,path,FV):\n",
    "    \n",
    "    steps = int(365*(T - t))\n",
    "    dt = (T - t)/steps\n",
    "    rt = VasicekR(r0,(T - t),path,steps)\n",
    "    \n",
    "    \n",
    "    P = CouponPayingBond(rt[:,-1],T,t,path,FV)\n",
    "    \n",
    "    payoff = np.maximum(P-K,0)\n",
    "    disc = np.exp(-rt[:,-1]*(T-t))\n",
    "    \n",
    "    price = sum(payoff*disc)/path\n",
    "    \n",
    "    return price"
   ]
  },
  {
   "cell_type": "code",
   "execution_count": 19,
   "id": "a9487ec3",
   "metadata": {
    "ExecuteTime": {
     "end_time": "2022-05-29T21:57:52.818721Z",
     "start_time": "2022-05-29T21:57:46.223694Z"
    }
   },
   "outputs": [
    {
     "name": "stdout",
     "output_type": "stream",
     "text": [
      "The Pure Discount Bond price with the Monte Carlo Simulation is $80.18320470414108\n"
     ]
    }
   ],
   "source": [
    "price_b = EuroCall_b_MC(r0=0.05,T=0.5,t=3/12,path=10000,FV=1000)\n",
    "print(f\"The Pure Discount Bond price with the Monte Carlo Simulation is ${price_b}\")"
   ]
  },
  {
   "cell_type": "markdown",
   "id": "1cbc0da3",
   "metadata": {},
   "source": [
    "### (e) Find the price of a European Call option of part (d) by using the explicit formula for the underlying bond price, and reconcile the findings here with the ones of part (d)."
   ]
  },
  {
   "cell_type": "code",
   "execution_count": 20,
   "id": "2c9dc523",
   "metadata": {
    "ExecuteTime": {
     "end_time": "2022-05-29T21:57:56.148683Z",
     "start_time": "2022-05-29T21:57:56.142008Z"
    }
   },
   "outputs": [],
   "source": [
    "r0 = 0.05\n",
    "sigma = 0.1\n",
    "kappa = 0.82\n",
    "r_bar = 0.05\n",
    "t = 3/12\n",
    "T = 0.5"
   ]
  },
  {
   "cell_type": "code",
   "execution_count": 21,
   "id": "fcdfe435",
   "metadata": {
    "ExecuteTime": {
     "end_time": "2022-05-29T21:57:57.138500Z",
     "start_time": "2022-05-29T21:57:57.107428Z"
    }
   },
   "outputs": [],
   "source": [
    "def EuroCall_b_explicit(r0,T,t,path,FV):\n",
    "    \n",
    "    steps = int(365*(T - t))\n",
    "    dt = T/steps\n",
    "    rt = VasicekR(r0,T,path,steps)\n",
    "    \n",
    "    c = np.append(np.repeat(30,7),1030)\n",
    "    T = 3/12\n",
    "    Ti = np.array([i*(6/12) for i in range(1,9,1)])\n",
    "    \n",
    "    \n",
    "    r_star = r0\n",
    "    max_iter = 1000\n",
    "    \n",
    "    for k in range(max_iter):\n",
    "        Pi = np.array([])\n",
    "        for i in range(len(Ti)):\n",
    "            B = 1/kappa*(1-np.exp(-kappa*(Ti[i]-T)))\n",
    "            A = np.exp((r_bar-sigma**2/(2*kappa**2))*(B-(Ti[i]-T))-sigma**2/(4*kappa)*B**2)\n",
    "            Pi = np.append(Pi,A*np.exp(-B*r_star) )\n",
    "        \n",
    "        F = sum(Pi*c)\n",
    "        if F==K: break\n",
    "        elif F-K > 0.005:\n",
    "            r_star +=0.001\n",
    "        elif F-K > -0.005:\n",
    "            r_star -=0.001\n",
    "    \n",
    "    Ki = np.array([])\n",
    "    for i in range(len(Ti)):\n",
    "        B = 1/kappa*(1-np.exp(-kappa*(Ti[i]-T)))\n",
    "        A = np.exp((r_bar-sigma**2/(2*kappa**2))*(B-(Ti[i]-T))-sigma**2/(4*kappa)*B**2)\n",
    "        Ki = np.append(Ki,A*np.exp(-B*r_star) )\n",
    "        \n",
    "    PTi = np.array([])\n",
    "    for i in range(len(Ti)):\n",
    "        B = 1/kappa*(1-np.exp(-kappa*(Ti[i]-T)))\n",
    "        A = np.exp((r_bar-sigma**2/(2*kappa**2))*(B-(Ti[i]-T))-sigma**2/(4*kappa)*B**2)\n",
    "        PTi = np.append(PTi,A*np.exp(-B*r0) )\n",
    "        \n",
    "    B = 1/kappa*(1-np.exp(-kappa*(T-t)))\n",
    "    A = np.exp((r_bar-sigma**2/(2*kappa**2))*(B-(T-t))-sigma**2/(4*kappa)*B**2)\n",
    "    PT = A*np.exp(-B*r0)\n",
    "    \n",
    "    \n",
    "    sigma_p = sigma*(1-np.exp(-kappa*(Ti-T)))/kappa*np.sqrt((1-np.exp(-2*kappa*(T-0)))/(2*kappa))\n",
    "    d1 = np.log(PTi/(Ki*PT))/sigma_p + sigma_p/2\n",
    "    d2 = d1 - sigma_p\n",
    "    \n",
    "    C = PTi*norm.cdf(d1) - Ki*PT*norm.cdf(d2)\n",
    "    price = sum(c*C)\n",
    "    return price"
   ]
  },
  {
   "cell_type": "code",
   "execution_count": 22,
   "id": "fd65bcdc",
   "metadata": {
    "ExecuteTime": {
     "end_time": "2022-05-29T21:57:58.155262Z",
     "start_time": "2022-05-29T21:57:58.022428Z"
    }
   },
   "outputs": [],
   "source": [
    "price_b_explicit  = EuroCall_b_explicit(r0=0.05,T=0.5,t=3/12,path=1000,FV=1000)"
   ]
  },
  {
   "cell_type": "code",
   "execution_count": 23,
   "id": "3a6611ec",
   "metadata": {
    "ExecuteTime": {
     "end_time": "2022-05-29T21:57:58.475416Z",
     "start_time": "2022-05-29T21:57:58.469235Z"
    }
   },
   "outputs": [
    {
     "name": "stdout",
     "output_type": "stream",
     "text": [
      "The Pure Discount Bond price with Explicit Method is $81.74101353120759\n"
     ]
    }
   ],
   "source": [
    "print(f\"The Pure Discount Bond price with Explicit Method is ${price_b_explicit}\")"
   ]
  },
  {
   "cell_type": "markdown",
   "id": "a436eef5",
   "metadata": {},
   "source": [
    "## 2 CIR Model\n",
    "\n",
    "$ dr =\\kappa(\\bar{r}-r)dt+\\sigma\\sqrt{r}dW $"
   ]
  },
  {
   "cell_type": "code",
   "execution_count": 24,
   "id": "425354ba",
   "metadata": {
    "ExecuteTime": {
     "end_time": "2022-05-29T21:58:05.073953Z",
     "start_time": "2022-05-29T21:58:05.068318Z"
    }
   },
   "outputs": [],
   "source": [
    "r = 0.05\n",
    "sigma=0.12\n",
    "kappa=0.92\n",
    "r_bar =0.055\n",
    "K=980\n",
    "FV=1000\n",
    "T=0.5\n",
    "S=1\n",
    "t0=0"
   ]
  },
  {
   "cell_type": "code",
   "execution_count": 25,
   "id": "f9376692",
   "metadata": {
    "ExecuteTime": {
     "end_time": "2022-05-29T21:58:05.730080Z",
     "start_time": "2022-05-29T21:58:05.722574Z"
    }
   },
   "outputs": [],
   "source": [
    "def CIR_R(path,steps,r0,T):\n",
    "    \n",
    "    \"\"\"\n",
    "    simulate rate in CIR model\n",
    "    \"\"\"\n",
    "    \n",
    "    dt = T/steps\n",
    "    r = np.zeros((path,steps+1))\n",
    "    r[:,0] = r0\n",
    "    \n",
    "    for i in range(1,steps+1):\n",
    "        dWt = np.sqrt(dt)*np.random.normal(0,1,path)\n",
    "        r[:,i] = r[:,i-1] + kappa*(r_bar - r[:,i-1])*dt + sigma*np.sqrt(r[:,i-1])*dWt\n",
    "        \n",
    "    return r"
   ]
  },
  {
   "cell_type": "code",
   "execution_count": 26,
   "id": "a9fc6561",
   "metadata": {
    "ExecuteTime": {
     "end_time": "2022-05-29T21:58:06.581725Z",
     "start_time": "2022-05-29T21:58:06.574258Z"
    }
   },
   "outputs": [],
   "source": [
    "def PureDiscountBond_CIR(r0,T,path,S):\n",
    "    \n",
    "  \n",
    "    \n",
    "    steps = int(365*(S - T))\n",
    "    dt = (S - T)/steps\n",
    "    r = CIR_R(r0=r0,T=(S - T),path=path,steps=steps)\n",
    "    \n",
    "    Euler = np.zeros(path)\n",
    "    \n",
    "    for i in range(path):\n",
    "        Euler[i] = -sum(r[i,1:]*dt)\n",
    "        \n",
    "    price = np.mean(FV*np.exp(Euler))\n",
    "    \n",
    "    \n",
    "    return price"
   ]
  },
  {
   "cell_type": "markdown",
   "id": "f6eb0362",
   "metadata": {},
   "source": [
    "### (a) Use Monte Carlo Simulation to find at time t = 0 the price c(t, T, S) of a European Call option, with strike price of K = 980 and expiration in T = 0.5 years on a Pure Discount Bond with Face Value of 1,000, that matures in S = 1 year:"
   ]
  },
  {
   "cell_type": "code",
   "execution_count": 27,
   "id": "5244418c",
   "metadata": {
    "ExecuteTime": {
     "end_time": "2022-05-29T21:58:09.565982Z",
     "start_time": "2022-05-29T21:58:09.556163Z"
    }
   },
   "outputs": [],
   "source": [
    "def EuroCall_CIR(r0,T,t,path,S):\n",
    "    \n",
    "    \n",
    "    steps = int(365*(S - T))\n",
    "    dt = (S - T)/steps\n",
    "    r = CIR_R(r0=r0,T=(S - T),path=path,steps=steps)\n",
    "    \n",
    "    BondPrice = np.array([PureDiscountBond_CIR(r0=temp_r,T=T,path=path,S=S) for temp_r in r[:,-1]])\n",
    "    \n",
    "    payoff = np.maximum(BondPrice - K,0)\n",
    "    \n",
    "    disc = np.exp(-r[:,-1]*(S-T))\n",
    "    \n",
    "    # dicount price at T=0.5 to t=0\n",
    "    price = np.mean(payoff*disc)\n",
    "    price *= np.exp(-r0*(T-t))\n",
    "    \n",
    "    return price"
   ]
  },
  {
   "cell_type": "code",
   "execution_count": 28,
   "id": "377592bc",
   "metadata": {
    "ExecuteTime": {
     "end_time": "2022-05-29T21:58:33.623842Z",
     "start_time": "2022-05-29T21:58:10.740184Z"
    }
   },
   "outputs": [],
   "source": [
    "Price_a_CIR = EuroCall_CIR(r0=0.05,T=0.5,t=0,S=1,path=1000)"
   ]
  },
  {
   "cell_type": "code",
   "execution_count": 29,
   "id": "d18c34f8",
   "metadata": {
    "ExecuteTime": {
     "end_time": "2022-05-29T21:58:33.626945Z",
     "start_time": "2022-05-29T21:58:33.624988Z"
    }
   },
   "outputs": [
    {
     "name": "stdout",
     "output_type": "stream",
     "text": [
      "The Pure Discount Bond price with Monte Carlo Simulation is $0.3908\n"
     ]
    }
   ],
   "source": [
    "print(f\"The Pure Discount Bond price with Monte Carlo Simulation is ${round(Price_a_CIR,4)}\")"
   ]
  },
  {
   "cell_type": "markdown",
   "id": "a097fc38",
   "metadata": {},
   "source": [
    "### (b)  Use the Implicit Finite-Difference Method to find at time t = 0 the price c(t, T, S) of a European Call option, with strike price of S = 980 and expiration in T = 0.5 years on a Pure Discount Bond with Face Value of 1,000, which matures in S = 1 year. "
   ]
  },
  {
   "cell_type": "code",
   "execution_count": 30,
   "id": "e1358d7d",
   "metadata": {
    "ExecuteTime": {
     "end_time": "2022-05-29T21:58:35.332504Z",
     "start_time": "2022-05-29T21:58:35.323340Z"
    }
   },
   "outputs": [],
   "source": [
    "def Pumd(dt, sigma, r_bar, dr, kappa, grid_r):\n",
    "\n",
    "    Pu = -(1/2)*dt*((sigma**2 * grid_r)/(dr**2) + (kappa*(r_bar - grid_r))/(dr))\n",
    "    Pm = 1 + (sigma**2 * dt * grid_r)/(dr**2) + grid_r*dt\n",
    "    Pd = -(1/2)*dt*((sigma**2 * grid_r)/(dr**2) - (kappa*(r_bar - grid_r))/(dr))\n",
    "    \n",
    "    return Pu, Pm, Pd"
   ]
  },
  {
   "cell_type": "code",
   "execution_count": 31,
   "id": "83082bb4",
   "metadata": {
    "ExecuteTime": {
     "end_time": "2022-05-29T21:58:36.858397Z",
     "start_time": "2022-05-29T21:58:36.838687Z"
    }
   },
   "outputs": [],
   "source": [
    "def CIR_Implict(r0,T,t,path,S,M,N):\n",
    "\n",
    " \n",
    "    dt  = T/M\n",
    "    dr = 0.01\n",
    "    grid = np.zeros((M,N+1))\n",
    "    A = np.zeros((N-2,N-2))\n",
    "    Bi = np.zeros(M-1)\n",
    "    rgrid = np.zeros(N+1)\n",
    "\n",
    "    for j in range(N):\n",
    "        rgrid[j] = j*dr\n",
    "\n",
    "    Pu,Pm,Pd = Pumd(dt=dt, sigma=sigma, r_bar=r_bar, dr=dr, kappa=kappa, grid_r=rgrid)\n",
    "\n",
    "    for i in range(M):\n",
    "        for j in range(N+1):\n",
    "            grid[i,j] = PureDiscountBond_CIR(rgrid[j],T,path,S)\n",
    "\n",
    "    A[0,[0,1]] = [Pm[N-1],Pd[N-1]]\n",
    "    j=0\n",
    "    for i in range(1,len(A)-1):\n",
    "        A[i,[j,j+1,j+2]] = [Pu[N-j-2],Pm[N-j-2],Pd[N-j-2]]\n",
    "        j+=1\n",
    "    A[-1,[-2,-1]] = [Pu[1],Pm[1]]\n",
    "\n",
    "    index = np.where(rgrid==0.05)[0][0]\n",
    "\n",
    "\n",
    "    Ci = np.maximum(grid[:,-2]-980,0)\n",
    "    Ci=Ci[1:-1]\n",
    "    B = np.zeros_like(Ci)\n",
    "    B[1:-1] = Ci[1:-1]\n",
    "\n",
    "    B[-1] = PureDiscountBond_CIR(r0=rgrid[-1],T=T,path=M,S=2)  - PureDiscountBond_CIR(r0=rgrid[-2],T=T,path=M,S=2) \n",
    "    B[0]=0\n",
    "\n",
    "    j=0\n",
    "    for i in range(N):\n",
    "        Ci = np.dot(np.linalg.inv(A),B)\n",
    "        B = np.zeros_like(Ci)\n",
    "        B[1:-1]= Ci[1:-1]\n",
    "#         B[-1] = PureDiscountBond_CIR(r0=rgrid[-1],T=T,path=M,S=2)  - PureDiscountBond_CIR(r0=rgrid[-2],T=T,path=M,S=2) \n",
    "#         j+=1\n",
    "\n",
    "    option = Ci[index]\n",
    "    option *= np.exp(-r0*(T-t))\n",
    "\n",
    "    return option"
   ]
  },
  {
   "cell_type": "code",
   "execution_count": 32,
   "id": "9931f2c1",
   "metadata": {
    "ExecuteTime": {
     "end_time": "2022-05-29T21:58:40.608801Z",
     "start_time": "2022-05-29T21:58:38.055070Z"
    }
   },
   "outputs": [],
   "source": [
    "price_cir_im = CIR_Implict(r0=r0,T=0.5,t=0,path=1000,S=1,M=10,N=10)"
   ]
  },
  {
   "cell_type": "code",
   "execution_count": 33,
   "id": "6ef0dbc4",
   "metadata": {
    "ExecuteTime": {
     "end_time": "2022-05-29T21:58:40.612104Z",
     "start_time": "2022-05-29T21:58:40.610224Z"
    }
   },
   "outputs": [
    {
     "name": "stdout",
     "output_type": "stream",
     "text": [
      "The Pure Discount Bond price of CIR with Implicit Method is $0.5043\n"
     ]
    }
   ],
   "source": [
    "print(f\"The Pure Discount Bond price of CIR with Implicit Method is ${round(price_cir_im,4)}\")"
   ]
  },
  {
   "cell_type": "markdown",
   "id": "a3f39632",
   "metadata": {},
   "source": [
    "### (c) Compute the price c(t, T, S) of the European Call option above using the explicit formula, and compare it to your findings in parts (a) and (b) and comment on your findings."
   ]
  },
  {
   "cell_type": "code",
   "execution_count": 34,
   "id": "97cd3f81",
   "metadata": {
    "ExecuteTime": {
     "end_time": "2022-05-29T21:58:44.211003Z",
     "start_time": "2022-05-29T21:58:44.202366Z"
    }
   },
   "outputs": [],
   "source": [
    "def AB_CIR(rt, T, t, FV):\n",
    "    \n",
    "    h1 = np.sqrt(kappa**2 + 2*sigma**2)\n",
    "    h2 = (kappa + h1)/2\n",
    "    h3 = (2*kappa*r_bar)/sigma**2\n",
    "    \n",
    "    A = ((h1 * np.exp(h2*(T - t)))/(h2 * (np.exp(h1*(T - t)) - 1) + h1))**h3\n",
    "    B = (np.exp(h1*(T - t)) - 1)/(h2 * (np.exp(h1*(T - t)) - 1) + h1)\n",
    "    \n",
    "    return FV * A*np.exp(-B*rt)"
   ]
  },
  {
   "cell_type": "code",
   "execution_count": 35,
   "id": "dfdcaf07",
   "metadata": {
    "ExecuteTime": {
     "end_time": "2022-05-29T21:58:44.890551Z",
     "start_time": "2022-05-29T21:58:44.870825Z"
    }
   },
   "outputs": [],
   "source": [
    "def CIR_Explict(r0,T,t,path,S,K):\n",
    "    \n",
    "    K= K/FV\n",
    "    steps = int(365*(S - T))\n",
    "    dt = (S - T)/steps\n",
    "    \n",
    "    PT=AB_CIR(r0, T, 0, FV)/FV\n",
    "    PS=AB_CIR(r0, S, 0, FV)/FV\n",
    "    \n",
    "    h1 = np.sqrt(kappa**2 + 2*sigma**2)\n",
    "    h2 = (kappa + h1)/2\n",
    "    h3 = (2*kappa*r_bar)/sigma**2\n",
    "    \n",
    "    A = ((h1 * np.exp(h2*(S - T)))/(h2 * (np.exp(h1*(S - T)) - 1) + h1))**h3\n",
    "    B = (np.exp(h1*(S - T)) - 1)/(h2 * (np.exp(h1*(S - T)) - 1) + h1)\n",
    "    \n",
    "    theta = np.sqrt(kappa**2 + 2*sigma**2)\n",
    "    phi = (2 * theta)/(sigma**2 * (np.exp(theta*(T - 0)) - 1))\n",
    "    si = (kappa + theta)/sigma**2\n",
    "    r_star = np.log(A/K)/B\n",
    "    \n",
    "    C = (PS* ncx2.cdf(2*r_star*(phi + si + B), (4*kappa*r_bar)/(sigma**2), (2*phi**2 * r0 * np.exp(theta*(T-0)))\n",
    "                      /(phi + si + B))\n",
    "                        - K * PT * ncx2.cdf(2*r_star*(phi + si), \n",
    "                                            (4*kappa*r_bar)/(sigma**2), \n",
    "                                            (2*phi**2 * r0 * np.exp(theta*(T-0)))/(phi + si)))\n",
    "    C = FV*C\n",
    "\n",
    "    return C"
   ]
  },
  {
   "cell_type": "code",
   "execution_count": 36,
   "id": "f59fe0d6",
   "metadata": {
    "ExecuteTime": {
     "end_time": "2022-05-29T21:58:45.904092Z",
     "start_time": "2022-05-29T21:58:45.889901Z"
    }
   },
   "outputs": [],
   "source": [
    "price_cir_ex = CIR_Explict(r0=r0,T=T,t=0,path=10,S=S,K=980)"
   ]
  },
  {
   "cell_type": "code",
   "execution_count": 37,
   "id": "90e6be98",
   "metadata": {
    "ExecuteTime": {
     "end_time": "2022-05-29T21:58:46.894985Z",
     "start_time": "2022-05-29T21:58:46.890613Z"
    }
   },
   "outputs": [
    {
     "name": "stdout",
     "output_type": "stream",
     "text": [
      "The Pure Discount Bond price of CIR with Explicit Method is $0.3941\n"
     ]
    }
   ],
   "source": [
    "print(f\"The Pure Discount Bond price of CIR with Explicit Method is ${round(price_cir_ex,4)}\")"
   ]
  },
  {
   "cell_type": "markdown",
   "id": "c86c8475",
   "metadata": {},
   "source": [
    "## 3. G2++ model"
   ]
  },
  {
   "cell_type": "code",
   "execution_count": 54,
   "id": "86f02990",
   "metadata": {
    "ExecuteTime": {
     "end_time": "2022-05-29T22:01:15.175798Z",
     "start_time": "2022-05-29T22:01:15.170292Z"
    }
   },
   "outputs": [],
   "source": [
    "x0 = 0\n",
    "y0 = 0 \n",
    "phi_0 = 0.03 \n",
    "r0 = 0.03\n",
    "rho =0.7\n",
    "a = 0.1\n",
    "b = 0.3\n",
    "sigma =0.03\n",
    "eta = 0.08\n",
    "phi_t = 0.03\n",
    "\n",
    "K = 950\n",
    "T = 0.5\n",
    "S = 1\n",
    "FV = 1000"
   ]
  },
  {
   "cell_type": "code",
   "execution_count": 55,
   "id": "d464bac2",
   "metadata": {
    "ExecuteTime": {
     "end_time": "2022-05-29T22:01:17.560860Z",
     "start_time": "2022-05-29T22:01:17.553462Z"
    }
   },
   "outputs": [],
   "source": [
    "def bivariate_normal(rho):\n",
    "    \n",
    "    z1 = np.random.normal(0,1, 1)\n",
    "    z2 = np.random.normal(0,1, 1)\n",
    "    \n",
    "    Z1 = z1\n",
    "    Z2 = rho*z1+np.sqrt(1-rho**2)*z2\n",
    "    \n",
    "    return Z1[0],Z2[0]\n",
    "# bivariate_normal(rho)"
   ]
  },
  {
   "cell_type": "code",
   "execution_count": 56,
   "id": "26353fe7",
   "metadata": {
    "ExecuteTime": {
     "end_time": "2022-05-29T22:02:03.051662Z",
     "start_time": "2022-05-29T22:02:03.040114Z"
    }
   },
   "outputs": [],
   "source": [
    "def G2_r(x0,y0,rho,T,t,path):\n",
    "    \n",
    "    steps = int(365*(T-t))\n",
    "    dt = T/steps\n",
    "    \n",
    "    x = np.zeros((path,steps+1))\n",
    "    y = np.zeros((path,steps+1))\n",
    "    r = np.zeros((path,steps+1))\n",
    "    \n",
    "    x[:,0] = x0\n",
    "    y[:,0] = y0\n",
    "    \n",
    "    \n",
    "    for i in range(1,steps+1):\n",
    "        dw = bivariate_normal(rho)\n",
    "        dw1 = dw[0]\n",
    "        dw2 = dw[1]\n",
    "        x[:,i] = x[:,i-1] -a*x[:,i-1]*dt + sigma*np.sqrt(dt)*dw1\n",
    "        y[:,i] = x[:,i-1] -b*y[:,i-1]*dt + eta*np.sqrt(dt)*dw2\n",
    "    \n",
    "    r = x + y + phi_t   \n",
    "    \n",
    "    return r,x,y\n",
    "# G2_r(x0,y0,rho,T,t,10)"
   ]
  },
  {
   "cell_type": "code",
   "execution_count": 57,
   "id": "39d2282e",
   "metadata": {
    "ExecuteTime": {
     "end_time": "2022-05-29T22:02:06.894313Z",
     "start_time": "2022-05-29T22:02:06.887580Z"
    }
   },
   "outputs": [],
   "source": [
    "def PureDiscountBondG2(t, T, FV,path,rho,x0,y0):\n",
    "\n",
    "    steps = int(365*(T-t))\n",
    "    dt = T/steps\n",
    "\n",
    "    r = G2_r(x0,y0,rho,T,t,path)[0]\n",
    "    \n",
    "    Euler = np.zeros(path)\n",
    "    \n",
    "    for i in range(path):\n",
    "        Euler[i] = -sum(r[i,1:]*dt)\n",
    "        \n",
    "    price = np.mean(FV*np.exp(Euler))\n",
    "    \n",
    "    return price\n",
    "# PureDiscountBondG2(t, T, FV,10,rho)"
   ]
  },
  {
   "cell_type": "code",
   "execution_count": 58,
   "id": "8a9eaf2e",
   "metadata": {
    "ExecuteTime": {
     "end_time": "2022-05-29T22:02:07.435647Z",
     "start_time": "2022-05-29T22:02:07.420838Z"
    },
    "code_folding": []
   },
   "outputs": [],
   "source": [
    "def G2_MC(t, T, S, FV,path,rho,x0,y0):\n",
    "    \n",
    "    steps = int(365*(T-t))\n",
    "    dt = T/steps\n",
    "\n",
    "    r,x,y = G2_r(x0,y0,rho,T,t,path)[0],G2_r(x0,y0,rho,T,t,path)[1],G2_r(x0,y0,rho,T,t,path)[2]\n",
    "    \n",
    "    p = np.zeros(path)\n",
    "    for i in range(path):\n",
    "        p[i] = PureDiscountBondG2(t=T, T=S, FV=FV,path=path,rho=rho,x0=x[:,-1],y0=y[:,-1])\n",
    "    \n",
    "    payoff = np.maximum(K-p,0)\n",
    "    \n",
    "    Euler = np.zeros(path)\n",
    "    \n",
    "    for i in range(path):\n",
    "        Euler[i] = -sum(r[i,1:]*dt)\n",
    "    \n",
    "    price = np.mean(payoff*np.exp(Euler))\n",
    "    # dicount price at T=0.5 to t=0\n",
    "    price *= np.exp(-r0*(T-t))\n",
    "\n",
    "    return price"
   ]
  },
  {
   "cell_type": "code",
   "execution_count": 66,
   "id": "9c5dea18",
   "metadata": {
    "ExecuteTime": {
     "end_time": "2022-05-29T22:03:02.593429Z",
     "start_time": "2022-05-29T22:02:42.171350Z"
    },
    "code_folding": []
   },
   "outputs": [],
   "source": [
    "g2_mc = G2_MC(t, T,S, FV,1000,rho,x0,y0)"
   ]
  },
  {
   "cell_type": "code",
   "execution_count": 67,
   "id": "f8e9b284",
   "metadata": {
    "ExecuteTime": {
     "end_time": "2022-05-29T22:03:02.596394Z",
     "start_time": "2022-05-29T22:03:02.594654Z"
    }
   },
   "outputs": [
    {
     "name": "stdout",
     "output_type": "stream",
     "text": [
      "The Put Option Price of G2 model by Monte Carlo Simulation is $1.2035\n"
     ]
    }
   ],
   "source": [
    "print(f\"The Put Option Price of G2 model by Monte Carlo Simulation is ${round(g2_mc,4)}\")"
   ]
  },
  {
   "cell_type": "code",
   "execution_count": 61,
   "id": "fb24d3df",
   "metadata": {
    "ExecuteTime": {
     "end_time": "2022-05-29T22:02:32.403959Z",
     "start_time": "2022-05-29T22:02:32.388384Z"
    }
   },
   "outputs": [],
   "source": [
    "def G2_ZCB_Explicit(t,T,a,b,sigma,rho,eta,FV):\n",
    "    \n",
    "    part1 = (sigma**2/ a**2)*( T - t \n",
    "                              + (2/a)*np.exp(-a*(T - t)) \n",
    "                              - (1/(2*a)) *np.exp(-2*a*(T - t)) \n",
    "                              - (3/(2*a))) \n",
    "    \n",
    "    part2 = (eta**2/b**2) *(T - t \n",
    "                            + (2/b)*np.exp(-b * (T - t)) \n",
    "                            - (1/(2*b)) *np.exp(-2 * b * (T - t)) \n",
    "                            - (3/(2 * b)))\n",
    "        \n",
    "    part3 = 2*rho*(sigma*eta)/(a*b)*(T - t \n",
    "                                     + (np.exp(-a*(T - t)) - 1)/a \n",
    "                                     + (np.exp(-b*(T - t)) - 1)/b \n",
    "                                     -(np.exp(-(a + b)*(T - t))-1)/(a + b))\n",
    "    total = part1 + part2 + part3\n",
    "    \n",
    "    P = np.exp(-phi*(T - t) \n",
    "               - ((1 - np.exp(-a * (T - t)))/a) * x0 \n",
    "               - ((1 - np.exp(-b * (T - t))/b)*y0) \n",
    "               + (1/2)* total) * FV\n",
    "    \n",
    "    return P\n",
    "# G2_ZCB_Explicit(t,T,a,b,sigma,rho,eta,FV)"
   ]
  },
  {
   "cell_type": "code",
   "execution_count": 62,
   "id": "fc77ad09",
   "metadata": {
    "ExecuteTime": {
     "end_time": "2022-05-29T22:02:32.799215Z",
     "start_time": "2022-05-29T22:02:32.783761Z"
    }
   },
   "outputs": [],
   "source": [
    "def G2_EuroPut_Explicit(t,T,S,a,b,sigma,rho,eta,FV,K):\n",
    "    \n",
    "    K /= FV\n",
    "    \n",
    "    part1 = sigma**2/(2* a**3)*(1 - np.exp(-a * (S - T)))**2 * (1 - np.exp(-2 *a *(T - t)))\n",
    "    \n",
    "    part2 = eta**2/(2*b**3)*(1 - np.exp(-b* (S - T)))**2*(1 - np.exp(-2*b*(T - t)))\n",
    "    \n",
    "    part3 = (2 *rho *sigma *eta/(a*b*(a + b))*(1-np.exp(-a*(S - T)))*(1 - np.exp(-b*(S - T)))*(1 -np.exp(-(a + b)\n",
    "                                                                                                         *(T - t))))\n",
    "    \n",
    "    total = np.sqrt(part1 + part2 + part3)\n",
    "\n",
    "    PS = G2_ZCB_Explicit(0,S,a,b,sigma,rho,eta,FV)\n",
    "    PT = G2_ZCB_Explicit(0,T,a,b,sigma,rho,eta,FV)\n",
    "    \n",
    "    price = (-PS*scipy.stats.norm.cdf(np.log(K*PT/PS)/total - total/2) \n",
    "           + PT*K*scipy.stats.norm.cdf(np.log(K*PT/PS)/total +total/2))\n",
    "    \n",
    "    return price"
   ]
  },
  {
   "cell_type": "code",
   "execution_count": 63,
   "id": "f1429086",
   "metadata": {
    "ExecuteTime": {
     "end_time": "2022-05-29T22:02:33.610985Z",
     "start_time": "2022-05-29T22:02:33.602906Z"
    }
   },
   "outputs": [],
   "source": [
    "price_g2_ex = G2_EuroPut_Explicit(0,0.5,1,a,b,sigma,rho,eta,FV,K)"
   ]
  },
  {
   "cell_type": "code",
   "execution_count": 64,
   "id": "d2fe8bcf",
   "metadata": {
    "ExecuteTime": {
     "end_time": "2022-05-29T22:02:33.909357Z",
     "start_time": "2022-05-29T22:02:33.900392Z"
    }
   },
   "outputs": [
    {
     "name": "stdout",
     "output_type": "stream",
     "text": [
      "The Put Option Price of G2 model by Explicit Method is $1.861\n"
     ]
    }
   ],
   "source": [
    "print(f\"The Put Option Price of G2 model by Explicit Method is ${round(price_g2_ex,4)}\")"
   ]
  }
 ],
 "metadata": {
  "kernelspec": {
   "display_name": "Python 3 (ipykernel)",
   "language": "python",
   "name": "python3"
  },
  "language_info": {
   "codemirror_mode": {
    "name": "ipython",
    "version": 3
   },
   "file_extension": ".py",
   "mimetype": "text/x-python",
   "name": "python",
   "nbconvert_exporter": "python",
   "pygments_lexer": "ipython3",
   "version": "3.9.7"
  },
  "latex_envs": {
   "LaTeX_envs_menu_present": true,
   "autoclose": false,
   "autocomplete": true,
   "bibliofile": "biblio.bib",
   "cite_by": "apalike",
   "current_citInitial": 1,
   "eqLabelWithNumbers": true,
   "eqNumInitial": 1,
   "hotkeys": {
    "equation": "Ctrl-E",
    "itemize": "Ctrl-I"
   },
   "labels_anchors": false,
   "latex_user_defs": false,
   "report_style_numbering": false,
   "user_envs_cfg": false
  }
 },
 "nbformat": 4,
 "nbformat_minor": 5
}
