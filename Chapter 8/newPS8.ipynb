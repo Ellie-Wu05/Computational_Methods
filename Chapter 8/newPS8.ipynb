{
 "cells": [
  {
   "cell_type": "code",
   "execution_count": 183,
   "id": "4680714b",
   "metadata": {
    "ExecuteTime": {
     "end_time": "2022-05-29T21:48:53.995542Z",
     "start_time": "2022-05-29T21:48:53.960037Z"
    }
   },
   "outputs": [],
   "source": [
    "import numpy as np\n",
    "import matplotlib.pyplot as plt\n",
    "import seaborn as sns\n",
    "import pandas as pd\n",
    "from scipy.stats import norm\n",
    "import scipy.stats\n",
    "from scipy.stats import ncx2\n",
    "\n",
    "new_line = '\\n'\n",
    "pd.options.mode.chained_assignment = None \n",
    "import warnings\n",
    "warnings.filterwarnings('ignore')\n",
    "\n",
    "sns.set(font_scale=1.5, rc={'text.usetex' : True,})\n",
    "%config InlineBackend.figure_format='retina'"
   ]
  },
  {
   "cell_type": "markdown",
   "id": "728756f6",
   "metadata": {},
   "source": [
    "## 1 Vasicek model\n",
    "$ dr_t =\\kappa ( \\bar{r} - r)dt+\\sigma dW$"
   ]
  },
  {
   "cell_type": "code",
   "execution_count": 184,
   "id": "49b2ec4e",
   "metadata": {
    "ExecuteTime": {
     "end_time": "2022-05-29T21:48:54.510312Z",
     "start_time": "2022-05-29T21:48:54.505960Z"
    }
   },
   "outputs": [],
   "source": [
    "r0 = 0.05\n",
    "sigma = 0.1\n",
    "kappa = 0.82\n",
    "r_bar = 0.05"
   ]
  },
  {
   "cell_type": "code",
   "execution_count": 213,
   "id": "90bba032",
   "metadata": {
    "ExecuteTime": {
     "end_time": "2022-05-29T21:54:32.116669Z",
     "start_time": "2022-05-29T21:54:32.108015Z"
    }
   },
   "outputs": [],
   "source": [
    "def Vasicek_R(T,t,path,r0,kappa,r_bar,sigma):\n",
    "    \n",
    "#     np.random.seed(100)\n",
    "    \n",
    "    steps = int((T-t)*360)\n",
    "    dt = (T-t) / steps\n",
    "    rt = np.zeros((path,steps+1))\n",
    "    rt[:,0] = r0\n",
    "    for i in range(1,steps+1):\n",
    "        dWt = np.random.normal(0,1,path)\n",
    "        rt[:,i] = rt[:,i-1] + kappa*(r_bar - rt[:,i-1])*dt + sigma * np.sqrt(dt) * dWt\n",
    "        \n",
    "    return rt"
   ]
  },
  {
   "cell_type": "code",
   "execution_count": 214,
   "id": "e00775b2",
   "metadata": {
    "ExecuteTime": {
     "end_time": "2022-05-29T21:54:32.347557Z",
     "start_time": "2022-05-29T21:54:32.337153Z"
    }
   },
   "outputs": [],
   "source": [
    "def ZeroCouponBond(T,t,path,r0,kappa,r_bar,sigma,FaceValue):\n",
    "    \n",
    "    steps = int((T-t)*360)\n",
    "    dt = (T-t) / steps\n",
    "    rt = Vasicek_R(T,t,path,r0,kappa,r_bar,sigma)\n",
    "    \n",
    "    disc = np.exp( - np.sum(rt,axis=1) * dt)\n",
    "    price = np.mean(disc * FaceValue ) \n",
    "    \n",
    "    return price"
   ]
  },
  {
   "cell_type": "markdown",
   "id": "d3d94083",
   "metadata": {},
   "source": [
    "### (a)  Monte Carlo Simulation for pure discount bond, with Face Value of $1,000, maturing in 𝑇 = 0.5 years"
   ]
  },
  {
   "cell_type": "code",
   "execution_count": 215,
   "id": "f379b8cb",
   "metadata": {
    "ExecuteTime": {
     "end_time": "2022-05-29T21:54:33.030423Z",
     "start_time": "2022-05-29T21:54:33.003747Z"
    }
   },
   "outputs": [],
   "source": [
    "T = 0.5\n",
    "t=0\n",
    "FV=1000\n",
    "\n",
    "price_a = ZeroCouponBond(T=T,t=t,path=1000,r0=r0,kappa=kappa,r_bar=r_bar,sigma=sigma,FaceValue=FV)"
   ]
  },
  {
   "cell_type": "code",
   "execution_count": 216,
   "id": "031d8dcc",
   "metadata": {
    "ExecuteTime": {
     "end_time": "2022-05-29T21:54:33.327169Z",
     "start_time": "2022-05-29T21:54:33.320111Z"
    }
   },
   "outputs": [
    {
     "name": "stdout",
     "output_type": "stream",
     "text": [
      "Monte Carlo Simulation for pure discount bond is 975.2247\n"
     ]
    }
   ],
   "source": [
    "print(f\"Monte Carlo Simulation for pure discount bond is {round(price_a,4)}\")"
   ]
  },
  {
   "cell_type": "markdown",
   "id": "51ff2876",
   "metadata": {},
   "source": [
    "### (b) Monte Carlo Simulation to find the price of a coupon-paying bond, with Face Value of 1,000, paying semiannual coupons of 30, maturing in T = 4 years"
   ]
  },
  {
   "cell_type": "code",
   "execution_count": 217,
   "id": "e9d97ddc",
   "metadata": {
    "ExecuteTime": {
     "end_time": "2022-05-29T21:54:34.014825Z",
     "start_time": "2022-05-29T21:54:34.005376Z"
    }
   },
   "outputs": [],
   "source": [
    "T=4\n",
    "coupon = np.append(np.repeat(30,7),1030)\n",
    "time = np.arange(0.5,4.5,0.5)\n",
    "\n",
    "def CPB(T,t,path,r0,kappa,r_bar,sigma,FaceValue):\n",
    "    \n",
    "    price = 0\n",
    "    for i in range(len(coupon)):\n",
    "        \n",
    "        p= ZeroCouponBond(T=t[i],t=0,path=path,r0=r0,kappa=kappa,r_bar=r_bar,sigma=sigma,FaceValue=FaceValue[i])\n",
    "        price += p\n",
    "   \n",
    "    return price"
   ]
  },
  {
   "cell_type": "code",
   "execution_count": 218,
   "id": "0d3d0b27",
   "metadata": {
    "ExecuteTime": {
     "end_time": "2022-05-29T21:54:34.601845Z",
     "start_time": "2022-05-29T21:54:34.270220Z"
    }
   },
   "outputs": [],
   "source": [
    "price_b = CPB(T=T,t=time,path=1000,r0=r0,kappa=kappa,r_bar=r_bar,sigma=sigma,FaceValue=coupon)"
   ]
  },
  {
   "cell_type": "code",
   "execution_count": 219,
   "id": "ad344b49",
   "metadata": {
    "ExecuteTime": {
     "end_time": "2022-05-29T21:54:34.605010Z",
     "start_time": "2022-05-29T21:54:34.603054Z"
    }
   },
   "outputs": [
    {
     "name": "stdout",
     "output_type": "stream",
     "text": [
      "Monte Carlo Simulation for a coupon-paying bond is 1039.3391\n"
     ]
    }
   ],
   "source": [
    "print(f\"Monte Carlo Simulation for a coupon-paying bond is {round(price_b,4)}\")"
   ]
  },
  {
   "cell_type": "markdown",
   "id": "d6b62946",
   "metadata": {},
   "source": [
    "### (c) Use Monte Carlo Simulation to find the price of a European Call Option on the Pure Discount Bond of part (a). The option expires in 3 months and has a strike price of K = 980. Use the explicit formula for the underlying bond price (use explicit formula only for the bond price).\n"
   ]
  },
  {
   "cell_type": "code",
   "execution_count": 220,
   "id": "728cbaa1",
   "metadata": {
    "ExecuteTime": {
     "end_time": "2022-05-29T21:54:35.444404Z",
     "start_time": "2022-05-29T21:54:35.435196Z"
    }
   },
   "outputs": [],
   "source": [
    "def BondPrice_Explicit(kappa,T,t,r_bar,sigma,rt):\n",
    "    \"\"\"\n",
    "    Bond price using explicit formula\n",
    "    \"\"\"\n",
    "    \n",
    "    B = 1/kappa * (1- np.exp(-kappa*(T-t)))\n",
    "    A = np.exp((r_bar - sigma**2/(2*kappa**2))*(B-(T-t)) - sigma**2/(4*kappa)*B**2)\n",
    "    \n",
    "    return A*np.exp(-B*rt)"
   ]
  },
  {
   "cell_type": "code",
   "execution_count": 236,
   "id": "105212e8",
   "metadata": {
    "ExecuteTime": {
     "end_time": "2022-05-29T21:55:06.847435Z",
     "start_time": "2022-05-29T21:55:06.839456Z"
    }
   },
   "outputs": [],
   "source": [
    "def EuroCall_ZCP(kappa,T,t,r_bar,sigma,path,r0,FaceValue,K):\n",
    "    \n",
    "    steps = int((T-t)*360)\n",
    "    dt = (T-t) / steps\n",
    "    rt = Vasicek_R(T=T,t=t,path=path,r0=r0,kappa=kappa,r_bar=r_bar,sigma=sigma)\n",
    "    rt = rt[:,-1]\n",
    "    \n",
    "    bondp = BondPrice_Explicit(kappa=kappa,T=T,t=t,r_bar=r_bar,sigma=sigma,rt=rt)\n",
    "    bondp = bondp * FaceValue\n",
    "    \n",
    "    payoff = np.maximum(bondp - K,0)\n",
    "    price = np.mean(payoff)\n",
    "    \n",
    "    return price"
   ]
  },
  {
   "cell_type": "code",
   "execution_count": 237,
   "id": "5bc79ce8",
   "metadata": {
    "ExecuteTime": {
     "end_time": "2022-05-29T21:55:07.088953Z",
     "start_time": "2022-05-29T21:55:07.068819Z"
    }
   },
   "outputs": [],
   "source": [
    "K = 980\n",
    "T = 0.5\n",
    "t = 3/12\n",
    "price_c = EuroCall_ZCP(T=T,t=t,path=1000,r0=r0,kappa=kappa,r_bar=r_bar,sigma=sigma,FaceValue=FV,K=K)"
   ]
  },
  {
   "cell_type": "code",
   "execution_count": 238,
   "id": "8be111c2",
   "metadata": {
    "ExecuteTime": {
     "end_time": "2022-05-29T21:55:07.309281Z",
     "start_time": "2022-05-29T21:55:07.303231Z"
    }
   },
   "outputs": [
    {
     "name": "stdout",
     "output_type": "stream",
     "text": [
      "Monte Carlo Simulation of European call for a zero coupon bond with explicit method is 9.1768\n"
     ]
    }
   ],
   "source": [
    "print(f\"Monte Carlo Simulation of European call for a zero coupon bond with explicit method is {round(price_c,4)}\")"
   ]
  },
  {
   "cell_type": "markdown",
   "id": "d7e094b0",
   "metadata": {},
   "source": [
    "### (d) Use Monte Carlo Simulation to find the price of a European Call Option on the coupon-paying bond in part (b). The option expires in 3 months and has a strike price of 𝐾 = 980. Use Monte Carlo simulation for pricing the underlying bond (no explicit formula can be used in this part)."
   ]
  },
  {
   "cell_type": "code",
   "execution_count": 224,
   "id": "eb25761c",
   "metadata": {
    "ExecuteTime": {
     "end_time": "2022-05-29T21:54:36.909540Z",
     "start_time": "2022-05-29T21:54:36.902124Z"
    }
   },
   "outputs": [],
   "source": [
    "T=4\n",
    "coupon = np.append(np.repeat(30,7),1030)\n",
    "time = np.arange(0.5,4.5,0.5)\n",
    "\n",
    "def EuroCall_CPB(T,t,path,r0,kappa,r_bar,sigma,FaceValue,K):\n",
    "    \n",
    "    price = 0\n",
    "    for i in range(len(coupon)):\n",
    "        \n",
    "        p= ZeroCouponBond(T=t[i],t=0,path=path,r0=r0,kappa=kappa,r_bar=r_bar,sigma=sigma,FaceValue=FaceValue[i])\n",
    "        price += p\n",
    "        \n",
    "    price = np.maximum(price-K,0)\n",
    "   \n",
    "    return price\n"
   ]
  },
  {
   "cell_type": "code",
   "execution_count": 232,
   "id": "31181939",
   "metadata": {
    "ExecuteTime": {
     "end_time": "2022-05-29T21:54:53.792460Z",
     "start_time": "2022-05-29T21:54:53.475091Z"
    }
   },
   "outputs": [
    {
     "data": {
      "text/plain": [
       "60.63548007430518"
      ]
     },
     "execution_count": 232,
     "metadata": {},
     "output_type": "execute_result"
    }
   ],
   "source": [
    "K=980\n",
    "\n",
    "EuroCall_CPB(T=T,t=time,path=1000,r0=r0,kappa=kappa,r_bar=r_bar,sigma=sigma,FaceValue=coupon,K=980)"
   ]
  },
  {
   "cell_type": "markdown",
   "id": "4e0b3c5e",
   "metadata": {},
   "source": [
    "### (e) Find the price of a European Call option of part (d) by using the explicit formula for the underlying bond price, and reconcile the findings here with the ones of part (d)."
   ]
  },
  {
   "cell_type": "code",
   "execution_count": null,
   "id": "e9470d40",
   "metadata": {},
   "outputs": [],
   "source": []
  },
  {
   "cell_type": "markdown",
   "id": "0b6d0557",
   "metadata": {},
   "source": [
    "## 2 CIR Model\n",
    "\n",
    "$ dr =\\kappa(\\bar{r}-r)dt+\\sigma\\sqrt{r}dW $"
   ]
  },
  {
   "cell_type": "code",
   "execution_count": null,
   "id": "c8d95691",
   "metadata": {},
   "outputs": [],
   "source": []
  },
  {
   "cell_type": "markdown",
   "id": "bb4910f0",
   "metadata": {},
   "source": [
    "### (a) Use Monte Carlo Simulation to find at time t = 0 the price c(t, T, S) of a European Call option, with strike price of K = 980 and expiration in T = 0.5 years on a Pure Discount Bond with Face Value of 1,000, that matures in S = 1 year:"
   ]
  },
  {
   "cell_type": "code",
   "execution_count": null,
   "id": "5aa21ab2",
   "metadata": {},
   "outputs": [],
   "source": []
  },
  {
   "cell_type": "markdown",
   "id": "0428a70c",
   "metadata": {},
   "source": [
    "### (b)  Use the Implicit Finite-Difference Method to find at time t = 0 the price c(t, T, S) of a European Call option, with strike price of S = 980 and expiration in T = 0.5 years on a Pure Discount Bond with Face Value of 1,000, which matures in S = 1 year. "
   ]
  },
  {
   "cell_type": "code",
   "execution_count": null,
   "id": "fa43ab63",
   "metadata": {},
   "outputs": [],
   "source": []
  },
  {
   "cell_type": "markdown",
   "id": "bcdecbfc",
   "metadata": {},
   "source": [
    "### (c) Compute the price c(t, T, S) of the European Call option above using the explicit formula, and compare it to your findings in parts (a) and (b) and comment on your findings."
   ]
  },
  {
   "cell_type": "code",
   "execution_count": null,
   "id": "9f34882d",
   "metadata": {},
   "outputs": [],
   "source": []
  },
  {
   "cell_type": "markdown",
   "id": "52a406c2",
   "metadata": {},
   "source": [
    "## 3. G2++ model"
   ]
  }
 ],
 "metadata": {
  "kernelspec": {
   "display_name": "Python 3 (ipykernel)",
   "language": "python",
   "name": "python3"
  },
  "language_info": {
   "codemirror_mode": {
    "name": "ipython",
    "version": 3
   },
   "file_extension": ".py",
   "mimetype": "text/x-python",
   "name": "python",
   "nbconvert_exporter": "python",
   "pygments_lexer": "ipython3",
   "version": "3.9.7"
  },
  "latex_envs": {
   "LaTeX_envs_menu_present": true,
   "autoclose": false,
   "autocomplete": true,
   "bibliofile": "biblio.bib",
   "cite_by": "apalike",
   "current_citInitial": 1,
   "eqLabelWithNumbers": true,
   "eqNumInitial": 1,
   "hotkeys": {
    "equation": "Ctrl-E",
    "itemize": "Ctrl-I"
   },
   "labels_anchors": false,
   "latex_user_defs": false,
   "report_style_numbering": false,
   "user_envs_cfg": false
  }
 },
 "nbformat": 4,
 "nbformat_minor": 5
}
