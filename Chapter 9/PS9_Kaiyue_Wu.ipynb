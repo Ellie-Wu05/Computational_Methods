{
 "cells": [
  {
   "cell_type": "markdown",
   "id": "32c75b81",
   "metadata": {},
   "source": [
    "# Problem Set 9_Kaiyue Wu"
   ]
  },
  {
   "cell_type": "code",
   "execution_count": 1,
   "id": "28cbfec7",
   "metadata": {
    "ExecuteTime": {
     "end_time": "2022-06-04T00:32:05.438765Z",
     "start_time": "2022-06-04T00:32:03.193908Z"
    }
   },
   "outputs": [],
   "source": [
    "import numpy as np\n",
    "import matplotlib.pyplot as plt\n",
    "import seaborn as sns\n",
    "import pandas as pd\n",
    "from scipy.stats import norm\n",
    "import scipy.stats\n",
    "from scipy.stats import ncx2\n",
    "import math\n",
    "from scipy.optimize import newton\n",
    "from scipy.optimize import fsolve\n",
    "\n",
    "new_line = '\\n'\n",
    "pd.options.mode.chained_assignment = None \n",
    "import warnings\n",
    "warnings.filterwarnings('ignore')\n",
    "\n",
    "sns.set(font_scale=1.5, rc={'text.usetex' : True,})\n",
    "%config InlineBackend.figure_format='retina'"
   ]
  },
  {
   "cell_type": "markdown",
   "id": "6cc73022",
   "metadata": {},
   "source": [
    "**Consider a 30-year MBS with a fixed WAC = 8% (monthly cash flows starting in January\n",
    "of this year). The Notional Amount of the Loan is 100,000.Use the CIR model of interest rates:**\n",
    "\n",
    "$dr = \\kappa(\\bar{r}-r)dt + \\sigma\\sqrt{r}dW$\n",
    "\n",
    "with $r = 0.078, k =0.6,\\bar{r}=0.08,\\sigma = 0.12 $\n",
    "\n",
    "**Consider the Numerix Prepayment Model in all problems below.**\n"
   ]
  },
  {
   "cell_type": "code",
   "execution_count": 2,
   "id": "a12451d6",
   "metadata": {
    "ExecuteTime": {
     "end_time": "2022-06-04T00:32:05.441790Z",
     "start_time": "2022-06-04T00:32:05.440036Z"
    }
   },
   "outputs": [],
   "source": [
    "r0 = 0.078\n",
    "kappa = 0.6\n",
    "r_bar = 0.08\n",
    "sigma = 0.12\n",
    "year = 30\n",
    "WAC = 0.08\n",
    "NotionalAmt = 100000"
   ]
  },
  {
   "cell_type": "code",
   "execution_count": 3,
   "id": "44031c27",
   "metadata": {
    "ExecuteTime": {
     "end_time": "2022-06-04T00:32:05.445383Z",
     "start_time": "2022-06-04T00:32:05.442585Z"
    },
    "code_folding": []
   },
   "outputs": [],
   "source": [
    "def CIR_R(path,r0,T,t,r_bar):\n",
    "    \n",
    "    np.random.seed(0)\n",
    "    \n",
    "    dt = 1/120\n",
    "    steps = int(round(T/dt))\n",
    "    r = np.zeros((path,steps+1))\n",
    "    r[:,0] = r0\n",
    "    \n",
    "    for i in range(1,steps+1):\n",
    "        dWt = np.sqrt(dt)*np.random.normal(0,1,path)\n",
    "        r[:,i] = r[:,i-1] + kappa*(r_bar - r[:,i-1])*dt + sigma*np.sqrt(np.abs(r[:,i-1]))*dWt\n",
    "        \n",
    "    return r"
   ]
  },
  {
   "cell_type": "code",
   "execution_count": 4,
   "id": "28a4636a",
   "metadata": {
    "ExecuteTime": {
     "end_time": "2022-06-04T00:32:05.450030Z",
     "start_time": "2022-06-04T00:32:05.446705Z"
    },
    "code_folding": []
   },
   "outputs": [],
   "source": [
    "def RF_10(kappa,sigma,r_bar,T,t,rt):\n",
    "    \n",
    "    T = 10\n",
    "    t = 0\n",
    "    h1 = np.sqrt(kappa**2 + 2*sigma**2)\n",
    "    h2 = (kappa + h1)/2\n",
    "    h3 = (2*kappa*r_bar)/sigma**2\n",
    "    \n",
    "    A = ((h1 * np.exp(h2*(T - t)))/(h2 * (np.exp(h1*(T - t)) - 1) + h1))**h3\n",
    "    B = (np.exp(h1*(T - t)) - 1)/(h2 * (np.exp(h1*(T - t)) - 1) + h1)\n",
    "    \n",
    "    r_tminus1_10 = -np.log(A*np.exp(-B*rt))/(T - t)\n",
    "    \n",
    "#     r_tminus1_10 = np.vectorize(r_tminus1_10)\n",
    "    return r_tminus1_10"
   ]
  },
  {
   "cell_type": "code",
   "execution_count": 5,
   "id": "5846f35f",
   "metadata": {
    "ExecuteTime": {
     "end_time": "2022-06-04T00:32:05.454582Z",
     "start_time": "2022-06-04T00:32:05.451047Z"
    },
    "code_folding": []
   },
   "outputs": [],
   "source": [
    "def SY(t):\n",
    "    \n",
    "    t = int(t%12)\n",
    "    SYt = np.array([0.94, 0.76, 0.74, 0.95, 0.98, 0.92, 0.98, 1.10, 1.18, 1.22, 1.23, 0.98])\n",
    "    \n",
    "    return SYt[t]\n",
    "    \n",
    "def CPR(kappa, sigma, r_bar, T, t, rt,R,PV_tminus1,PV0,SY):\n",
    "    r_tminus1_10 = RF_10(kappa, sigma, r_bar, T, t, rt)\n",
    "    RIt = 0.28 + 0.14*np.arctan(-8.57 + 430*(R - r_tminus1_10))\n",
    "    BUt = 0.3 + 0.7*PV_tminus1/PV0\n",
    "    SGt = min(1,t/30)\n",
    "    SYt = SY\n",
    "    \n",
    "    return RIt * BUt * SGt * SYt"
   ]
  },
  {
   "cell_type": "code",
   "execution_count": 6,
   "id": "9d3345c0",
   "metadata": {
    "ExecuteTime": {
     "end_time": "2022-06-04T00:32:05.458447Z",
     "start_time": "2022-06-04T00:32:05.455606Z"
    },
    "code_folding": [
     0,
     6,
     12,
     20,
     25
    ]
   },
   "outputs": [],
   "source": [
    "def IP(PV_tminus1,r):\n",
    "    \n",
    "    IPt = PV_tminus1*r\n",
    "    \n",
    "    return IPt\n",
    "    \n",
    "def SMM(CPR):\n",
    "    \n",
    "    SMMt = 1-(1-CPR)**(1/12)\n",
    "    \n",
    "    return SMMt\n",
    "\n",
    "def MP(PV_tminus1,r,N,t):\n",
    "    \n",
    "    temp = 1/((1+r)**(N-t+1))\n",
    "    \n",
    "    MPt = PV_tminus1 * r / (1-temp)\n",
    "    \n",
    "    return MPt\n",
    "\n",
    "def SP(MPt,IPt):\n",
    "    \n",
    "    SPt = MPt - IPt\n",
    "    \n",
    "    return SPt\n",
    "def PP(PV_tminus1,SPt,SMMt):\n",
    "    \n",
    "    PPt = (PV_tminus1 - SPt)*SMMt\n",
    "    \n",
    "    return PPt"
   ]
  },
  {
   "cell_type": "code",
   "execution_count": 7,
   "id": "219f56c0",
   "metadata": {
    "ExecuteTime": {
     "end_time": "2022-06-04T00:32:05.465526Z",
     "start_time": "2022-06-04T00:32:05.459307Z"
    }
   },
   "outputs": [],
   "source": [
    "def MBS(r0,kappa,r_bar,sigma,T,WAC,NotionalAmt,t,path):\n",
    "    \n",
    "    np.random.seed(0)\n",
    "    \n",
    "    dt = 1/120\n",
    "    N = 12*year\n",
    "    steps = int(round(T/dt))\n",
    "    r = WAC/12\n",
    "\n",
    "    rt = CIR_R(path=path,r0=r0,T=T,t=t,r_bar=r_bar)\n",
    "#     r_tminus1_10 = RF_10(kappa=kappa, sigma=sigma, r_bar=r_bar, T=T, t=t, rt=rt)\n",
    "    \n",
    "    PV = np.zeros((path,N))\n",
    "    R = np.zeros((path,N))\n",
    "    PV[:,0] = NotionalAmt\n",
    "    ct = np.zeros((path,N))\n",
    "    \n",
    "    for i in range(N):\n",
    "        R[:,i] =  np.sum(rt[:,1:(10*i + 11)],axis=1) * dt\n",
    "        r_tmin1 = rt[:, 10 * i]\n",
    "        SYt = SY(i)\n",
    "        PV_tminus1 = PV[:,i]\n",
    "        CPRt = CPR(kappa=kappa, sigma=sigma, r_bar=r_bar, T=T, t=i, rt=r_tmin1,R=WAC,PV_tminus1=PV_tminus1,PV0=NotionalAmt,SY=SYt)\n",
    "        \n",
    "        MPt = MP(PV_tminus1=PV_tminus1,r=r,N=N,t=i)\n",
    "        IPt = IP(PV_tminus1,r)\n",
    "        SPt = SP(MPt,IPt)\n",
    "        SMMt = SMM(CPRt)\n",
    "        PPt = PP(PV_tminus1,SPt,SMMt)\n",
    "        \n",
    "        ct[:,i] = MPt + PPt\n",
    "        \n",
    "        TPPt = SPt + PPt\n",
    "        \n",
    "        if i < (N-1):\n",
    "            PV[:, i+1] = PV[:,i] - TPPt\n",
    "    \n",
    "    disc = np.exp(-R)\n",
    "    \n",
    "    price = np.sum(np.multiply(disc, ct), axis=1)\n",
    "    price = np.mean(price)\n",
    "    \n",
    "    \n",
    "    return price"
   ]
  },
  {
   "cell_type": "code",
   "execution_count": 8,
   "id": "396d7f73",
   "metadata": {
    "ExecuteTime": {
     "end_time": "2022-06-04T00:32:05.886827Z",
     "start_time": "2022-06-04T00:32:05.466490Z"
    }
   },
   "outputs": [
    {
     "data": {
      "text/plain": [
       "100418.36488096791"
      ]
     },
     "execution_count": 8,
     "metadata": {},
     "output_type": "execute_result"
    }
   ],
   "source": [
    "MBS(r0=0.078,kappa=0.6,r_bar=0.08,sigma=0.12,T=30,WAC=0.08,NotionalAmt=100000,t=0,path=1000)"
   ]
  },
  {
   "cell_type": "markdown",
   "id": "fa6e2d8e",
   "metadata": {},
   "source": [
    "## 1."
   ]
  },
  {
   "cell_type": "markdown",
   "id": "a05bacbe",
   "metadata": {},
   "source": [
    "### (a) Compute the price of the MBS. The code should be generic: the user is prompted for inputs and the program runs and gives the output.\n"
   ]
  },
  {
   "cell_type": "code",
   "execution_count": 9,
   "id": "afeb668b",
   "metadata": {
    "ExecuteTime": {
     "end_time": "2022-06-04T00:32:07.353882Z",
     "start_time": "2022-06-04T00:32:06.906279Z"
    }
   },
   "outputs": [],
   "source": [
    "MBS_Price = MBS(r0=0.078,kappa=0.6,r_bar=0.08,sigma=0.12,T=30,WAC=0.08,NotionalAmt=100000,t=0,path=1000)"
   ]
  },
  {
   "cell_type": "code",
   "execution_count": 10,
   "id": "f8a5ff06",
   "metadata": {
    "ExecuteTime": {
     "end_time": "2022-06-04T00:32:07.361164Z",
     "start_time": "2022-06-04T00:32:07.355234Z"
    }
   },
   "outputs": [
    {
     "name": "stdout",
     "output_type": "stream",
     "text": [
      "The MBS price is 100418.3649\n"
     ]
    }
   ],
   "source": [
    "print(f\"The MBS price is {round(MBS_Price,4)}\")"
   ]
  },
  {
   "cell_type": "markdown",
   "id": "9f291891",
   "metadata": {},
   "source": [
    "### (b) Compute the price of the MBS for the following ranges of the parameters: k in 0.3 to 0.9 (in increments of 0.1) and draw the graph of the price of MBS vs. k.\n"
   ]
  },
  {
   "cell_type": "code",
   "execution_count": 11,
   "id": "a2ed82ca",
   "metadata": {
    "ExecuteTime": {
     "end_time": "2022-06-04T00:32:10.460245Z",
     "start_time": "2022-06-04T00:32:07.538723Z"
    }
   },
   "outputs": [],
   "source": [
    "ks  = np.array([0.3 + 0.1*i for i in range(7)])\n",
    "MBS_kappa = [MBS(r0=0.078,kappa=i,r_bar=0.08,sigma=0.12,T=30,WAC=0.08,NotionalAmt=100000,t=0,path=1000) for i in ks]"
   ]
  },
  {
   "cell_type": "code",
   "execution_count": 26,
   "id": "d2f74796",
   "metadata": {
    "ExecuteTime": {
     "end_time": "2022-06-04T00:34:29.956347Z",
     "start_time": "2022-06-04T00:34:29.941819Z"
    }
   },
   "outputs": [
    {
     "data": {
      "text/html": [
       "<div>\n",
       "<style scoped>\n",
       "    .dataframe tbody tr th:only-of-type {\n",
       "        vertical-align: middle;\n",
       "    }\n",
       "\n",
       "    .dataframe tbody tr th {\n",
       "        vertical-align: top;\n",
       "    }\n",
       "\n",
       "    .dataframe thead th {\n",
       "        text-align: right;\n",
       "    }\n",
       "</style>\n",
       "<table border=\"1\" class=\"dataframe\">\n",
       "  <thead>\n",
       "    <tr style=\"text-align: right;\">\n",
       "      <th></th>\n",
       "      <th>k</th>\n",
       "      <th>MBS</th>\n",
       "    </tr>\n",
       "  </thead>\n",
       "  <tbody>\n",
       "    <tr>\n",
       "      <th>0</th>\n",
       "      <td>0.3</td>\n",
       "      <td>100191.332559</td>\n",
       "    </tr>\n",
       "    <tr>\n",
       "      <th>1</th>\n",
       "      <td>0.4</td>\n",
       "      <td>100349.936148</td>\n",
       "    </tr>\n",
       "    <tr>\n",
       "      <th>2</th>\n",
       "      <td>0.5</td>\n",
       "      <td>100396.196404</td>\n",
       "    </tr>\n",
       "    <tr>\n",
       "      <th>3</th>\n",
       "      <td>0.6</td>\n",
       "      <td>100418.364881</td>\n",
       "    </tr>\n",
       "    <tr>\n",
       "      <th>4</th>\n",
       "      <td>0.7</td>\n",
       "      <td>100431.673114</td>\n",
       "    </tr>\n",
       "    <tr>\n",
       "      <th>5</th>\n",
       "      <td>0.8</td>\n",
       "      <td>100440.626103</td>\n",
       "    </tr>\n",
       "    <tr>\n",
       "      <th>6</th>\n",
       "      <td>0.9</td>\n",
       "      <td>100447.093347</td>\n",
       "    </tr>\n",
       "  </tbody>\n",
       "</table>\n",
       "</div>"
      ],
      "text/plain": [
       "     k            MBS\n",
       "0  0.3  100191.332559\n",
       "1  0.4  100349.936148\n",
       "2  0.5  100396.196404\n",
       "3  0.6  100418.364881\n",
       "4  0.7  100431.673114\n",
       "5  0.8  100440.626103\n",
       "6  0.9  100447.093347"
      ]
     },
     "execution_count": 26,
     "metadata": {},
     "output_type": "execute_result"
    }
   ],
   "source": [
    "pd.DataFrame(list(zip(ks,MBS_kappa)),columns=['k','MBS'])"
   ]
  },
  {
   "cell_type": "code",
   "execution_count": 12,
   "id": "fceb6c4c",
   "metadata": {
    "ExecuteTime": {
     "end_time": "2022-06-04T00:32:11.210923Z",
     "start_time": "2022-06-04T00:32:10.461453Z"
    }
   },
   "outputs": [
    {
     "data": {
      "image/png": "[encoded data removed]",
      "text/plain": [
       "<Figure size 432x288 with 1 Axes>"
      ]
     },
     "metadata": {
      "image/png": {
       "height": 274,
       "width": 406
      }
     },
     "output_type": "display_data"
    }
   ],
   "source": [
    "plt.figure()\n",
    "\n",
    "plt.plot(ks,MBS_kappa,marker='o')\n",
    "plt.xticks(ks)\n",
    "plt.title(\"MBS Price varying Kappa\")\n",
    "\n",
    "plt.show()"
   ]
  },
  {
   "cell_type": "markdown",
   "id": "8d2538de",
   "metadata": {},
   "source": [
    "### Compute the price of the MBS for the following ranges of the parameters: 𝑟̅ in 0.03 to 0.09 (in increments of 0.01) and draw the graph of MBS vs. 𝑟̅."
   ]
  },
  {
   "cell_type": "code",
   "execution_count": 13,
   "id": "19a0de03",
   "metadata": {
    "ExecuteTime": {
     "end_time": "2022-06-04T00:32:14.076565Z",
     "start_time": "2022-06-04T00:32:11.212140Z"
    }
   },
   "outputs": [],
   "source": [
    "r_bars =  np.array([0.03 + 0.01*i for i in range(7)])\n",
    "\n",
    "MBS_rbar = [MBS(r0=0.078,kappa=0.6,r_bar=i,sigma=0.12,T=30,WAC=0.08,NotionalAmt=100000,t=0,path=1000) for i in r_bars]"
   ]
  },
  {
   "cell_type": "code",
   "execution_count": 29,
   "id": "1d96f19b",
   "metadata": {
    "ExecuteTime": {
     "end_time": "2022-06-04T00:35:38.655977Z",
     "start_time": "2022-06-04T00:35:38.641178Z"
    }
   },
   "outputs": [
    {
     "data": {
      "text/html": [
       "<div>\n",
       "<style scoped>\n",
       "    .dataframe tbody tr th:only-of-type {\n",
       "        vertical-align: middle;\n",
       "    }\n",
       "\n",
       "    .dataframe tbody tr th {\n",
       "        vertical-align: top;\n",
       "    }\n",
       "\n",
       "    .dataframe thead th {\n",
       "        text-align: right;\n",
       "    }\n",
       "</style>\n",
       "<table border=\"1\" class=\"dataframe\">\n",
       "  <thead>\n",
       "    <tr style=\"text-align: right;\">\n",
       "      <th></th>\n",
       "      <th>r_bar</th>\n",
       "      <th>MBS</th>\n",
       "    </tr>\n",
       "  </thead>\n",
       "  <tbody>\n",
       "    <tr>\n",
       "      <th>0</th>\n",
       "      <td>0.03</td>\n",
       "      <td>111582.879995</td>\n",
       "    </tr>\n",
       "    <tr>\n",
       "      <th>1</th>\n",
       "      <td>0.04</td>\n",
       "      <td>109111.603774</td>\n",
       "    </tr>\n",
       "    <tr>\n",
       "      <th>2</th>\n",
       "      <td>0.05</td>\n",
       "      <td>106865.303909</td>\n",
       "    </tr>\n",
       "    <tr>\n",
       "      <th>3</th>\n",
       "      <td>0.06</td>\n",
       "      <td>105571.417424</td>\n",
       "    </tr>\n",
       "    <tr>\n",
       "      <th>4</th>\n",
       "      <td>0.07</td>\n",
       "      <td>105218.926582</td>\n",
       "    </tr>\n",
       "    <tr>\n",
       "      <th>5</th>\n",
       "      <td>0.08</td>\n",
       "      <td>100418.364881</td>\n",
       "    </tr>\n",
       "    <tr>\n",
       "      <th>6</th>\n",
       "      <td>0.09</td>\n",
       "      <td>95258.401828</td>\n",
       "    </tr>\n",
       "  </tbody>\n",
       "</table>\n",
       "</div>"
      ],
      "text/plain": [
       "   r_bar            MBS\n",
       "0   0.03  111582.879995\n",
       "1   0.04  109111.603774\n",
       "2   0.05  106865.303909\n",
       "3   0.06  105571.417424\n",
       "4   0.07  105218.926582\n",
       "5   0.08  100418.364881\n",
       "6   0.09   95258.401828"
      ]
     },
     "execution_count": 29,
     "metadata": {},
     "output_type": "execute_result"
    }
   ],
   "source": [
    "pd.DataFrame(list(zip(r_bars,MBS_rbar)),columns=['r_bar','MBS'])"
   ]
  },
  {
   "cell_type": "code",
   "execution_count": 14,
   "id": "526477ef",
   "metadata": {
    "ExecuteTime": {
     "end_time": "2022-06-04T00:32:14.940792Z",
     "start_time": "2022-06-04T00:32:14.078202Z"
    }
   },
   "outputs": [
    {
     "data": {
      "image/png": "[encoded data removed]",
      "text/plain": [
       "<Figure size 432x288 with 1 Axes>"
      ]
     },
     "metadata": {
      "image/png": {
       "height": 274,
       "width": 406
      }
     },
     "output_type": "display_data"
    }
   ],
   "source": [
    "plt.figure()\n",
    "\n",
    "plt.plot(r_bars,MBS_rbar,marker='o')\n",
    "plt.xticks(r_bars)\n",
    "plt.title(\"MBS Price varying R_Bar\")\n",
    "\n",
    "plt.show()"
   ]
  },
  {
   "cell_type": "markdown",
   "id": "3f2489f7",
   "metadata": {},
   "source": [
    "## 2. Compute the Option-Adjusted-Spread (OAS) if the Market Price of MBS is $102,000."
   ]
  },
  {
   "cell_type": "code",
   "execution_count": 15,
   "id": "9ebf9780",
   "metadata": {
    "ExecuteTime": {
     "end_time": "2022-06-04T00:32:14.947834Z",
     "start_time": "2022-06-04T00:32:14.942067Z"
    }
   },
   "outputs": [],
   "source": [
    "def MBS_OAS(r0,kappa,r_bar,sigma,T,WAC,NotionalAmt,t,path,marketprice):\n",
    "    \n",
    "    dt = 1/120\n",
    "    N = 12*year\n",
    "    steps = int(round(T/dt))\n",
    "    r = WAC/12\n",
    "\n",
    "    rt = CIR_R(path=path,r0=r0,T=T,t=t,r_bar=r_bar)\n",
    "#     r_tminus1_10 = RF_10(kappa=kappa, sigma=sigma, r_bar=r_bar, T=T, t=t, rt=rt)\n",
    "    \n",
    "    PV = np.zeros((path,N))\n",
    "    R = np.zeros((path,N))\n",
    "    PV[:,0] = NotionalAmt\n",
    "    ct = np.zeros((path,N))\n",
    "    idx = np.zeros((path, N))\n",
    "    \n",
    "    for i in range(N):\n",
    "        R[:,i] = np.sum(-rt[:,1:(12*i + 13)],axis=1) * dt\n",
    "        r_tmin1 = rt[:, 10 * i]\n",
    "        SYt = SY(i)\n",
    "        PV_tminus1 = PV[:,i]\n",
    "        CPRt = CPR(kappa=kappa, sigma=sigma, r_bar=r_bar, T=T, t=i, rt=r_tmin1,R=WAC,PV_tminus1=PV_tminus1,PV0=NotionalAmt,SY=SYt)\n",
    "        \n",
    "        MPt = MP(PV_tminus1=PV_tminus1,r=r,N=N,t=i)\n",
    "        IPt = IP(PV_tminus1,r)\n",
    "        SPt = SP(MPt,IPt)\n",
    "        SMMt = SMM(CPRt)\n",
    "        PPt = PP(PV_tminus1,SPt,SMMt)\n",
    "        \n",
    "        ct[:,i] = MPt + PPt\n",
    "        \n",
    "        TPPt = SPt + PPt\n",
    "        \n",
    "        idx[:, i] = i\n",
    "        \n",
    "        if i < (N-1):\n",
    "            PV[:, i+1] = PV_tminus1 - TPPt\n",
    "    \n",
    "    disc = np.exp(R)\n",
    "    \n",
    "    fx = lambda x: np.mean(np.sum(np.multiply(np.exp(R - idx*x*10*dt), ct), axis=1)) - marketprice\n",
    "    oas = fsolve(fx, 0)\n",
    "    return oas[0]\n",
    "   "
   ]
  },
  {
   "cell_type": "code",
   "execution_count": 16,
   "id": "21870a7f",
   "metadata": {
    "ExecuteTime": {
     "end_time": "2022-06-04T00:32:16.999069Z",
     "start_time": "2022-06-04T00:32:14.948710Z"
    }
   },
   "outputs": [],
   "source": [
    "marketprice = 102000\n",
    "\n",
    "q2 = MBS_OAS(r0=0.078,kappa=0.6,r_bar=0.08,sigma=0.12,T=30,WAC=0.08,NotionalAmt=100000,t=0,path=1000,marketprice = 102000)"
   ]
  },
  {
   "cell_type": "code",
   "execution_count": 17,
   "id": "7a8ae7a8",
   "metadata": {
    "ExecuteTime": {
     "end_time": "2022-06-04T00:32:17.004795Z",
     "start_time": "2022-06-04T00:32:17.001445Z"
    }
   },
   "outputs": [
    {
     "name": "stdout",
     "output_type": "stream",
     "text": [
      "The Option-Adjusted-Spread (OAS) if the Market Price of MBS is $102,000 is -0.0176040178901824 \n"
     ]
    }
   ],
   "source": [
    "print(f\"The Option-Adjusted-Spread (OAS) if the Market Price of MBS is $102,000 is {q2} \")"
   ]
  },
  {
   "cell_type": "markdown",
   "id": "f7621f45",
   "metadata": {},
   "source": [
    "## 3. Compute the OAS-Adjusted Duration and Convexity of the MBS, considered in the previous question."
   ]
  },
  {
   "cell_type": "code",
   "execution_count": 18,
   "id": "9726b3eb",
   "metadata": {
    "ExecuteTime": {
     "end_time": "2022-06-04T00:32:17.013050Z",
     "start_time": "2022-06-04T00:32:17.006090Z"
    }
   },
   "outputs": [],
   "source": [
    "epsilon = 0.0005\n",
    "\n",
    "def OAS_DC(r0,kappa,r_bar,sigma,T,WAC,NotionalAmt,t,path,marketprice):\n",
    "    \n",
    "    dt = 1/120\n",
    "    N = 12*year\n",
    "    steps = int(round(T/dt))\n",
    "    r = WAC/12\n",
    "\n",
    "    rt = CIR_R(path=path,r0=r0,T=T,t=t,r_bar=r_bar)\n",
    "#     r_tminus1_10 = RF_10(kappa=kappa, sigma=sigma, r_bar=r_bar, T=T, t=t, rt=rt)\n",
    "    \n",
    "    PV = np.zeros((path,N))\n",
    "    R = np.zeros((path,N))\n",
    "    PV[:,0] = NotionalAmt\n",
    "    ct = np.zeros((path,N))\n",
    "    idx = np.zeros((path, N))\n",
    "    \n",
    "    for i in range(N):\n",
    "        R[:,i] = np.sum(-rt[:,1:(12*i + 13)],axis=1) * dt\n",
    "        r_tmin1 = rt[:, 10 * i]\n",
    "        SYt = SY(i)\n",
    "        PV_tminus1 = PV[:,i]\n",
    "        CPRt = CPR(kappa=kappa, sigma=sigma, r_bar=r_bar, T=T, t=i, rt=r_tmin1,R=WAC,PV_tminus1=PV_tminus1,PV0=NotionalAmt,SY=SYt)\n",
    "        \n",
    "        MPt = MP(PV_tminus1=PV_tminus1,r=r,N=N,t=i)\n",
    "        IPt = IP(PV_tminus1,r)\n",
    "        SPt = SP(MPt,IPt)\n",
    "        SMMt = SMM(CPRt)\n",
    "        PPt = PP(PV_tminus1,SPt,SMMt)\n",
    "        \n",
    "        ct[:,i] = MPt + PPt\n",
    "        \n",
    "        TPPt = SPt + PPt\n",
    "        \n",
    "        idx[:, i] = i\n",
    "        \n",
    "        if i < (N-1):\n",
    "            PV[:, i+1] = PV_tminus1 - TPPt\n",
    "    \n",
    "    disc = np.exp(R)\n",
    "    fx = lambda x: np.mean(np.sum(np.multiply(np.exp(R - idx*x*10*dt), ct), axis=1)) - marketprice\n",
    "    oas = fsolve(fx, 0)\n",
    "    \n",
    "    epsilon = 0.0005\n",
    "    \n",
    "    P0 = marketprice\n",
    "    P_plus = np.mean(np.sum(np.multiply(np.exp(R - idx*(oas+epsilon)*10*dt), ct), axis=1))\n",
    "    P_minus = np.mean(np.sum(np.multiply(np.exp(R - idx*(oas-epsilon)*10*dt), ct), axis=1))\n",
    "    \n",
    "    return P0, P_plus, P_minus\n",
    "    \n",
    "   "
   ]
  },
  {
   "cell_type": "code",
   "execution_count": 19,
   "id": "a573c251",
   "metadata": {
    "ExecuteTime": {
     "end_time": "2022-06-04T00:32:17.016949Z",
     "start_time": "2022-06-04T00:32:17.014374Z"
    }
   },
   "outputs": [],
   "source": [
    "def OAS_duration(P_plus, P_minus, P0):\n",
    "    epsilon = 0.0005\n",
    "    duration = (P_minus - P_plus)/(2 * epsilon * P0)\n",
    "    \n",
    "    return duration\n",
    "\n",
    "def OAS_convexity(P_plus, P_minus, P0):\n",
    "    epsilon = 0.0005\n",
    "    convexity = (P_minus + P_plus - 2*P0)/(2 * epsilon **2 * P0)\n",
    "    \n",
    "    return convexity"
   ]
  },
  {
   "cell_type": "code",
   "execution_count": 20,
   "id": "34760802",
   "metadata": {
    "ExecuteTime": {
     "end_time": "2022-06-04T00:32:18.931190Z",
     "start_time": "2022-06-04T00:32:17.019876Z"
    }
   },
   "outputs": [
    {
     "name": "stdout",
     "output_type": "stream",
     "text": [
      "The OAS-duration is :  6.84137682620905\n",
      "The OAS-convexity is :  42.3203787769821\n"
     ]
    }
   ],
   "source": [
    "P0, P_plus, P_minus = OAS_DC(r0=0.078,kappa=0.6,r_bar=0.08,sigma=0.12,T=30,WAC=0.08,NotionalAmt=100000,t=0,path=1000,marketprice = 102000)\n",
    "durationOAS = OAS_duration(P_plus, P_minus, P0)\n",
    "convexityOAS = OAS_convexity(P_plus, P_minus, P0)\n",
    "print(\"The OAS-duration is : \", durationOAS)\n",
    "print(\"The OAS-convexity is : \", convexityOAS)"
   ]
  },
  {
   "cell_type": "markdown",
   "id": "ed33759e",
   "metadata": {},
   "source": [
    "## 4. Consider the MBS described above and the IO and PO tranches. Price the IO and PO tranches for: 𝑟̅ in 0.03 to 0.09 range, in increments of 0.01."
   ]
  },
  {
   "cell_type": "code",
   "execution_count": 21,
   "id": "2f09b65a",
   "metadata": {
    "ExecuteTime": {
     "end_time": "2022-06-04T00:32:18.944724Z",
     "start_time": "2022-06-04T00:32:18.932198Z"
    }
   },
   "outputs": [],
   "source": [
    "def MBS_IO_PO(r0,kappa,r_bar,sigma,T,WAC,NotionalAmt,t,path,marketprice):\n",
    "    \n",
    "    dt = 1/120\n",
    "    N = 12*year\n",
    "    steps = int(round(T/dt))\n",
    "    r = WAC/12\n",
    "\n",
    "    rt = CIR_R(path=path,r0=r0,T=T,t=t,r_bar = r_bar)\n",
    "#     r_tminus1_10 = RF_10(kappa=kappa, sigma=sigma, r_bar=r_bar, T=T, t=t, rt=rt)\n",
    "    \n",
    "    PV = np.zeros((path,N))\n",
    "    R = np.zeros((path,N))\n",
    "    PV[:,0] = NotionalAmt\n",
    "    ct = np.zeros((path,N))\n",
    "    idx = np.zeros((path, N))\n",
    "    \n",
    "    Interest = np.zeros((path, N))\n",
    "    Principal = np.zeros((path, N))\n",
    "    \n",
    "    for i in range(N):\n",
    "        R[:,i] = np.sum(-rt[:,1:(12*i + 13)],axis=1) * dt\n",
    "        r_tmin1 = rt[:, 10 * i]\n",
    "        SYt = SY(i)\n",
    "        PV_tminus1 = PV[:,i]\n",
    "        CPRt = CPR(kappa=kappa, sigma=sigma, r_bar=r_bar, T=T, t=i, rt=r_tmin1,R=WAC,PV_tminus1=PV_tminus1,PV0=NotionalAmt,SY=SYt)\n",
    "        \n",
    "        MPt = MP(PV_tminus1=PV_tminus1,r=r,N=N,t=i)\n",
    "        IPt = IP(PV_tminus1,r)\n",
    "        SPt = SP(MPt,IPt)\n",
    "        SMMt = SMM(CPRt)\n",
    "        PPt = PP(PV_tminus1,SPt,SMMt)\n",
    "        \n",
    "        ct[:,i] = MPt + PPt\n",
    "        \n",
    "        TPPt = TPP_i = ct[:, i]-PV[:,i]*r\n",
    "        \n",
    "        idx[:, i] = i\n",
    "        \n",
    "        Interest[:, i] = PV[:,i] * r\n",
    "        Principal[:, i] =  TPPt\n",
    "        \n",
    "        if i < (N-1):\n",
    "            PV[:, i+1] = PV_tminus1 - TPPt\n",
    "    \n",
    "    disc = np.exp(R)\n",
    "    \n",
    "    IO = np.mean(np.sum(np.multiply(disc, Interest), axis = 1))\n",
    "    PO = np.mean(np.sum(np.multiply(disc, Principal), axis = 1))\n",
    "    \n",
    "    return IO,PO\n",
    "   "
   ]
  },
  {
   "cell_type": "code",
   "execution_count": 22,
   "id": "7e3c6989",
   "metadata": {
    "ExecuteTime": {
     "end_time": "2022-06-04T00:32:45.154022Z",
     "start_time": "2022-06-04T00:32:18.954425Z"
    }
   },
   "outputs": [],
   "source": [
    "r_bar2 = np.arange(0.03, 0.091, 0.01)\n",
    "\n",
    "IOs = np.array([MBS_IO_PO(r0=0.078,kappa=0.6,r_bar=i,sigma=0.12,T=30,WAC=0.08,NotionalAmt=100000,t=0,path=1000,marketprice = 102000)[0] for i in r_bar2])\n",
    "POs = np.array([MBS_IO_PO(r0=0.078,kappa=0.6,r_bar=i,sigma=0.12,T=30,WAC=0.08,NotionalAmt=100000,t=0,path=1000,marketprice = 102000)[1] for i in r_bar2])"
   ]
  },
  {
   "cell_type": "code",
   "execution_count": 24,
   "id": "833d1d95",
   "metadata": {
    "ExecuteTime": {
     "end_time": "2022-06-04T00:32:49.933633Z",
     "start_time": "2022-06-04T00:32:49.908012Z"
    }
   },
   "outputs": [
    {
     "data": {
      "text/html": [
       "<div>\n",
       "<style scoped>\n",
       "    .dataframe tbody tr th:only-of-type {\n",
       "        vertical-align: middle;\n",
       "    }\n",
       "\n",
       "    .dataframe tbody tr th {\n",
       "        vertical-align: top;\n",
       "    }\n",
       "\n",
       "    .dataframe thead th {\n",
       "        text-align: right;\n",
       "    }\n",
       "</style>\n",
       "<table border=\"1\" class=\"dataframe\">\n",
       "  <thead>\n",
       "    <tr style=\"text-align: right;\">\n",
       "      <th></th>\n",
       "      <th>IO</th>\n",
       "      <th>PO</th>\n",
       "    </tr>\n",
       "  </thead>\n",
       "  <tbody>\n",
       "    <tr>\n",
       "      <th>0.03</th>\n",
       "      <td>27085.580525</td>\n",
       "      <td>81797.567105</td>\n",
       "    </tr>\n",
       "    <tr>\n",
       "      <th>0.04</th>\n",
       "      <td>26562.817583</td>\n",
       "      <td>79306.232131</td>\n",
       "    </tr>\n",
       "    <tr>\n",
       "      <th>0.05</th>\n",
       "      <td>26726.959849</td>\n",
       "      <td>76348.771876</td>\n",
       "    </tr>\n",
       "    <tr>\n",
       "      <th>0.06</th>\n",
       "      <td>32665.892997</td>\n",
       "      <td>67834.302390</td>\n",
       "    </tr>\n",
       "    <tr>\n",
       "      <th>0.07</th>\n",
       "      <td>47600.633923</td>\n",
       "      <td>49178.500863</td>\n",
       "    </tr>\n",
       "    <tr>\n",
       "      <th>0.08</th>\n",
       "      <td>49083.162065</td>\n",
       "      <td>41848.669334</td>\n",
       "    </tr>\n",
       "    <tr>\n",
       "      <th>0.09</th>\n",
       "      <td>47577.613326</td>\n",
       "      <td>37895.204394</td>\n",
       "    </tr>\n",
       "  </tbody>\n",
       "</table>\n",
       "</div>"
      ],
      "text/plain": [
       "                IO            PO\n",
       "0.03  27085.580525  81797.567105\n",
       "0.04  26562.817583  79306.232131\n",
       "0.05  26726.959849  76348.771876\n",
       "0.06  32665.892997  67834.302390\n",
       "0.07  47600.633923  49178.500863\n",
       "0.08  49083.162065  41848.669334\n",
       "0.09  47577.613326  37895.204394"
      ]
     },
     "execution_count": 24,
     "metadata": {},
     "output_type": "execute_result"
    }
   ],
   "source": [
    "pd.DataFrame(list(zip(IOs,POs)),columns=['IO','PO'],index=r_bar2)"
   ]
  },
  {
   "cell_type": "code",
   "execution_count": 23,
   "id": "24728973",
   "metadata": {
    "ExecuteTime": {
     "end_time": "2022-06-04T00:32:45.274244Z",
     "start_time": "2022-06-04T00:32:45.155072Z"
    }
   },
   "outputs": [
    {
     "data": {
      "image/png": "[encoded data removed]",
      "text/plain": [
       "<Figure size 432x288 with 1 Axes>"
      ]
     },
     "metadata": {
      "image/png": {
       "height": 255,
       "width": 398
      }
     },
     "output_type": "display_data"
    }
   ],
   "source": [
    "plt.figure()\n",
    "\n",
    "plt.plot(r_bar2,IOs,marker='o')\n",
    "plt.plot(r_bar2,POs,marker='o')\n",
    "plt.xticks(r_bar2)\n",
    "plt.legend(['IO','PO'])\n",
    "\n",
    "\n",
    "plt.show()"
   ]
  }
 ],
 "metadata": {
  "kernelspec": {
   "display_name": "Python 3 (ipykernel)",
   "language": "python",
   "name": "python3"
  },
  "language_info": {
   "codemirror_mode": {
    "name": "ipython",
    "version": 3
   },
   "file_extension": ".py",
   "mimetype": "text/x-python",
   "name": "python",
   "nbconvert_exporter": "python",
   "pygments_lexer": "ipython3",
   "version": "3.9.7"
  },
  "latex_envs": {
   "LaTeX_envs_menu_present": true,
   "autoclose": false,
   "autocomplete": true,
   "bibliofile": "biblio.bib",
   "cite_by": "apalike",
   "current_citInitial": 1,
   "eqLabelWithNumbers": true,
   "eqNumInitial": 1,
   "hotkeys": {
    "equation": "Ctrl-E",
    "itemize": "Ctrl-I"
   },
   "labels_anchors": false,
   "latex_user_defs": false,
   "report_style_numbering": false,
   "user_envs_cfg": false
  }
 },
 "nbformat": 4,
 "nbformat_minor": 5
}
