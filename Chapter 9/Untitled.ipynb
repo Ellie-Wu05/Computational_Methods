{
 "cells": [
  {
   "cell_type": "code",
   "execution_count": 19,
   "id": "5ca749cb",
   "metadata": {
    "ExecuteTime": {
     "end_time": "2022-05-30T01:23:18.310084Z",
     "start_time": "2022-05-30T01:23:18.305369Z"
    }
   },
   "outputs": [],
   "source": [
    "import matplotlib.pyplot as plt\n",
    "import numpy as np\n",
    "import pandas as pd\n",
    "from scipy.stats import * \n",
    "from scipy.optimize import newton\n",
    "from scipy.optimize import fsolve"
   ]
  },
  {
   "cell_type": "code",
   "execution_count": 20,
   "id": "605f1e56",
   "metadata": {
    "ExecuteTime": {
     "end_time": "2022-05-30T01:23:18.527296Z",
     "start_time": "2022-05-30T01:23:18.518054Z"
    }
   },
   "outputs": [],
   "source": [
    "def CIR(kappa, rbar, sig, r_tmin1):\n",
    "    \n",
    "    h1 = np.sqrt(kappa**2+2*sig**2)\n",
    "    h2 = (kappa+h1)/2\n",
    "    h3 = 2*kappa*rbar/sig**2\n",
    "    B_T1T2 = (np.exp(h1*10)-1)/(h2*(np.exp(h1*10)-1)+h1)\n",
    "    temp = h1*np.exp(h2*10)/(h2*(np.exp(h1*10)-1)+h1)\n",
    "    A_T1T2 = np.power(temp, h3)\n",
    "    r_tmin1_10 = -np.log(A_T1T2*np.exp(-B_T1T2*r_tmin1))/10\n",
    "    \n",
    "    return r_tmin1_10\n",
    "\n",
    "\n",
    "CIR = np.vectorize(CIR)"
   ]
  },
  {
   "cell_type": "code",
   "execution_count": 21,
   "id": "fbf7f8f4",
   "metadata": {
    "ExecuteTime": {
     "end_time": "2022-05-30T01:23:18.692440Z",
     "start_time": "2022-05-30T01:23:18.685131Z"
    }
   },
   "outputs": [],
   "source": [
    "def CPR_step_i(WAC, r_tmin1, PV_t_1,PV0, sig, kappa, rbar, SG_t, SY_t):\n",
    "    r_tmin1_10 = CIR(kappa=kappa, rbar=rbar, sig=sig, r_tmin1=r_tmin1)\n",
    "    RI_t = 0.28+0.14*np.arctan(-8.57+430*(WAC-r_tmin1_10))\n",
    "    BU_t = 0.3 + 0.7*PV_t_1/PV0\n",
    "    return RI_t*BU_t*SG_t*SY_t"
   ]
  },
  {
   "cell_type": "code",
   "execution_count": 22,
   "id": "cfeadf8b",
   "metadata": {
    "ExecuteTime": {
     "end_time": "2022-05-30T01:23:18.912184Z",
     "start_time": "2022-05-30T01:23:18.884916Z"
    }
   },
   "outputs": [],
   "source": [
    "def MBS_price(T=30, L0=100000, WAC=0.08, r0=0.078, kappa=0.6, rbar=0.08, sig=0.12):\n",
    "    dt = 1/120 #Set  the time interval to 1/120 year\n",
    "    n = int(12 * T)\n",
    "    M = 1000\n",
    "    step = int(round(T / dt))\n",
    "    rt = np.zeros((M, step + 1))\n",
    "    rt[:, 0] = r0\n",
    "    np.random.seed(713)\n",
    "    for i in range(step):\n",
    "        zt = np.random.normal(0, 1, M)\n",
    "        rt[:, i + 1] = rt[:, i] + kappa * (rbar - rt[:, i]) * dt + sig * np.sqrt(np.abs(rt[:, i])) * np.sqrt(dt) * zt\n",
    "    R = np.zeros((M, n))\n",
    "    SY = np.zeros(n)\n",
    "    PV = np.zeros((M, n))\n",
    "    PV[:, 0] = L0\n",
    "    ct = np.zeros((M, n))\n",
    "    r = WAC/12\n",
    "    for i in range(n):\n",
    "        R[:, i] = np.sum(rt[:, 1:(10 * i + 11)], axis=1) * (-dt)\n",
    "        r_tmin1_i = rt[:, 10 * i]\n",
    "        SG_i= np.minimum(1, (i + 1) / 30)\n",
    "        if i % 12 == 0:\n",
    "            SY[i:(i + 12)] = np.array([0.94, 0.76, 0.74, 0.95, 0.98, 0.92, 0.98, 1.10, 1.18, 1.22, 1.23, 0.98])\n",
    "        CPR_i = CPR_step_i(WAC=WAC, r_tmin1=r_tmin1_i, PV_t_1=PV[:, i], PV0=L0, sig=sig, kappa=kappa, rbar=rbar, SG_t=SG_i, SY_t=SY[i])\n",
    "        ct[:, i] = PV[:, i] * r / (1 - np.power(1 + r, i - n)) + (\n",
    "                PV[:, i] - PV[:, i] * r * (1 / (1 - np.power(1 + r, i - n)) - 1)) * (\n",
    "                        1 - np.power((1 - CPR_i), 1 / 12))\n",
    "        TPP_i = PV[:, i] * r * (1 / (1 - np.power(1 + r, i - n)) - 1) + (\n",
    "                PV[:, i] - PV[:, i] * r * (1 / (1 - np.power(1 + r, i - n)) - 1)) * (\n",
    "                         1 - np.power((1 - CPR_i), 1 / 12))\n",
    "        if i < (n-1):\n",
    "            PV[:, i + 1] = PV[:, i] - TPP_i\n",
    "    disc = np.exp(R)\n",
    "    MBS_price = np.mean(np.sum(np.multiply(disc, ct), axis=1))\n",
    "    return MBS_price"
   ]
  },
  {
   "cell_type": "code",
   "execution_count": 23,
   "id": "c15f6bae",
   "metadata": {
    "ExecuteTime": {
     "end_time": "2022-05-30T01:23:23.412969Z",
     "start_time": "2022-05-30T01:23:19.152097Z"
    }
   },
   "outputs": [
    {
     "data": {
      "text/plain": [
       "100391.37873637977"
      ]
     },
     "execution_count": 23,
     "metadata": {},
     "output_type": "execute_result"
    }
   ],
   "source": [
    "MBS_price(T=30, L0=100000, WAC=0.08, r0=0.078, kappa=0.6, rbar=0.08, sig=0.12)"
   ]
  },
  {
   "cell_type": "code",
   "execution_count": 25,
   "id": "f180811f",
   "metadata": {
    "ExecuteTime": {
     "end_time": "2022-05-30T01:25:08.829371Z",
     "start_time": "2022-05-30T01:24:59.519401Z"
    }
   },
   "outputs": [
    {
     "name": "stdout",
     "output_type": "stream",
     "text": [
      "Given the input, the price of the MBS is : 100391.378736\n"
     ]
    }
   ],
   "source": [
    "MBS_price = np.vectorize(MBS_price)\n",
    "\n",
    "q1a = MBS_price(T=30, L0=100000, WAC=0.08, r0=0.078, kappa=0.6, rbar=0.08, sig=0.12)\n",
    "print(\"Given the input, the price of the MBS is : %.6f\" % q1a)"
   ]
  },
  {
   "cell_type": "code",
   "execution_count": 26,
   "id": "bd38ff8b",
   "metadata": {
    "ExecuteTime": {
     "end_time": "2022-05-30T01:25:43.815414Z",
     "start_time": "2022-05-30T01:25:08.830714Z"
    }
   },
   "outputs": [
    {
     "name": "stderr",
     "output_type": "stream",
     "text": [
      "No artists with labels found to put in legend.  Note that artists whose label start with an underscore are ignored when legend() is called with no argument.\n"
     ]
    },
    {
     "data": {
      "image/png": "[encoded data removed]",
      "text/plain": [
       "<Figure size 720x504 with 1 Axes>"
      ]
     },
     "metadata": {
      "needs_background": "light"
     },
     "output_type": "display_data"
    }
   ],
   "source": [
    "np.random.seed(9)\n",
    "kappa_list = np.array([0.3 + 0.1*i for i in range(7)])\n",
    "MBS_kappa = MBS_price(kappa=kappa_list)\n",
    "plt.figure(figsize=(10,7))\n",
    "plt.plot(kappa_list, MBS_kappa, marker='x', linestyle='-')\n",
    "plt.title(\"price of the MBS for the following range of kappa\")\n",
    "plt.xlabel(\"$\\kappa$\")\n",
    "plt.ylabel(\"MBS Price ($)\")\n",
    "plt.legend()\n",
    "plt.show()"
   ]
  },
  {
   "cell_type": "code",
   "execution_count": null,
   "id": "83f8f120",
   "metadata": {},
   "outputs": [],
   "source": []
  }
 ],
 "metadata": {
  "kernelspec": {
   "display_name": "Python 3 (ipykernel)",
   "language": "python",
   "name": "python3"
  },
  "language_info": {
   "codemirror_mode": {
    "name": "ipython",
    "version": 3
   },
   "file_extension": ".py",
   "mimetype": "text/x-python",
   "name": "python",
   "nbconvert_exporter": "python",
   "pygments_lexer": "ipython3",
   "version": "3.9.7"
  },
  "latex_envs": {
   "LaTeX_envs_menu_present": true,
   "autoclose": false,
   "autocomplete": true,
   "bibliofile": "biblio.bib",
   "cite_by": "apalike",
   "current_citInitial": 1,
   "eqLabelWithNumbers": true,
   "eqNumInitial": 1,
   "hotkeys": {
    "equation": "Ctrl-E",
    "itemize": "Ctrl-I"
   },
   "labels_anchors": false,
   "latex_user_defs": false,
   "report_style_numbering": false,
   "user_envs_cfg": false
  }
 },
 "nbformat": 4,
 "nbformat_minor": 5
}
