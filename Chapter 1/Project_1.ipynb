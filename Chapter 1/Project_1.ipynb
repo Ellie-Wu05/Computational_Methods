{
 "cells": [
  {
   "cell_type": "markdown",
   "id": "0a725e1b",
   "metadata": {},
   "source": [
    "# Project 1\n",
    "## Kaiyue Wu"
   ]
  },
  {
   "cell_type": "code",
   "execution_count": 2,
   "id": "a4136212",
   "metadata": {},
   "outputs": [],
   "source": [
    "import numpy as np\n",
    "import math\n",
    "import random\n",
    "import matplotlib.pyplot as plt\n",
    "import time\n",
    "import seaborn as sns\n",
    "sns.set_style('darkgrid')\n",
    "sns.set(font_scale=1.5, rc={'text.usetex' : True})"
   ]
  },
  {
   "cell_type": "markdown",
   "id": "c9923d1b",
   "metadata": {},
   "source": [
    "# 1. Random Number Generators"
   ]
  },
  {
   "cell_type": "code",
   "execution_count": 26,
   "id": "79475bae",
   "metadata": {},
   "outputs": [
    {
     "name": "stdout",
     "output_type": "stream",
     "text": [
      "LGM mean is 0.5011609332500776, LGM standard deviation is 0.29044406111428883\n"
     ]
    }
   ],
   "source": [
    "# Initialize LGM function\n",
    "def LGM(x,n):\n",
    "    '''\n",
    "    x: initial value\n",
    "    n: number of random variables to generate\n",
    "    '''\n",
    "    m=2**31-1\n",
    "    a=7**5\n",
    "    b=0\n",
    "\n",
    "    LGM_rm=[]\n",
    "\n",
    "    for i in range(n):\n",
    "        x = (a*x+b) % m\n",
    "        LGM_rm.append(x/m)\n",
    "    return LGM_rm\n",
    "\n",
    "\n",
    "\n",
    "LGM_rm= LGM(6,10000) # set x_0 = 6\n",
    "LGM_rm_mean = np.mean(LGM_rm)\n",
    "LGM_rm_std = np.std(LGM_rm)\n",
    "\n",
    "print(f\"LGM mean is {LGM_rm_mean}, LGM standard deviation is {LGM_rm_std}\")"
   ]
  },
  {
   "cell_type": "code",
   "execution_count": 28,
   "id": "7abd84ce",
   "metadata": {},
   "outputs": [
    {
     "data": {
      "text/plain": [
       "Text(0.5, 1.0, 'LGM Random Variables')"
      ]
     },
     "execution_count": 28,
     "metadata": {},
     "output_type": "execute_result"
    },
    {
     "data": {
      "image/png": "[encoded data removed]",
      "text/plain": [
       "<Figure size 432x288 with 1 Axes>"
      ]
     },
     "metadata": {},
     "output_type": "display_data"
    }
   ],
   "source": [
    "# check if the plot looks like uniform distribution\n",
    "\n",
    "plt.plot(LGM_rm)\n",
    "plt.title('LGM Random Variables')"
   ]
  },
  {
   "cell_type": "code",
   "execution_count": 4,
   "id": "faf6e0f0",
   "metadata": {},
   "outputs": [
    {
     "name": "stdout",
     "output_type": "stream",
     "text": [
      "Built-in function mean is 0.4994848989791815, Built-in function deviation is 0.2894187013622021\n"
     ]
    }
   ],
   "source": [
    "# built-in function\n",
    "\n",
    "built_in = np.random.uniform(0,1,10000)\n",
    "built_in_mean = np.mean(built_in)\n",
    "built_in_std = np.std(built_in)\n",
    "\n",
    "print(f\"Built-in function mean is {built_in_mean}, Built-in function deviation is {built_in_std}\")"
   ]
  },
  {
   "attachments": {},
   "cell_type": "markdown",
   "id": "cbaa6564",
   "metadata": {},
   "source": [
    "# 2\n"
   ]
  },
  {
   "cell_type": "code",
   "execution_count": 16,
   "id": "c073a804",
   "metadata": {},
   "outputs": [],
   "source": [
    "prob_2 = []\n",
    "\n",
    "for i in LGM_rm: #\n",
    "    if i < 0.15:\n",
    "        x = 2\n",
    "    elif i < 0.15 + 0.20:\n",
    "        x=1\n",
    "    elif i< 0.15 +0.20 + 0.35:\n",
    "        x=0\n",
    "    else:\n",
    "        x=-1\n",
    "    prob_2.append(x)"
   ]
  },
  {
   "cell_type": "code",
   "execution_count": 17,
   "id": "2548c894",
   "metadata": {},
   "outputs": [
    {
     "data": {
      "text/plain": [
       "Text(0.5, 1.0, 'Histogram')"
      ]
     },
     "execution_count": 17,
     "metadata": {},
     "output_type": "execute_result"
    },
    {
     "data": {
      "image/png": "[encoded data removed]",
      "text/plain": [
       "<Figure size 432x288 with 1 Axes>"
      ]
     },
     "metadata": {},
     "output_type": "display_data"
    }
   ],
   "source": [
    "plt.hist(prob_2)\n",
    "plt.ylabel('Frequency')\n",
    "plt.xlabel('value')\n",
    "plt.title('Histogram')"
   ]
  },
  {
   "cell_type": "code",
   "execution_count": 7,
   "id": "cd0cb5fc",
   "metadata": {},
   "outputs": [
    {
     "name": "stdout",
     "output_type": "stream",
     "text": [
      "Empirical mean is 0.2038, Empirical standard deviation is 1.0303715640486202\n"
     ]
    }
   ],
   "source": [
    "prob_2_mean = np.mean(prob_2)\n",
    "prob_2_std = np.std(prob_2)\n",
    "print(f\"Empirical mean is {prob_2_mean}, Empirical standard deviation is {prob_2_std}\")"
   ]
  },
  {
   "cell_type": "markdown",
   "id": "03fee2e0",
   "metadata": {},
   "source": [
    "# 3. Using the LGM method generate Uniformly distributed random numbers on [0,1] to do the following:"
   ]
  },
  {
   "cell_type": "markdown",
   "id": "09269cd7",
   "metadata": {},
   "source": [
    "Generate 1,000 random numbers with Binomial distribution with 𝑛 = 44 and 𝑝 = 0.64"
   ]
  },
  {
   "cell_type": "code",
   "execution_count": 18,
   "id": "424c98f9",
   "metadata": {},
   "outputs": [
    {
     "name": "stdout",
     "output_type": "stream",
     "text": [
      "mean is 28.201, standard deviation is 3.271788348900338\n"
     ]
    }
   ],
   "source": [
    "# generate 44000 random variables first\n",
    "\n",
    "prob3_LGM = LGM(8,44000)\n",
    "bernoulli = []\n",
    "\n",
    "for i in prob3_LGM:\n",
    "    if i <=0.64:\n",
    "        x=1\n",
    "    else:\n",
    "        x=0\n",
    "    bernoulli.append(x)\n",
    "#len(bernoulli) 44000\n",
    "\n",
    "# n bernoulli get 1 binomial, 44 bernoulli get 1 binomial\n",
    "bino =[]\n",
    "i=0\n",
    "while i <len(bernoulli):\n",
    "    y = sum(bernoulli[i:i+44])\n",
    "    bino.append(y)\n",
    "    i+=44\n",
    "#len(bino)\n",
    "\n",
    "print(f'mean is {np.mean(bino)}, standard deviation is {np.std(bino)}')"
   ]
  },
  {
   "cell_type": "code",
   "execution_count": 21,
   "id": "a8d201be",
   "metadata": {},
   "outputs": [
    {
     "data": {
      "text/plain": [
       "Text(0.5, 1.0, 'Histogram of  random numbers with Binomial distribution(44,0.64)')"
      ]
     },
     "execution_count": 21,
     "metadata": {},
     "output_type": "execute_result"
    },
    {
     "data": {
      "image/png": "[encoded data removed]",
      "text/plain": [
       "<Figure size 432x288 with 1 Axes>"
      ]
     },
     "metadata": {},
     "output_type": "display_data"
    }
   ],
   "source": [
    "plt.hist(bino,bins=20)\n",
    "plt.ylabel('Frequency')\n",
    "plt.xlabel('value')\n",
    "plt.title('Histogram of  random numbers with Binomial distribution(44,0.64)')"
   ]
  },
  {
   "cell_type": "code",
   "execution_count": 22,
   "id": "8fd9533c",
   "metadata": {},
   "outputs": [
    {
     "name": "stdout",
     "output_type": "stream",
     "text": [
      " The probability of x >= 40 is 0.0\n"
     ]
    }
   ],
   "source": [
    "# p(x>=40)\n",
    "\n",
    "p = sum([i for i in bino if i>=40])/len(bino)\n",
    "\n",
    "print(f' The probability of x >= 40 is {p}')"
   ]
  },
  {
   "cell_type": "markdown",
   "id": "5330d737",
   "metadata": {},
   "source": [
    "# 4"
   ]
  },
  {
   "cell_type": "markdown",
   "id": "efb103bd",
   "metadata": {},
   "source": [
    "Generate 10,000 Exponentially distributed random numbers with parameter 𝜆 = 1.5."
   ]
  },
  {
   "cell_type": "code",
   "execution_count": 11,
   "id": "f44275b4",
   "metadata": {},
   "outputs": [
    {
     "name": "stdout",
     "output_type": "stream",
     "text": [
      " The probability of x >= 1 is 0.2256, The probability of x >= 4 is 0.0032\n"
     ]
    }
   ],
   "source": [
    "# Generate 10,000 Exponentially distributed random numbers with parameter 𝜆 = 1.5.\n",
    "lamb = 1.5\n",
    "pro_4_LGM = LGM(6,10000) \n",
    "expo_rm = [-1/lamb*np.log(i) for i in pro_4_LGM]\n",
    "\n",
    "# Compute 𝑃(𝑋 ≥ 1) and 𝑃(𝑋 ≥ 4).\n",
    "\n",
    "p_greater_1 = sum([1 for i in expo_rm if i>=1])/len(expo_rm)\n",
    "p_greater_4 = sum([1 for i in expo_rm if i>=4])/len(expo_rm)\n",
    "\n",
    "print(f' The probability of x >= 1 is {p_greater_1}, The probability of x >= 4 is {p_greater_4}')"
   ]
  },
  {
   "cell_type": "code",
   "execution_count": 12,
   "id": "62a20350",
   "metadata": {
    "scrolled": true
   },
   "outputs": [
    {
     "name": "stdout",
     "output_type": "stream",
     "text": [
      "Empirical mean is 0.6673470598512684, Empirical standard deviation is 0.6751481072709264\n"
     ]
    }
   ],
   "source": [
    "# Compute the empirical mean and the standard deviation of the sequence of 10,000 numbers generated in part (a)\n",
    "\n",
    "expo_rm_mean =np.mean(expo_rm)\n",
    "expo_rm_std =np.std(expo_rm)\n",
    "print(f\"Empirical mean is {expo_rm_mean}, Empirical standard deviation is {expo_rm_std}\")"
   ]
  },
  {
   "cell_type": "code",
   "execution_count": 15,
   "id": "c52ca889",
   "metadata": {},
   "outputs": [
    {
     "data": {
      "text/plain": [
       "Text(0.5, 1.0, 'Histogram of random numbers with Exponential distribution')"
      ]
     },
     "execution_count": 15,
     "metadata": {},
     "output_type": "execute_result"
    },
    {
     "data": {
      "image/png": "[encoded data removed]",
      "text/plain": [
       "<Figure size 432x288 with 1 Axes>"
      ]
     },
     "metadata": {},
     "output_type": "display_data"
    }
   ],
   "source": [
    "plt.hist(expo_rm,bins=100)\n",
    "plt.ylabel('Frequency')\n",
    "plt.xlabel('value')\n",
    "plt.title('Histogram of random numbers with Exponential distribution')"
   ]
  },
  {
   "cell_type": "markdown",
   "id": "00ac590c",
   "metadata": {},
   "source": [
    "# 5"
   ]
  },
  {
   "cell_type": "markdown",
   "id": "c640e392",
   "metadata": {},
   "source": [
    "## Box- Muller Method"
   ]
  },
  {
   "cell_type": "code",
   "execution_count": 23,
   "id": "64325255",
   "metadata": {},
   "outputs": [
    {
     "data": {
      "text/plain": [
       "0.03823590278625488"
      ]
     },
     "execution_count": 23,
     "metadata": {},
     "output_type": "execute_result"
    }
   ],
   "source": [
    "# one pair of iid Uniform generate one pair of Normal\n",
    "# 5000 normal requires 5000 uniform, 2500 pairs\n",
    "\n",
    "\n",
    "p5_LGM =LGM(100,5000)\n",
    "\n",
    "start_time = time.time()\n",
    "\n",
    "norm_1 = []\n",
    "\n",
    "i = 0\n",
    "j=5000-1\n",
    "\n",
    "while i<j:\n",
    "    u1 = p5_LGM[i]\n",
    "    u2 = p5_LGM[j]\n",
    "    \n",
    "    z1 = np.sqrt(-2*np.log(u1))*np.cos(2*np.pi*u2)\n",
    "    z2 = np.sqrt(-2*np.log(u1))*np.sin(2*np.pi*u2)\n",
    "    \n",
    "    norm_1.append(z1)\n",
    "    norm_1.append(z2)\n",
    "    \n",
    "    i+=1\n",
    "    j-=1\n",
    "\n",
    "# len(norm_1)  5000, check numbers\n",
    "\n",
    "excu_time_bm = time.time()-start_time\n",
    "excu_time_bm"
   ]
  },
  {
   "cell_type": "markdown",
   "id": "0c370ac1",
   "metadata": {},
   "source": [
    "## Polar-Marsaglia method"
   ]
  },
  {
   "cell_type": "code",
   "execution_count": 30,
   "id": "fdd0438a",
   "metadata": {},
   "outputs": [
    {
     "data": {
      "text/plain": [
       "0.03139185905456543"
      ]
     },
     "execution_count": 30,
     "metadata": {},
     "output_type": "execute_result"
    }
   ],
   "source": [
    "start_time = time.time()\n",
    "\n",
    "norm_2 = []\n",
    "\n",
    "i = 0\n",
    "j=5000-1\n",
    "\n",
    "while i<j:\n",
    "    u1 = p5_LGM[i]\n",
    "    u2 = p5_LGM[j]\n",
    "    \n",
    "    v1 = 2*u1-1\n",
    "    v2 = 2*u2-1\n",
    "    w = v1**2 + v2**2\n",
    "    \n",
    "    if w<=1:\n",
    "        z1 = v1*np.sqrt((-2*np.log(w))/w)\n",
    "        z2 = v2*np.sqrt((-2*np.log(w))/w)\n",
    "    \n",
    "    norm_2.append(z1)\n",
    "    norm_2.append(z2)\n",
    "    \n",
    "    i+=1\n",
    "    j-=1\n",
    "    \n",
    "excu_time_pm = time.time()-start_time\n",
    "excu_time_pm"
   ]
  },
  {
   "cell_type": "code",
   "execution_count": 31,
   "id": "5c55080d",
   "metadata": {},
   "outputs": [
    {
     "name": "stdout",
     "output_type": "stream",
     "text": [
      "The mean for Box- Muller Method normal distributed r.v is -0.020994735561742948\n",
      "The mean for Polar-MarsagliaMethod normal distributed r.v is -0.03441971190072053\n",
      "\n",
      "The standard deviation for Box- Muller Method normal distributed r.v is 1.0104714556847032\n",
      "The standard deviation for Polar-Marsaglia Method normal distributed r.v is 0.9988391532719084\n",
      "\n",
      "The execution time for Box- Muller Method is 0.03823590278625488 \n",
      "The execution time for Polar-Marsaglia method is 0.03139185905456543\n"
     ]
    }
   ],
   "source": [
    "new_line = '\\n'\n",
    "\n",
    "print(f'The mean for Box- Muller Method normal distributed r.v is {np.mean(norm_1)}{new_line}\\\n",
    "The mean for Polar-MarsagliaMethod normal distributed r.v is {np.mean(norm_2)}{new_line}\\\n",
    "{new_line}\\\n",
    "The standard deviation for Box- Muller Method normal distributed r.v is {np.std(norm_1)}{new_line}\\\n",
    "The standard deviation for Polar-Marsaglia Method normal distributed r.v is {np.std(norm_2)}\\\n",
    "{new_line}')\n",
    "\n",
    "print(f'The execution time for Box- Muller Method is {excu_time_bm} {new_line}\\\n",
    "The execution time for Polar-Marsaglia method is {excu_time_pm}')"
   ]
  }
 ],
 "metadata": {
  "kernelspec": {
   "display_name": "Python 3 (ipykernel)",
   "language": "python",
   "name": "python3"
  },
  "language_info": {
   "codemirror_mode": {
    "name": "ipython",
    "version": 3
   },
   "file_extension": ".py",
   "mimetype": "text/x-python",
   "name": "python",
   "nbconvert_exporter": "python",
   "pygments_lexer": "ipython3",
   "version": "3.9.7"
  },
  "latex_envs": {
   "LaTeX_envs_menu_present": true,
   "autoclose": false,
   "autocomplete": true,
   "bibliofile": "biblio.bib",
   "cite_by": "apalike",
   "current_citInitial": 1,
   "eqLabelWithNumbers": true,
   "eqNumInitial": 1,
   "hotkeys": {
    "equation": "Ctrl-E",
    "itemize": "Ctrl-I"
   },
   "labels_anchors": false,
   "latex_user_defs": false,
   "report_style_numbering": false,
   "user_envs_cfg": false
  }
 },
 "nbformat": 4,
 "nbformat_minor": 5
}
