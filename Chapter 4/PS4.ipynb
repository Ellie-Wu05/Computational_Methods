{
 "cells": [
  {
   "cell_type": "markdown",
   "id": "b158fc8e",
   "metadata": {},
   "source": [
    "# PS4"
   ]
  },
  {
   "cell_type": "code",
   "execution_count": 2,
   "id": "c5533c6e",
   "metadata": {
    "ExecuteTime": {
     "end_time": "2022-04-29T03:07:28.196385Z",
     "start_time": "2022-04-29T03:07:26.408102Z"
    }
   },
   "outputs": [],
   "source": [
    "import numpy as np\n",
    "import matplotlib.pyplot as plt\n",
    "import seaborn as sns\n",
    "import pandas as pd\n",
    "import yfinance as yf\n",
    "from datetime import datetime \n",
    "import yahoo_fin.options as options\n",
    "from scipy.stats import norm\n",
    "\n",
    "new_line = '\\n'\n",
    "pd.options.mode.chained_assignment = None \n",
    "import warnings\n",
    "warnings.filterwarnings('ignore')\n",
    "\n",
    "sns.set_style('darkgrid')\n",
    "sns.set(font_scale=1.5, rc={'text.usetex' : True,})"
   ]
  },
  {
   "cell_type": "code",
   "execution_count": 3,
   "id": "8c8cd9e1",
   "metadata": {
    "ExecuteTime": {
     "end_time": "2022-04-29T03:07:28.199434Z",
     "start_time": "2022-04-29T03:07:28.197725Z"
    },
    "code_folding": [
     0
    ]
   },
   "outputs": [],
   "source": [
    "# def binoEuro_slow(s0,u,d,N,k,r,T,option_type):\n",
    "#     \"\"\"\n",
    "#     s0: stock price\n",
    "#     u: probability of going up\n",
    "#     d: probability of going down\n",
    "#     N: number of periods\n",
    "#     \"\"\"\n",
    "#     dt = T/N\n",
    "#     p = (np.exp(r*dt)-d)/(u-d)  # risk-neutral probability\n",
    "#     disc = np.exp(-r*dt)        # discount back\n",
    " \n",
    "#     S = np.zeros(N+1)           # N -period, every period has N+1 nodes\n",
    "#     S[N] = s0*d**N              # last botton node\n",
    "    \n",
    "#     for j in range(N-1,-1,-1):  #find the stock prices in last period\n",
    "#         S[j] = S[j+1]*u/d  \n",
    "     \n",
    "#     C = np.zeros(N+1)           #find the call payoff of each price node\n",
    "#     for j in range(N+1):\n",
    "#         if option_type.lower() =='c':\n",
    "#             C[j] = max(S[j]-k,0)\n",
    "#         else:\n",
    "#             C[j] = max(k-S[j],0)\n",
    "\n",
    "#     for i in range(N,0,-1):     # step backwards, find payoff of previous period\n",
    "#         for j in range(i):\n",
    "#             C[j] = disc * (p *(C[j]) + (1-p)*C[j+1])\n",
    "\n",
    "#     return C[0]\n",
    "\n",
    "# binoEuro_slow(s0=34,u=1.25,d=0.7,N=2,r=0.03,k=30,T=2,option_type='C')"
   ]
  },
  {
   "cell_type": "code",
   "execution_count": 4,
   "id": "975cba5b",
   "metadata": {
    "ExecuteTime": {
     "end_time": "2022-04-29T03:07:28.201826Z",
     "start_time": "2022-04-29T03:07:28.200216Z"
    },
    "code_folding": [
     0
    ]
   },
   "outputs": [],
   "source": [
    "# def binoEuro_fast(s0,u,d,N,k,r,T,option_type):\n",
    "#     \"\"\"\n",
    "#     s0: stock price\n",
    "#     u: probability of going up\n",
    "#     d: probability of going down\n",
    "#     N: number of periods\n",
    "#     \"\"\"\n",
    "#     dt = T/N\n",
    "#     p = (np.exp(r*dt)-d)/(u-d)  # risk-neutral probability\n",
    "#     disc = np.exp(-r*dt)        # discount back\n",
    "    \n",
    "#     S =s0* u**np.arange(0,N+1,1)*d**np.arange(N,-1,-1)         # stock prices at last step\n",
    "#     S = S[::-1]\n",
    "   \n",
    "#     if option_type.lower() =='c':\n",
    "#         S = np.maximum(S-k, np.zeros(N+1))\n",
    "#     else:\n",
    "#         S = np.maximum(k-S, np.zeros(N+1))\n",
    "        \n",
    "#     for i in range(N,0,-1):     # step backwards, find payoff of previous period\n",
    "#         S = disc*(p*S[0:i] +(1-p)*S[1:i+1])\n",
    "\n",
    "#     return S[0]\n",
    "# binoEuro_fast(s0=34,u=1.25,d=0.7,N=2,r=0.03,k=30,T=2,option_type='C')"
   ]
  },
  {
   "cell_type": "code",
   "execution_count": 5,
   "id": "76780041",
   "metadata": {
    "ExecuteTime": {
     "end_time": "2022-04-29T03:07:28.204680Z",
     "start_time": "2022-04-29T03:07:28.203113Z"
    },
    "code_folding": [
     0
    ]
   },
   "outputs": [],
   "source": [
    "# def binoAmer_slow(s0,u,d,N,k,r,T,option_type):\n",
    "#     dt = T/N\n",
    "#     p = (np.exp(r*dt)-d)/(u-d)\n",
    "#     disc = np.exp(-r*dt) \n",
    "    \n",
    "#     S = np.zeros(N+1)        # stock prices at last step\n",
    "#     for j in range(0,N+1):\n",
    "#         S[j] = s0*u**j*d**(N-j)\n",
    "        \n",
    "#     C = np.zeros(N+1)  \n",
    "#     for j in range(0,N+1):\n",
    "#         if option_type.lower()=='c':\n",
    "#             C[j] = max(S[j]-k,0)\n",
    "#         else:\n",
    "#             C[j] = max(k-S[j],0)\n",
    " \n",
    "#     for i in np.arange(N-1,-1,-1):\n",
    "#         for j in range(0,i+1):\n",
    "#             S = s0 *u**j*d**(i-j)\n",
    "#             C[j] = disc * (p * C[j+1] + (1-p)* C[j])\n",
    "#             if option_type.lower()=='c':\n",
    "#                 C[j] = max(S-k,C[j])\n",
    "#             else:\n",
    "#                 C[j] = max(k-S,C[j])\n",
    " \n",
    "#     return C[0]"
   ]
  },
  {
   "cell_type": "code",
   "execution_count": 6,
   "id": "d9e24776",
   "metadata": {
    "ExecuteTime": {
     "end_time": "2022-04-29T03:07:28.207031Z",
     "start_time": "2022-04-29T03:07:28.205577Z"
    },
    "code_folding": [
     0
    ]
   },
   "outputs": [],
   "source": [
    "# s0=100\n",
    "# u=1.1\n",
    "# d=1/u\n",
    "# N=3\n",
    "# k=100\n",
    "# r=0.06\n",
    "# T=1\n",
    "# dt = T/N\n",
    "# p = (np.exp(r*dt)-d)/(u-d)\n",
    "# disc = np.exp(-r*dt)\n",
    "\n",
    "# S = np.zeros(shape=(N+1,N+1))\n",
    "# CV = np.zeros(shape=(N+1,N+1))\n",
    "# EV = np.zeros(shape=(N+1,N+1))\n",
    "\n",
    "# S[0][0] = s0\n",
    "\n",
    "# for i in range(N):\n",
    "#     for j in range(i,N):\n",
    "#         S[i][j+1] = S[i][j]*u\n",
    "#         S[i+1][j+1] = S[i][j]*d\n",
    "#         EV[i][j+1] = max(k-S[i][j+1],0)\n",
    "#         EV[i+1][j+1] = max(k-S[i+1][j+1],0)\n",
    "\n",
    "# for i in range(N,0,-1):\n",
    "#     for j in range(i,N+1):\n",
    "#         CV[i-1][j-1] = disc * (p*EV[i-1][j] + (1-p)* EV[i][j])"
   ]
  },
  {
   "cell_type": "code",
   "execution_count": 7,
   "id": "d763aa17",
   "metadata": {
    "ExecuteTime": {
     "end_time": "2022-04-29T03:07:28.209919Z",
     "start_time": "2022-04-29T03:07:28.207847Z"
    },
    "code_folding": [
     0
    ]
   },
   "outputs": [],
   "source": [
    "# def binoAmer_fast(s0,u,d,N,k,r,T,option_type):\n",
    "#     dt = T/N\n",
    "#     p = (np.exp(r*dt)-d)/(u-d)\n",
    "#     disc = np.exp(-r*dt) \n",
    "    \n",
    "#     S = s0* u**np.arange(0,N+1,1)*d**np.arange(N,-1,-1)       # stock prices at last step\n",
    "\n",
    "#     if option_type.lower()=='c':\n",
    "#         C = np.maximum(0,S - k)\n",
    "#     else:\n",
    "#         C = np.maximum(0,k - S)\n",
    "   \n",
    "#     for i in np.arange(N-1,-1,-1):\n",
    "#         S = s0* u**np.arange(0,i+1,1)*d**np.arange(i,-1,-1)\n",
    "#         print(S)\n",
    "#         C[:i+1] = disc * (p * C[1:i+2] + (1-p)* C[0:i+1])\n",
    "#         print(C)\n",
    "#         C = C[:-1]\n",
    "       \n",
    "#         if option_type.lower()=='c':\n",
    "#             C = np.maximum(C,S - k)\n",
    "#         else:\n",
    "#             C = np.maximum(C,k - S)\n",
    "        \n",
    "#     return C[0]"
   ]
  },
  {
   "cell_type": "code",
   "execution_count": 1,
   "id": "8afe3b54",
   "metadata": {
    "ExecuteTime": {
     "end_time": "2022-06-08T07:01:11.711816Z",
     "start_time": "2022-06-08T07:01:11.702348Z"
    },
    "code_folding": [
     0
    ]
   },
   "outputs": [],
   "source": [
    "# def AmericanPut_Matrix(s0,u,d,N,k,r,T,option_type):\n",
    "#     dt = T/N\n",
    "#     p = (np.exp(r*dt)-d)/(u-d)\n",
    "\n",
    "#     disc = np.exp(-r*dt)\n",
    "    \n",
    "#     S = np.zeros(shape=(N+1,N+1))\n",
    "#     CV = np.zeros(shape=(N+1,N+1))\n",
    "#     EV = np.zeros(shape=(N+1,N+1))\n",
    "\n",
    "#     S[0][0] = s0\n",
    "\n",
    "#     for i in range(N):\n",
    "#         for j in range(i,N):\n",
    "#             S[i][j+1] = S[i][j]*u\n",
    "#             S[i+1][j+1] = S[i][j]*d\n",
    "    \n",
    "    \n",
    "#     for i in range(N,0,-1):\n",
    "#         for j in range(i,N+1):\n",
    "#             EV[i][j] = max(k-S[i][j],0)\n",
    "#             CV[i-1][j-1] = disc * (p*EV[i-1][j] + (1-p)* EV[i][j])\n",
    "#             CV[i][j] = max(CV[i][j],EV[i][j])\n",
    "#             CV[i-1][j-1] = disc * (p*CV[i-1][j] + (1-p)* CV[i][j])\n",
    "\n",
    "#     CV[0][0] = disc * (p*CV[0][1] + (1-p)* CV[1][1])\n",
    "    \n",
    "#     return CV[0][0],CV\n",
    "\n",
    "# AmericanPut_Matrix(s0=100,u=1.1,d=1/1.1,N=3,k=100,r=0.06,T=1,option_type='p')"
   ]
  },
  {
   "cell_type": "code",
   "execution_count": 2,
   "id": "c9dc9a80",
   "metadata": {
    "ExecuteTime": {
     "end_time": "2022-06-08T07:01:11.880655Z",
     "start_time": "2022-06-08T07:01:11.858028Z"
    },
    "code_folding": []
   },
   "outputs": [],
   "source": [
    "def parameters(r,sigma,N,T,formula):\n",
    "    dt = T/N\n",
    "    if formula == 'a':\n",
    "        c = 0.5 * (np.exp(-r*dt) + np.exp( (r+sigma**2)*dt) )\n",
    "        d = c - np.sqrt(c**2 -1)\n",
    "        u = 1/d\n",
    "        p = (np.exp(r*dt) -d) / (u-d)\n",
    "    elif formula == 'b':\n",
    "        u = np.exp(r*dt)*(1+np.sqrt(np.exp(sigma**2*dt)-1))\n",
    "        d = np.exp(r*dt)*(1-np.sqrt(np.exp(sigma**2*dt)-1))\n",
    "        p = 0.5\n",
    "    elif formula =='c':\n",
    "        u = np.exp((r-sigma**2/2)*dt + sigma*np.sqrt(dt))\n",
    "        d = np.exp((r-sigma**2/2)*dt - sigma*np.sqrt(dt))\n",
    "        p=0.5\n",
    "    elif formula =='d':\n",
    "        u = np.exp(sigma*np.sqrt(dt))\n",
    "        d = np.exp(-sigma*np.sqrt(dt))\n",
    "        p = 1/2 + 1/2*((r-sigma**2/2)*np.sqrt(dt))/sigma\n",
    "    \n",
    "    return u, d, p, N"
   ]
  },
  {
   "cell_type": "code",
   "execution_count": 3,
   "id": "cd3a096d",
   "metadata": {
    "ExecuteTime": {
     "end_time": "2022-06-08T07:01:12.042688Z",
     "start_time": "2022-06-08T07:01:12.025398Z"
    },
    "code_folding": []
   },
   "outputs": [],
   "source": [
    "def binoEuro_slow(s0,N,k,r,T,sigma,option_type,formula):\n",
    "    \"\"\"\n",
    "    s0: stock price\n",
    "    u: probability of going up\n",
    "    d: probability of going down\n",
    "    N: number of periods\n",
    "    \"\"\"\n",
    "    dt = T/N\n",
    "    params = parameters(r,sigma,N,T,formula)\n",
    "    u = params[0]\n",
    "    d = params[1]\n",
    "    p = params[2]\n",
    "    \n",
    "    disc = np.exp(-r*dt)        # discount back\n",
    " \n",
    "    S = np.zeros(N+1)           # N -period, every period has N+1 nodes\n",
    "    S[N] = s0*d**N              # last botton node\n",
    "    \n",
    "    for j in range(N-1,-1,-1):  #find the stock prices in last period\n",
    "        S[j] = S[j+1]*u/d  \n",
    "     \n",
    "    C = np.zeros(N+1)           #find the call payoff of each price node\n",
    "    for j in range(N+1):\n",
    "        if option_type.lower() =='c':\n",
    "            C[j] = max(S[j]-k,0)\n",
    "        else:\n",
    "            C[j] = max(k-S[j],0)\n",
    "\n",
    "    for i in range(N,0,-1):     # step backwards, find payoff of previous period\n",
    "        for j in range(i):\n",
    "            C[j] = disc * (p *(C[j]) + (1-p)*C[j+1])\n",
    "\n",
    "    return C[0]"
   ]
  },
  {
   "cell_type": "code",
   "execution_count": 4,
   "id": "a5a8f012",
   "metadata": {
    "ExecuteTime": {
     "end_time": "2022-06-08T07:01:12.592161Z",
     "start_time": "2022-06-08T07:01:12.580874Z"
    },
    "code_folding": []
   },
   "outputs": [],
   "source": [
    "def binoEuro_fast(s0,N,k,r,T,sigma,option_type,formula):\n",
    "    \"\"\"\n",
    "    s0: stock price\n",
    "    u: probability of going up\n",
    "    d: probability of going down\n",
    "    N: number of periods\n",
    "    \"\"\"\n",
    "    dt = T/N\n",
    "    params = parameters(r,sigma,N,T,formula)\n",
    "    u = params[0]\n",
    "    d = params[1]\n",
    "    p = params[2]\n",
    "    \n",
    "    disc = np.exp(-r*dt)        # discount back\n",
    "    \n",
    "    S =s0* u**np.arange(0,N+1,1)*d**np.arange(N,-1,-1)         # stock prices at last step\n",
    "    S = S[::-1]\n",
    "   \n",
    "    if option_type.lower() =='c':\n",
    "        S = np.maximum(S-k, np.zeros(N+1))\n",
    "    else:\n",
    "        S = np.maximum(k-S, np.zeros(N+1))\n",
    "        \n",
    "    for i in range(N,0,-1):     # step backwards, find payoff of previous period\n",
    "        S = disc*(p*S[0:i] +(1-p)*S[1:i+1])\n",
    "\n",
    "    return S[0]"
   ]
  },
  {
   "cell_type": "code",
   "execution_count": 5,
   "id": "fa4054f1",
   "metadata": {
    "ExecuteTime": {
     "end_time": "2022-06-08T07:01:13.014624Z",
     "start_time": "2022-06-08T07:01:13.009367Z"
    },
    "code_folding": []
   },
   "outputs": [],
   "source": [
    "# def AmericanPut_Matrix(s0,N,k,r,T,sigma,option_type,formula):\n",
    "#     dt = T/N\n",
    "#     params = parameters(r,sigma,N,T,formula)\n",
    "#     u = params[0]\n",
    "#     d = params[1]\n",
    "#     p = params[2]\n",
    "#     disc = np.exp(-r*dt)\n",
    "    \n",
    "#     S = np.zeros(shape=(N+1,N+1))\n",
    "#     CV = np.zeros(shape=(N+1,N+1))\n",
    "#     EV = np.zeros(shape=(N+1,N+1))\n",
    "\n",
    "#     S[0][0] = s0\n",
    "\n",
    "#     for i in range(N):\n",
    "#         for j in range(i,N):\n",
    "#             S[i][j+1] = S[i][j]*u\n",
    "#             S[i+1][j+1] = S[i][j]*d\n",
    "\n",
    "#     for i in range(N,0,-1):\n",
    "#         for j in range(i,N+1):\n",
    "#             EV[i][j] = max(k-S[i][j],0)\n",
    "#             CV[i-1][j-1] = disc * (p*EV[i-1][j] + (1-p)* EV[i][j])\n",
    "#             CV[i][j] = max(CV[i][j],EV[i][j])\n",
    "#             CV[i-1][j-1] = disc * (p*CV[i-1][j] + (1-p)* CV[i][j])\n",
    "\n",
    "#     CV[0][0] = disc * (p*CV[0][1] + (1-p)* CV[1][1])\n",
    "    \n",
    "#     return CV[0][0]\n"
   ]
  },
  {
   "cell_type": "code",
   "execution_count": 6,
   "id": "71d555ae",
   "metadata": {
    "ExecuteTime": {
     "end_time": "2022-06-08T07:01:13.615057Z",
     "start_time": "2022-06-08T07:01:13.596042Z"
    },
    "code_folding": []
   },
   "outputs": [],
   "source": [
    "def binoAmer_fast(s0,N,k,r,T,sigma,option_type,formula):\n",
    "    dt = T/N\n",
    "    params = parameters(r,sigma,N,T,formula)\n",
    "    u = params[0]\n",
    "    d = params[1]\n",
    "    p = params[2]\n",
    "    disc = np.exp(-r*dt)\n",
    "    \n",
    "    S = s0* u**np.arange(0,N+1,1)*d**np.arange(N,-1,-1)       # stock prices at last step\n",
    "\n",
    "    if option_type.lower()=='c':\n",
    "        C = np.maximum(0,S - k)\n",
    "    else:\n",
    "        C = np.maximum(0,k - S)\n",
    "   \n",
    "    for i in np.arange(N-1,-1,-1):\n",
    "        S = s0* u**np.arange(0,i+1,1)*d**np.arange(i,-1,-1)\n",
    "   \n",
    "        C[:i+1] = disc * (p * C[1:i+2] + (1-p)* C[0:i+1])\n",
    "   \n",
    "        C = C[:-1]\n",
    "       \n",
    "        if option_type.lower()=='c':\n",
    "            C = np.maximum(C,S - k)\n",
    "        else:\n",
    "            C = np.maximum(C,k - S)\n",
    "        \n",
    "    return C[0]"
   ]
  },
  {
   "cell_type": "markdown",
   "id": "00e8215d",
   "metadata": {},
   "source": [
    "## 1. Compare the convergence rates of the four methods below by doing the following:\n",
    "Use the Binomial Method to price a 6-month European Call option with the following information: the risk-free interest rate is 5% per annum; the volatility is 24% per annum; the current stock price is 32; and the strike price is $30. Divide the time interval into 𝑛 parts to estimate the price of this option. Use 𝑛 = 10,20,40,80,100,200, and 500 to estimate the price and draw all resulting prices in one graph, where the horizontal axis measures 𝑛, and the vertical one the price of the option."
   ]
  },
  {
   "cell_type": "markdown",
   "id": "d4fdd00a",
   "metadata": {},
   "source": [
    "__(a)__\n",
    "\n",
    "$\\mu = \\frac{1}{d},~~~~~~~~~ d = c-\\sqrt{c^2-1} ~~~~~~~~~c=\\frac{1}{2}(e^{-r\\Delta}+e^{(r+\\sigma^2)\\Delta}),~~~~~~~~p=\\frac{e^{r\\Delta}-d}{u-d}$\n",
    "\n",
    "__(b)__\n",
    "\n",
    "$\\mu = e^{r\\Delta}(1+\\sqrt{e^{\\sigma^2\\Delta}-1}),~~~~~~~~~ d = e^{r\\Delta}(1-\\sqrt{e^{\\sigma^2\\Delta}-1}) ~~~~~~~~~~~~~~p=\\frac{1}{2}$\n",
    "\n",
    "__(c)__\n",
    "\n",
    "$\\mu = e^{(r-\\frac{\\sigma^2}{2})\\Delta+\\sigma\\Delta} ~~~~~~ d = e^{(r-\\frac{\\sigma^2}{2})\\Delta-\\sigma\\Delta}~~~~~~~p=\\frac{1}{2}$\n",
    "\n",
    "__(d)__\n",
    "\n",
    "$\\mu = e^{\\sigma\\sqrt{\\Delta}} ~~~~~~ d =e^{-\\sigma\\sqrt\\Delta}~~~~~~~ p= \\frac{1}{2}+\\frac{1}{2}(\\frac{(r-\\frac{\\sigma^2}{2})\\sqrt\\Delta}{\\sigma})$"
   ]
  },
  {
   "cell_type": "code",
   "execution_count": 14,
   "id": "0dfbb8b1",
   "metadata": {
    "ExecuteTime": {
     "end_time": "2022-04-29T03:07:32.810970Z",
     "start_time": "2022-04-29T03:07:32.466187Z"
    }
   },
   "outputs": [
    {
     "data": {
      "image/png": "[encoded data removed]",
      "text/plain": [
       "<Figure size 576x360 with 1 Axes>"
      ]
     },
     "metadata": {},
     "output_type": "display_data"
    }
   ],
   "source": [
    "T = 0.5\n",
    "rf = 0.05\n",
    "sigma = 0.24\n",
    "s0 = 32\n",
    "N = [10,20,40,80,100,200,500]\n",
    "k=30\n",
    "\n",
    "a_call = [binoEuro_fast(s0=s0,k=k,T=T,sigma=sigma,r=rf,N=i,option_type='c',formula='a') for i in N]\n",
    "b_call = [binoEuro_fast(s0=s0,k=k,T=T,sigma=sigma,r=rf,N=i,option_type='c',formula='b') for i in N]\n",
    "c_call = [binoEuro_fast(s0=s0,k=k,T=T,sigma=sigma,r=rf,N=i,option_type='c',formula='c') for i in N]\n",
    "d_call = [binoEuro_fast(s0=s0,k=k,T=T,sigma=sigma,r=rf,N=i,option_type='c',formula='d') for i in N]\n",
    "\n",
    "question_1 = pd.DataFrame(list(zip(N,a_call,b_call,c_call,d_call)))\n",
    "question_1.columns=['Steps','a','b','c','d']\n",
    "question_1 = question_1.set_index('Steps')\n",
    "\n",
    "plt.figure(figsize=(8,5))\n",
    "plt.plot(question_1.iloc[:,:])\n",
    "plt.legend(['a','b','c','d'])\n",
    "plt.title('Four methods')\n",
    "\n",
    "plt.show()"
   ]
  },
  {
   "cell_type": "code",
   "execution_count": 15,
   "id": "82099c6d",
   "metadata": {
    "ExecuteTime": {
     "end_time": "2022-04-29T03:07:35.138077Z",
     "start_time": "2022-04-29T03:07:34.889018Z"
    }
   },
   "outputs": [
    {
     "data": {
      "text/plain": [
       "<Figure size 432x288 with 0 Axes>"
      ]
     },
     "metadata": {},
     "output_type": "display_data"
    },
    {
     "data": {
      "image/png": "[encoded data removed]",
      "text/plain": [
       "<Figure size 576x360 with 4 Axes>"
      ]
     },
     "metadata": {},
     "output_type": "display_data"
    }
   ],
   "source": [
    "plt.figure()\n",
    "\n",
    "fig, axs = plt.subplots(2, 2,sharex=True)\n",
    "fig.set_figheight(5)\n",
    "fig.set_figwidth(8)\n",
    "\n",
    "axs[0, 0].plot(a_call)\n",
    "axs[0, 0].set_title('Method a')\n",
    "\n",
    "axs[0, 1].plot(b_call)\n",
    "axs[0, 1].set_title('Method b')\n",
    "\n",
    "axs[1, 0].plot(c_call)\n",
    "axs[1, 0].set_title('Method c')\n",
    "\n",
    "axs[1, 1].plot(d_call)\n",
    "axs[1, 1].set_title('Method d')\n",
    "\n",
    "\n",
    "plt.show()"
   ]
  },
  {
   "cell_type": "markdown",
   "id": "6bbd48ea",
   "metadata": {},
   "source": [
    "## 2. \n",
    "    Take the current price of AMZN. Use risk-free rate of 1% per annum, and a strike price that is the closest integer to 110% of the current price (divisible by 50). Estimate the price of the American Call option that expires in January of next year, using the Binomial Method. AMZN does not pay dividends. To estimate the historical volatility, use 60 months of historical stock price data on the company. You may use Bloomberg or finance.yahoo.com to obtain historical prices and the current stock price of AMZN.\n"
   ]
  },
  {
   "cell_type": "code",
   "execution_count": 4,
   "id": "d881245c",
   "metadata": {
    "ExecuteTime": {
     "end_time": "2022-04-28T19:51:23.199374Z",
     "start_time": "2022-04-28T19:51:22.727875Z"
    }
   },
   "outputs": [
    {
     "name": "stdout",
     "output_type": "stream",
     "text": [
      "[*********************100%***********************]  1 of 1 completed\n"
     ]
    }
   ],
   "source": [
    "# last 60 months data\n",
    "amzn = yf.download(\"AMZN\", start=\"2017-04-27\", end=\"2022-04-27\")"
   ]
  },
  {
   "cell_type": "code",
   "execution_count": 5,
   "id": "bb1ce83f",
   "metadata": {
    "ExecuteTime": {
     "end_time": "2022-04-28T19:51:24.795804Z",
     "start_time": "2022-04-28T19:51:24.782140Z"
    }
   },
   "outputs": [],
   "source": [
    "amzn['return'] = amzn['Adj Close'].pct_change(1)\n",
    "amzn_std_daily = np.std(amzn['return'])\n",
    "amzn_std =amzn_std_daily*np.sqrt(252)"
   ]
  },
  {
   "cell_type": "code",
   "execution_count": 18,
   "id": "a1f7f75e",
   "metadata": {
    "ExecuteTime": {
     "end_time": "2022-04-28T19:52:20.613315Z",
     "start_time": "2022-04-28T19:52:20.598722Z"
    }
   },
   "outputs": [
    {
     "name": "stdout",
     "output_type": "stream",
     "text": [
      "AMZN Jan 2023 call expire on 2023-01-20\n",
      "The current price as of April 27 is 2787.820068359375\n",
      "The current volatility as of April 27 is 31.47985505575901%\n",
      "The strike price we choose is 3050\n",
      "Days until expire is 269\n"
     ]
    }
   ],
   "source": [
    "rf = 0.01\n",
    "current_price = amzn.tail(1)['Adj Close'][0]\n",
    "strike_price = round(current_price*1.1) //10 * 10 -10\n",
    "\n",
    "# AMZN Jan 2023 1360.000 call expire on 2023-01-20\n",
    "expire_date = datetime(2023,1,20)\n",
    "curr_date = amzn.tail(1).index[0]\n",
    "date_diff = int(str(expire_date - curr_date).split()[0])\n",
    "N = date_diff\n",
    "T = N/365\n",
    "\n",
    "print(\"AMZN Jan 2023 call expire on 2023-01-20\")\n",
    "print(f\"The current price as of April 27 is {current_price}\")\n",
    "print(f\"The current volatility as of April 27 is {amzn_std*100}%\")\n",
    "print(f\"The strike price we choose is {strike_price}\")\n",
    "print(f\"Days until expire is {date_diff}\")\n"
   ]
  },
  {
   "cell_type": "code",
   "execution_count": 14,
   "id": "6e85109d",
   "metadata": {
    "ExecuteTime": {
     "end_time": "2022-04-28T19:51:39.907264Z",
     "start_time": "2022-04-28T19:51:39.880925Z"
    }
   },
   "outputs": [
    {
     "name": "stdout",
     "output_type": "stream",
     "text": [
      "The etimated Amazon call price is 207.12028952948447\n"
     ]
    }
   ],
   "source": [
    "amzn_estimated = binoAmer_fast(s0=current_price,k=strike_price,r=rf,N=N,T=T,sigma=amzn_std,option_type='c',formula='a')\n",
    "\n",
    "print(f'The etimated Amazon call price is {amzn_estimated}')"
   ]
  },
  {
   "cell_type": "markdown",
   "id": "6d964806",
   "metadata": {},
   "source": [
    "__I choose the market option price is 302.75 with strike price of 3050, in which the strike price is closest to my strike price 3050.__\n",
    "\n"
   ]
  },
  {
   "cell_type": "code",
   "execution_count": 15,
   "id": "ff03071c",
   "metadata": {
    "ExecuteTime": {
     "end_time": "2022-04-28T19:51:42.966189Z",
     "start_time": "2022-04-28T19:51:42.943176Z"
    }
   },
   "outputs": [
    {
     "data": {
      "text/plain": [
       "207.0038759638444"
      ]
     },
     "execution_count": 15,
     "metadata": {},
     "output_type": "execute_result"
    }
   ],
   "source": [
    "def d(s0,k,t,sigma,r):\n",
    "    d1 = 1/(sigma*np.sqrt(t)) * (np.log(s0/k)+(r+1/2*sigma**2)*t)\n",
    "    d2 = d1 - sigma*np.sqrt(t)\n",
    "    return d1, d2\n",
    "\n",
    "def BS_call(s0,k,t,sigma,r):\n",
    "    d1,d2 = d(s0,k,t,sigma,r)\n",
    "    call = norm.cdf(d1) * s0 - norm.cdf(d2)*k*np.exp(-r*t)\n",
    "    \n",
    "    return call\n",
    "\n",
    "BS_call(s0=current_price,k=strike_price,t=T,sigma=amzn_std,r=rf)"
   ]
  },
  {
   "cell_type": "code",
   "execution_count": 19,
   "id": "003054f1",
   "metadata": {
    "ExecuteTime": {
     "end_time": "2022-04-28T19:55:45.934018Z",
     "start_time": "2022-04-28T19:55:37.145904Z"
    }
   },
   "outputs": [],
   "source": [
    "target  = 302.75\n",
    "\n",
    "eps= 0.001\n",
    "count = 0\n",
    "max_iter = 1500\n",
    "vol = amzn_std\n",
    "i =0\n",
    "while abs(amzn_estimated-target)>0.01:\n",
    "    if (amzn_estimated>target):\n",
    "        vol -= eps\n",
    "    else:\n",
    "        vol += eps\n",
    "    \n",
    "    amzn_estimated = binoAmer_fast(s0=current_price,k=strike_price,r=rf,N=N,T=T,sigma=vol,option_type='c',formula='a')\n",
    "    i+=1\n",
    "    if i==max_iter:\n",
    "        break\n"
   ]
  },
  {
   "cell_type": "code",
   "execution_count": 20,
   "id": "79e12e1c",
   "metadata": {
    "ExecuteTime": {
     "end_time": "2022-04-28T19:55:46.653541Z",
     "start_time": "2022-04-28T19:55:46.648514Z"
    }
   },
   "outputs": [
    {
     "name": "stdout",
     "output_type": "stream",
     "text": [
      "The volatility should be about 41.48% to make the estimated price equal to the market price.\n"
     ]
    }
   ],
   "source": [
    "new_amzn_std = vol\n",
    "print(f'The volatility should be about {round(new_amzn_std*100,2)}% to make the estimated price equal to the market price.')"
   ]
  },
  {
   "cell_type": "markdown",
   "id": "10ce2eb6",
   "metadata": {},
   "source": [
    "## 3. Consider the following information on the stock of a company and options on it: \n",
    "    S0 = 49, x = 50, r = 0.03, 𝜎 = 0.2, T= 0.3846 (20 weeks), 𝜇 = 0.14.\n",
    "    Using the Binomial Method (any one of the parameter choices) estimate the following and draw the graphs:"
   ]
  },
  {
   "cell_type": "code",
   "execution_count": 17,
   "id": "f50bc48d",
   "metadata": {
    "ExecuteTime": {
     "end_time": "2022-04-29T03:09:34.711161Z",
     "start_time": "2022-04-29T03:09:34.705697Z"
    }
   },
   "outputs": [],
   "source": [
    "s0 = 49\n",
    "k = 50\n",
    "rf = 0.03\n",
    "sigma = 0.2\n",
    "T = 0.3846\n",
    "mu = 0.14\n",
    "\n",
    "s0_range= np.arange(20,82,2)\n",
    "T_range = np.arange(0,0.3846,0.01)\n",
    "N = len(s0_range)"
   ]
  },
  {
   "cell_type": "code",
   "execution_count": 18,
   "id": "b149cd67",
   "metadata": {
    "ExecuteTime": {
     "end_time": "2022-04-29T03:09:35.127758Z",
     "start_time": "2022-04-29T03:09:35.016175Z"
    }
   },
   "outputs": [],
   "source": [
    "delta_s0 = np.zeros(N)\n",
    "delta_t = np.zeros(len(T_range))\n",
    "gamma = np.zeros(N)\n",
    "vega = np.zeros(N)\n",
    "theta = np.zeros(N)\n",
    "rho = np.zeros(N)\n",
    "\n",
    "price= np.zeros(N)\n",
    "for i in range(len(s0_range)):\n",
    "    price[i] =  binoEuro_fast(s0=s0_range[i],k=k,T=T,sigma=sigma,r=rf,N=N,option_type='c',formula='a')\n",
    "    delta_s0[i] = (binoEuro_fast(s0=s0_range[i]+1,k=k,T=T,sigma=sigma,r=rf,N=N,option_type='c',formula='a') - \\\n",
    "               binoEuro_fast(s0=s0_range[i],k=k,T=T,sigma=sigma,r=rf,N=N,option_type='c',formula='a'))/1\n",
    "    gamma[i] = (binoEuro_fast(s0=s0_range[i]+1,k=k,T=T,sigma=sigma,r=rf,N=N,option_type='c',formula='a') +\\\n",
    "                binoEuro_fast(s0=s0_range[i]-1,k=k,T=T,sigma=sigma,r=rf,N=N,option_type='c',formula='a') - \\\n",
    "          2*binoEuro_fast(s0=s0_range[i],k=k,T=T,sigma=sigma,r=rf,N=N,option_type='c',formula='a'))/1\n",
    "    vega[i] = (binoEuro_fast(s0=s0_range[i],k=k,T=T,sigma=sigma+0.01,r=rf,N=N,option_type='c',formula='a') - \\\n",
    "        binoEuro_fast(s0=s0_range[i],k=k,T=T,sigma=sigma,r=rf,N=N,option_type='c',formula='a'))/0.01\n",
    "    theta[i] = -(binoEuro_fast(s0=s0_range[i],k=k,T=T+0.01,sigma=sigma,r=rf,N=N,option_type='c',formula='a')- \\\n",
    "                 binoEuro_fast(s0=s0_range[i],k=k,T=T,sigma=sigma,r=rf,N=N,option_type='c',formula='a'))/0.01\n",
    "    rho[i] = (binoEuro_fast(s0=s0_range[i],k=k,T=T,sigma=sigma,r=rf+0.01,N=N,option_type='c',formula='a') - \\\n",
    "              binoEuro_fast(s0=s0_range[i],k=k,T=T,sigma=sigma,r=rf,N=N,option_type='c',formula='a'))/0.01\n",
    "    \n",
    "price= np.zeros(len(T_range))\n",
    "for i in range(len(T_range)):\n",
    "    price[i] =  binoEuro_fast(s0=s0,k=k,T=T_range[i],sigma=sigma,r=rf,N=N,option_type='c',formula='a')\n",
    "    delta_t[i] = (binoEuro_fast(s0=s0+1,k=k,T=T_range[i],sigma=sigma,r=rf,N=N,option_type='c',formula='a') - \\\n",
    "                 price[i])/1"
   ]
  },
  {
   "cell_type": "code",
   "execution_count": 19,
   "id": "0333dbe9",
   "metadata": {
    "ExecuteTime": {
     "end_time": "2022-04-29T03:09:36.211095Z",
     "start_time": "2022-04-29T03:09:35.891070Z"
    }
   },
   "outputs": [
    {
     "data": {
      "text/plain": [
       "<Figure size 432x288 with 0 Axes>"
      ]
     },
     "metadata": {},
     "output_type": "display_data"
    },
    {
     "data": {
      "image/png": "[encoded data removed]",
      "text/plain": [
       "<Figure size 576x360 with 6 Axes>"
      ]
     },
     "metadata": {},
     "output_type": "display_data"
    }
   ],
   "source": [
    "plt.figure()\n",
    "\n",
    "fig, axs = plt.subplots(2, 3,sharex=True)\n",
    "fig.set_figheight(5)\n",
    "fig.set_figwidth(8)\n",
    "\n",
    "axs[0, 0].plot(delta_s0)\n",
    "axs[0, 0].set_title('Delta S0')\n",
    "\n",
    "axs[0, 1].plot(delta_t)\n",
    "axs[0, 1].set_title('Delta T')\n",
    "\n",
    "axs[1, 0].plot(theta)\n",
    "axs[1, 0].set_title('Theta')\n",
    "\n",
    "axs[1, 1].plot(gamma, 'tab:red')\n",
    "axs[1, 1].set_title('Gamma')\n",
    "\n",
    "axs[1, 2].plot(vega, 'tab:green')\n",
    "axs[1, 2].set_title('Vega')\n",
    "\n",
    "axs[0, 2].plot(rho, 'tab:red')\n",
    "axs[0, 2].set_title('Rho')\n",
    "\n",
    "plt.show()"
   ]
  },
  {
   "cell_type": "code",
   "execution_count": 63,
   "id": "3a4845e7",
   "metadata": {
    "ExecuteTime": {
     "end_time": "2022-04-28T06:00:17.937962Z",
     "start_time": "2022-04-28T06:00:17.738292Z"
    }
   },
   "outputs": [
    {
     "data": {
      "image/png": "[encoded data removed]",
      "text/plain": [
       "<Figure size 720x576 with 1 Axes>"
      ]
     },
     "metadata": {},
     "output_type": "display_data"
    }
   ],
   "source": [
    "plt.figure(figsize=(10,8))\n",
    "\n",
    "plt.plot(delta_s0)\n",
    "plt.plot(gamma)\n",
    "plt.plot(theta)\n",
    "plt.plot(vega)\n",
    "plt.plot(rho)\n",
    "plt.plot(delta_t)\n",
    "plt.legend(['delta_s0','gamma','theta','vega','rho','delta_t'])\n",
    "plt.title('Greeks')\n",
    "\n",
    "plt.show()\n"
   ]
  },
  {
   "cell_type": "markdown",
   "id": "acb4b778",
   "metadata": {},
   "source": [
    "## 4. Consider 12-month put options on a stock of company XYZ. Assume the risk-free rate is 5%/annum, the volatility of the stock price is 30 % /annum, and the strike price of the option is 100. Use a Binomial Method to estimate the prices of European and American Put options with current stock prices varying from 80 to 120 in increments of 4. Draw them all in one graph, compare them and comment on your findings."
   ]
  },
  {
   "cell_type": "code",
   "execution_count": 64,
   "id": "614e0fb9",
   "metadata": {
    "ExecuteTime": {
     "end_time": "2022-04-28T06:00:51.121700Z",
     "start_time": "2022-04-28T06:00:51.105105Z"
    }
   },
   "outputs": [],
   "source": [
    "rf = 0.05\n",
    "sigma = 0.3\n",
    "k = 100\n",
    "T = 1\n",
    "\n",
    "s0_range = np.arange(80,124,4)\n",
    "N = len(s0_range)"
   ]
  },
  {
   "cell_type": "code",
   "execution_count": 65,
   "id": "9790603f",
   "metadata": {
    "ExecuteTime": {
     "end_time": "2022-04-28T06:00:51.714984Z",
     "start_time": "2022-04-28T06:00:51.566985Z"
    }
   },
   "outputs": [
    {
     "data": {
      "image/png": "[encoded data removed]",
      "text/plain": [
       "<Figure size 432x288 with 1 Axes>"
      ]
     },
     "metadata": {},
     "output_type": "display_data"
    }
   ],
   "source": [
    "am_put = [binoAmer_fast(s0=i,N=N,k=k,r=rf,T=T,sigma=sigma,option_type='p',formula='c') for i in s0_range]\n",
    "eu_put = [binoEuro_fast(s0=i,N=N,k=k,r=rf,T=T,sigma=sigma,option_type='p',formula='c') for i in s0_range]\n",
    "\n",
    "plt.figure()\n",
    "\n",
    "plt.plot(am_put)\n",
    "plt.plot(eu_put)\n",
    "\n",
    "plt.legend(['American','European'])\n",
    "plt.show()"
   ]
  },
  {
   "cell_type": "markdown",
   "id": "ea80af9a",
   "metadata": {
    "ExecuteTime": {
     "end_time": "2022-04-27T07:52:53.453836Z",
     "start_time": "2022-04-27T07:52:53.446364Z"
    }
   },
   "source": [
    "## 5. Compare the convergence rates of the two methods, \n",
    "    (a) and (b) described below, by doing the following: Use the Trinomial Method to price a 6-month European Call option with the following information:\n",
    "    the risk-free interest rate is 5% per annum, the volatility is 24%/annum, the current stock price is 32, and the strike price is 30.\n",
    "    Divide the time interval into 𝑛 equal parts to estimate the price of this option. Use n = 10, 15, 20, 40, 70, 80, 100, 200 and 500 to estimate the price and draw them all in one graph, where the horizontal axis measures 𝑛, and the vertical one measures the price of the option.\n",
    "    The two methods are in (a) and (b) below:"
   ]
  },
  {
   "cell_type": "code",
   "execution_count": 90,
   "id": "a2d581bb",
   "metadata": {
    "ExecuteTime": {
     "end_time": "2022-04-28T20:48:20.802301Z",
     "start_time": "2022-04-28T20:48:20.796697Z"
    }
   },
   "outputs": [],
   "source": [
    "T=0.5\n",
    "rf = 0.05\n",
    "sigma = 0.24\n",
    "s0 = 32\n",
    "k =30\n",
    "\n",
    "N= [10,15,20,40,70,80,100,200,5000]"
   ]
  },
  {
   "cell_type": "markdown",
   "id": "008a4c51",
   "metadata": {},
   "source": [
    "__(a) Use the trinomial method applied to the stock price-process (𝑆𝑡) in which__\n",
    "\n",
    "$u = \\frac{1}{d}$, $d = e^{-\\sigma\\sqrt{3\\Delta}}$, $p_d = \\frac{r\\Delta(1 - u) + (r\\Delta)^2 + \\sigma^2\\Delta}{(u-d)(1-d)}$ ,\n",
    "$p_u = \\frac{r\\Delta(1 - d) + (r\\Delta)^2 + \\sigma^2\\Delta}{(u-d)(u-1)}$, $p_m = 1 - p_u - p_d$\n",
    "\n",
    "__(b) Use the trinomial method applied to the Log-stock price-process ($X_t$) in which__\n",
    "\n",
    "$\\Delta X_u = \\sigma\\sqrt{3\\Delta}$, $\\Delta X_d = -\\sigma\\sqrt{3\\Delta}$, $p_u = \\frac{1}{2}\\bigg(\\frac{\\sigma^2\\Delta +\\big(r−\\frac{\\sigma^2}{2}\\big)^2 \\Delta^2}{\\Delta X_u ^2} + \\frac{(r−\\frac{\\sigma^2}{2}) \\Delta}{\\Delta X_u}\\bigg)$, $p_d = \\frac{1}{2}\\bigg(\\frac{\\sigma^2\\Delta +\\big(r−\\frac{\\sigma^2}{2}\\big)^2 \\Delta^2}{\\Delta X_u ^2} - \\frac{(r−\\frac{\\sigma^2}{2}) \\Delta}{\\Delta X_u}\\bigg)$, $P_m = 1 - P_m - P_d$"
   ]
  },
  {
   "cell_type": "code",
   "execution_count": 91,
   "id": "b4a5eb6a",
   "metadata": {
    "ExecuteTime": {
     "end_time": "2022-04-28T20:48:21.204309Z",
     "start_time": "2022-04-28T20:48:21.189737Z"
    },
    "code_folding": [
     1,
     12
    ]
   },
   "outputs": [],
   "source": [
    "# parameters\n",
    "def trino_params(sigma,N,T,r):\n",
    "    dt = T/N\n",
    "    \n",
    "    d = np.exp(-sigma*np.sqrt(3*dt))\n",
    "    u = 1/d\n",
    "    pd = (r*dt*(1-u) + (r*dt)**2 + sigma**2*dt)/((u-d)*(1-d))\n",
    "    pu = (r*dt*(1-d) + (r*dt)**2 + sigma**2*dt)/((u-d)*(u-1))\n",
    "    pm = 1-pu-pd\n",
    "\n",
    "    return pu,pd,pm,u,d\n",
    "\n",
    "def trinoLog_params(sigma,T,N,r):\n",
    "    dt = T/N\n",
    "    dxu = sigma*np.sqrt(3*dt)\n",
    "    dxd = -sigma*np.sqrt(3*dt)\n",
    "    pu = 1/2 * ((sigma**2*dt + (r-sigma**2/2)**2*dt**2)/dxu**2 + (r-sigma**2/2)*dt/dxu )\n",
    "    pd = 1/2 * ((sigma**2*dt + (r-sigma**2/2)**2*dt**2)/dxu**2 - (r-sigma**2/2)*dt/dxu )\n",
    "    pm = 1 - pu - pd\n",
    "    \n",
    "    return pu,pd,pm,dxu,dxd\n"
   ]
  },
  {
   "cell_type": "code",
   "execution_count": 92,
   "id": "d6d7a2f9",
   "metadata": {
    "ExecuteTime": {
     "end_time": "2022-04-28T20:48:21.402137Z",
     "start_time": "2022-04-28T20:48:21.390535Z"
    },
    "code_folding": [
     1
    ]
   },
   "outputs": [],
   "source": [
    "#Trinomial slow approach\n",
    "def trinoEuro_slow(s0,N,k,r,T,sigma,option_type):\n",
    "    \"\"\"\n",
    "    s0: stock price\n",
    "    u: probability of going up\n",
    "    d: probability of going down\n",
    "    N: number of periods\n",
    "    \"\"\"\n",
    "                   \n",
    "    dt = T/N\n",
    "    params = trino_params(sigma,N,T,r)\n",
    "    pu = params[0]\n",
    "    pd = params[1]\n",
    "    pm = params[2]\n",
    "    u = params[3]\n",
    "    d = params[4]\n",
    " \n",
    "    disc = np.exp(-r*dt)        # discount back\n",
    "  \n",
    "    S = np.zeros(2*N+1) \n",
    "    S[2*N] = s0*(d**N)\n",
    "    for i in range(2*N-1,-1,-1):\n",
    "        S[i] = S[i+1] * u\n",
    "    C = np.zeros(2*N+1)\n",
    "    for i in range(2*N-1,-1,-1):\n",
    "        C[i] = max(0,S[i]-k)\n",
    "\n",
    "    for i in range(N-1,-1,-1):\n",
    "        for j in range(2*N-1):\n",
    "            C[j] = (pu*C[j]+pm*C[j+1]+pd*C[j+2])*disc\n",
    "\n",
    "    return C[0]\n",
    "#trinoEuro_slow(s0=32,N=10,k=30,r=0.05,T=0.5,sigma=0.24,option_type='c')"
   ]
  },
  {
   "cell_type": "code",
   "execution_count": 93,
   "id": "947feaa5",
   "metadata": {
    "ExecuteTime": {
     "end_time": "2022-04-28T20:48:21.637516Z",
     "start_time": "2022-04-28T20:48:21.623557Z"
    },
    "code_folding": [
     1
    ]
   },
   "outputs": [],
   "source": [
    "# Trinomial fast approach\n",
    "def trinoEuro_fast(s0,N,k,r,T,sigma,option_type):\n",
    "    \"\"\"\n",
    "    s0: stock price\n",
    "    u: probability of going up\n",
    "    d: probability of going down\n",
    "    N: number of periods\n",
    "    \"\"\"\n",
    "                   \n",
    "    dt = T/N\n",
    "    params = trino_params(sigma,N,T,r)\n",
    "    pu = params[0]\n",
    "    pd = params[1]\n",
    "    pm = params[2]\n",
    "    u = params[3]\n",
    "    d = params[4]\n",
    " \n",
    "    disc = np.exp(-r*dt)        # discount back\n",
    "  \n",
    "    S = np.zeros(2*N+1) \n",
    "    S[2*N] = s0*(d**N)\n",
    "    for i in range(2*N-1,-1,-1):\n",
    "        S[i] = S[i+1] * u\n",
    "    \n",
    "    C = np.maximum(S-k,np.zeros(2*N+1))\n",
    "\n",
    "\n",
    "    for i in range(0,N,1):     # step backwards, find payoff of previous period\n",
    "        C = disc*(pu*C[:-2] +pm*C[1:-1] + pd*C[2:])\n",
    "\n",
    "    return C[0]\n",
    "\n",
    "# trinoEuro_fast(s0=32,N=10,k=30,r=0.05,T=0.5,sigma=0.24,option_type='c')"
   ]
  },
  {
   "cell_type": "code",
   "execution_count": 94,
   "id": "27dc2aca",
   "metadata": {
    "ExecuteTime": {
     "end_time": "2022-04-28T20:48:21.971183Z",
     "start_time": "2022-04-28T20:48:21.958054Z"
    },
    "code_folding": []
   },
   "outputs": [],
   "source": [
    "# Trinomial Log approach\n",
    "def trinoEuroLog(s0,N,k,r,T,sigma,option_type):\n",
    "    \"\"\"\n",
    "    s0: stock price\n",
    "    u: probability of going up\n",
    "    d: probability of going down\n",
    "    N: number of periods\n",
    "    \"\"\"\n",
    "                   \n",
    "    dt = T/N\n",
    "    params = trinoLog_params(sigma,T,N,r)\n",
    "    pu = params[0]\n",
    "    pd = params[1]\n",
    "    pm = params[2]\n",
    "    dxu = params[3]\n",
    "    dxd = params[4]\n",
    " \n",
    "    disc = np.exp(-r*dt)        # discount back\n",
    "  \n",
    "    S = np.zeros(2*N+1) \n",
    "    S[2*N] = np.exp(np.log(s0)+dxd*N)\n",
    "    \n",
    "    for i in range(2*N-1,-1,-1):\n",
    "        S[i] = np.exp(np.log(S[i+1])+dxu)\n",
    "    \n",
    "    C = np.maximum(S-k,np.zeros(2*N+1))\n",
    "\n",
    "    for i in range(0,N,1):     # step backwards, find payoff of previous period\n",
    "        C = disc*(pu*C[:-2] +pm*C[1:-1] + pd*C[2:])\n",
    "\n",
    "    return C[0]\n",
    "\n",
    "# trinoEuroLog(s0=32,N=10,k=30,r=0.05,T=0.5,sigma=0.24,option_type='c')"
   ]
  },
  {
   "cell_type": "code",
   "execution_count": 95,
   "id": "a0ff70b5",
   "metadata": {
    "ExecuteTime": {
     "end_time": "2022-04-28T20:48:22.570122Z",
     "start_time": "2022-04-28T20:48:22.343519Z"
    }
   },
   "outputs": [],
   "source": [
    "a_trino = [trinoEuro_fast(s0=s0,N=i,k=k,r=rf,T=T,sigma=sigma,option_type='c') for i in N]\n",
    "b_trino = [trinoEuroLog(s0=s0,N=i,k=k,r=rf,T=T,sigma=sigma,option_type='c') for i in N]"
   ]
  },
  {
   "cell_type": "code",
   "execution_count": 96,
   "id": "ef435c6d",
   "metadata": {
    "ExecuteTime": {
     "end_time": "2022-04-28T20:48:22.931202Z",
     "start_time": "2022-04-28T20:48:22.775700Z"
    }
   },
   "outputs": [
    {
     "data": {
      "image/png": "[encoded data removed]",
      "text/plain": [
       "<Figure size 576x360 with 1 Axes>"
      ]
     },
     "metadata": {},
     "output_type": "display_data"
    }
   ],
   "source": [
    "plt.figure(figsize=(8,5))\n",
    "\n",
    "plt.plot(a_trino)\n",
    "plt.plot(b_trino)\n",
    "plt.legend(['Trinomial','Log-Trinomial'])\n",
    "plt.show()"
   ]
  },
  {
   "cell_type": "markdown",
   "id": "39ac0313",
   "metadata": {},
   "source": [
    "## 6. Use Halton’s Low-Discrepancy Sequences to price European Call options."
   ]
  },
  {
   "cell_type": "code",
   "execution_count": 97,
   "id": "5590f3c9",
   "metadata": {
    "ExecuteTime": {
     "end_time": "2022-04-28T21:03:15.107307Z",
     "start_time": "2022-04-28T21:03:15.093286Z"
    },
    "code_folding": []
   },
   "outputs": [],
   "source": [
    "def halton_oneD(n,base):\n",
    "    \"\"\"\n",
    "    One-dimensional Halton sequence \n",
    "    (the code is adopted from Brandimarte’s “Numerical methods in finance and economics: \n",
    "    a MATLAB-based introduction”)\n",
    "    \n",
    "    \"\"\"\n",
    "    sequence = np.zeros(n)\n",
    "    numbits = int(1 + np.ceil(np.log(n)/np.log(base)))\n",
    "    VetBase = [1/base**(i+1) for i in range(numbits)]\n",
    "    WorkVet = np.zeros(numbits)\n",
    "    for i in range(n):\n",
    "        j=0\n",
    "        ok = 0\n",
    "        while ok==0:\n",
    "            WorkVet[j] = WorkVet[j]+1\n",
    "            if WorkVet[j] < base:\n",
    "                ok = 1\n",
    "            else:\n",
    "                WorkVet[j] = 0\n",
    "                j = j+1\n",
    "        sequence[i] = np.dot(WorkVet,VetBase)\n",
    "        \n",
    "    return sequence"
   ]
  },
  {
   "cell_type": "code",
   "execution_count": 98,
   "id": "1d844d20",
   "metadata": {
    "ExecuteTime": {
     "end_time": "2022-04-28T21:03:15.401909Z",
     "start_time": "2022-04-28T21:03:15.389472Z"
    },
    "code_folding": [
     0
    ]
   },
   "outputs": [],
   "source": [
    "def Halton_Box_Muller(N,base1,base2):\n",
    "    \n",
    "    H1 = halton_oneD(N//2,base1)\n",
    "    H2 = halton_oneD(N//2,base2)\n",
    "    \n",
    "    norm_variable = []\n",
    "\n",
    "    i = 0\n",
    "    j=N//2\n",
    "\n",
    "    while i<j:\n",
    "        u1 = H1[i]\n",
    "        u2 = H2[i]\n",
    "\n",
    "        z1 = np.sqrt(-2*np.log(u1))*np.cos(2*np.pi*u2)\n",
    "        z2 = np.sqrt(-2*np.log(u1))*np.sin(2*np.pi*u2)\n",
    "\n",
    "        norm_variable.append(z1)\n",
    "        norm_variable.append(z2)\n",
    "\n",
    "        i+=1\n",
    "    return norm_variable"
   ]
  },
  {
   "cell_type": "code",
   "execution_count": 99,
   "id": "833432ed",
   "metadata": {
    "ExecuteTime": {
     "end_time": "2022-04-28T21:03:15.884072Z",
     "start_time": "2022-04-28T21:03:15.875383Z"
    },
    "code_folding": []
   },
   "outputs": [],
   "source": [
    "def EuroCall_Halton(s0,k,r,T,N,sigma,base1,base2):\n",
    "    rv = Halton_Box_Muller(N,base1,base2)\n",
    "    rv = np.array(rv)\n",
    "    St = s0*np.exp((r-sigma**2/2)*T + sigma*np.sqrt(T)*rv)\n",
    "    \n",
    "    payoff = np.maximum(St-k, np.zeros(N))\n",
    "    call = np.exp(-r*T) * np.mean(payoff)\n",
    "    \n",
    "    return call"
   ]
  },
  {
   "cell_type": "code",
   "execution_count": 100,
   "id": "bbf73738",
   "metadata": {
    "ExecuteTime": {
     "end_time": "2022-04-28T21:03:16.407774Z",
     "start_time": "2022-04-28T21:03:16.375710Z"
    }
   },
   "outputs": [
    {
     "name": "stdout",
     "output_type": "stream",
     "text": [
      "The estimated call price is: 3.724505550012962\n"
     ]
    }
   ],
   "source": [
    "call_price = EuroCall_Halton(s0=32,k=30,r=0.05,T=0.5,sigma=0.24,N=1000,base1=2,base2=5)\n",
    "print(f\"The estimated call price is: {call_price}\")"
   ]
  },
  {
   "cell_type": "code",
   "execution_count": null,
   "id": "608fdc5d",
   "metadata": {},
   "outputs": [],
   "source": []
  }
 ],
 "metadata": {
  "kernelspec": {
   "display_name": "Python 3 (ipykernel)",
   "language": "python",
   "name": "python3"
  },
  "language_info": {
   "codemirror_mode": {
    "name": "ipython",
    "version": 3
   },
   "file_extension": ".py",
   "mimetype": "text/x-python",
   "name": "python",
   "nbconvert_exporter": "python",
   "pygments_lexer": "ipython3",
   "version": "3.9.7"
  },
  "latex_envs": {
   "LaTeX_envs_menu_present": true,
   "autoclose": false,
   "autocomplete": true,
   "bibliofile": "biblio.bib",
   "cite_by": "apalike",
   "current_citInitial": 1,
   "eqLabelWithNumbers": true,
   "eqNumInitial": 1,
   "hotkeys": {
    "equation": "Ctrl-E",
    "itemize": "Ctrl-I"
   },
   "labels_anchors": false,
   "latex_user_defs": false,
   "report_style_numbering": false,
   "user_envs_cfg": false
  }
 },
 "nbformat": 4,
 "nbformat_minor": 5
}
