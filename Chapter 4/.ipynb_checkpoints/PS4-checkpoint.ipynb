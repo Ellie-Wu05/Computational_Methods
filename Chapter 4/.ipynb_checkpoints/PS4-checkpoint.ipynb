{
 "cells": [
  {
   "cell_type": "markdown",
   "id": "65e0b3f4",
   "metadata": {},
   "source": [
    "# PS4"
   ]
  },
  {
   "cell_type": "code",
   "execution_count": 521,
   "id": "1903c091",
   "metadata": {
    "ExecuteTime": {
     "end_time": "2022-04-27T07:19:01.073513Z",
     "start_time": "2022-04-27T07:19:01.055904Z"
    }
   },
   "outputs": [],
   "source": [
    "import numpy as np\n",
    "import matplotlib.pyplot as plt\n",
    "import seaborn as sns\n",
    "import pandas as pd\n",
    "import yfinance as yf\n",
    "from datetime import datetime \n",
    "\n",
    "new_line = '\\n'\n",
    "pd.options.mode.chained_assignment = None \n",
    "import warnings\n",
    "warnings.filterwarnings('ignore')\n",
    "\n",
    "sns.set_style('darkgrid')\n",
    "sns.set(font_scale=1.5, rc={'text.usetex' : True,})"
   ]
  },
  {
   "cell_type": "code",
   "execution_count": 522,
   "id": "1d42b021",
   "metadata": {
    "ExecuteTime": {
     "end_time": "2022-04-27T07:19:01.459608Z",
     "start_time": "2022-04-27T07:19:01.451810Z"
    },
    "code_folding": [
     0
    ]
   },
   "outputs": [],
   "source": [
    "# def binoEuro_slow(s0,u,d,N,k,r,T,option_type):\n",
    "#     \"\"\"\n",
    "#     s0: stock price\n",
    "#     u: probability of going up\n",
    "#     d: probability of going down\n",
    "#     N: number of periods\n",
    "#     \"\"\"\n",
    "#     dt = T/N\n",
    "#     p = (np.exp(r*dt)-d)/(u-d)  # risk-neutral probability\n",
    "#     disc = np.exp(-r*dt)        # discount back\n",
    " \n",
    "#     S = np.zeros(N+1)           # N -period, every period has N+1 nodes\n",
    "#     S[N] = s0*d**N              # last botton node\n",
    "    \n",
    "#     for j in range(N-1,-1,-1):  #find the stock prices in last period\n",
    "#         S[j] = S[j+1]*u/d  \n",
    "     \n",
    "#     C = np.zeros(N+1)           #find the call payoff of each price node\n",
    "#     for j in range(N+1):\n",
    "#         if option_type.lower() =='c':\n",
    "#             C[j] = max(S[j]-k,0)\n",
    "#         else:\n",
    "#             C[j] = max(k-S[j],0)\n",
    "\n",
    "#     for i in range(N,0,-1):     # step backwards, find payoff of previous period\n",
    "#         for j in range(i):\n",
    "#             C[j] = disc * (p *(C[j]) + (1-p)*C[j+1])\n",
    "\n",
    "#     return C[0]\n",
    "# binoEuro_slow(s0=34,u=1.25,d=0.7,N=2,r=0.03,k=30,T=2,option_type='C')"
   ]
  },
  {
   "cell_type": "code",
   "execution_count": 523,
   "id": "8c567366",
   "metadata": {
    "ExecuteTime": {
     "end_time": "2022-04-27T07:19:01.941543Z",
     "start_time": "2022-04-27T07:19:01.937728Z"
    },
    "code_folding": []
   },
   "outputs": [],
   "source": [
    "# def binoEuro_fast(s0,u,d,N,k,r,T,option_type):\n",
    "#     \"\"\"\n",
    "#     s0: stock price\n",
    "#     u: probability of going up\n",
    "#     d: probability of going down\n",
    "#     N: number of periods\n",
    "#     \"\"\"\n",
    "#     dt = T/N\n",
    "#     p = (np.exp(r*dt)-d)/(u-d)  # risk-neutral probability\n",
    "#     disc = np.exp(-r*dt)        # discount back\n",
    "    \n",
    "#     S =s0* u**np.arange(0,N+1,1)*d**np.arange(N,-1,-1)         # stock prices at last step\n",
    "#     S = S[::-1]\n",
    "   \n",
    "#     if option_type.lower() =='c':\n",
    "#         S = np.maximum(S-k, np.zeros(N+1))\n",
    "#     else:\n",
    "#         S = np.maximum(k-S, np.zeros(N+1))\n",
    "        \n",
    "#     for i in range(N,0,-1):     # step backwards, find payoff of previous period\n",
    "#         S = disc*(p*S[0:i] +(1-p)*S[1:i+1])\n",
    "\n",
    "#     return S[0]\n",
    "# binoEuro_fast(s0=34,u=1.25,d=0.7,N=2,r=0.03,k=30,T=2,option_type='C')"
   ]
  },
  {
   "cell_type": "code",
   "execution_count": 580,
   "id": "1653222b",
   "metadata": {
    "ExecuteTime": {
     "end_time": "2022-04-27T07:58:46.141106Z",
     "start_time": "2022-04-27T07:58:46.116627Z"
    },
    "code_folding": [
     0
    ]
   },
   "outputs": [
    {
     "data": {
      "text/plain": [
       "4.654588754602527"
      ]
     },
     "execution_count": 580,
     "metadata": {},
     "output_type": "execute_result"
    }
   ],
   "source": [
    "def binoAmer_slow(s0,u,d,N,k,r,T,option_type):\n",
    "    dt = T/N\n",
    "    p = (np.exp(r*dt)-d)/(u-d)\n",
    "    disc = np.exp(-r*dt) \n",
    "    \n",
    "    \n",
    "    S = np.zeros(N+1)        # stock prices at last step\n",
    "    for j in range(0,N+1):\n",
    "        S[j] = s0*u**j*d**(N-j)\n",
    "        \n",
    "        \n",
    "    C = np.zeros(N+1)  \n",
    "    for j in range(0,N+1):\n",
    "        if option_type.lower()=='c':\n",
    "            C[j] = max(S[j]-k,0)\n",
    "        else:\n",
    "            C[j] = max(k-S[j],0)\n",
    " \n",
    "    for i in np.arange(N-1,-1,-1):\n",
    "        for j in range(0,i+1):\n",
    "            S = s0 *u**j*d**(i-j)\n",
    "            C[j] = disc * (p * C[j+1] + (1-p)* C[j])\n",
    "            if option_type.lower()=='c':\n",
    "                C[j] = max(S-k,C[j])\n",
    "            else:\n",
    "                C[j] = max(k-S,C[j])\n",
    " \n",
    "    return C[0]\n",
    "\n",
    "binoAmer_slow(s0=100,u=1.1,d=1/1.1,N=3,k=100,r=0.06,T=1,option_type='P')"
   ]
  },
  {
   "cell_type": "code",
   "execution_count": null,
   "id": "9aa0a938",
   "metadata": {},
   "outputs": [],
   "source": [
    "def binoAmer_fast(s0,u,d,N,k,r,T,option_type):\n",
    "    dt = T/N\n",
    "    p = (np.exp(r*dt)-d)/(u-d)\n",
    "    disc = np.exp(-r*dt) \n",
    "    \n",
    "    \n",
    "    S = s0* u**np.arange(0,N+1,1)*d**np.arange(N,-1,-1)       # stock prices at last step\n",
    "    \n",
    "\n",
    "    if option_type.lower()=='c':\n",
    "        C = np.maximum(0,S - k)\n",
    "    else:\n",
    "        C = np.maximum(0,k - S)\n",
    " \n",
    "    for i in np.arange(N-1,-1,-1):\n",
    "        for j in range(0,i+1):\n",
    "            S = s0 *u**j*d**(i-j)\n",
    "            C[j] = disc * (p * C[j+1] + (1-p)* C[j])\n",
    "            if option_type.lower()=='c':\n",
    "                C[j] = max(S-k,C[j])\n",
    "            else:\n",
    "                C[j] = max(k-S,C[j])\n",
    " \n",
    "    return C[0]\n",
    "\n",
    "binoAmer_fast(s0=100,u=1.1,d=1/1.1,N=3,k=100,r=0.06,T=1,option_type='P')"
   ]
  },
  {
   "cell_type": "code",
   "execution_count": 525,
   "id": "3af760c7",
   "metadata": {
    "ExecuteTime": {
     "end_time": "2022-04-27T07:19:03.111055Z",
     "start_time": "2022-04-27T07:19:03.106550Z"
    },
    "code_folding": [
     0
    ]
   },
   "outputs": [],
   "source": [
    "# def AmericanPut_Matrix(s0,u,d,N,k,r,T,option_type):\n",
    "#     dt = T/N\n",
    "#     p = (np.exp(r*dt)-d)/(u-d)\n",
    "# #     p=0.667\n",
    "#     disc = np.exp(-r)\n",
    "# #     disc = np.exp(-r)\n",
    "    \n",
    "#     S = np.zeros(shape=(N+1,N+1))\n",
    "#     CV = np.zeros(shape=(N+1,N+1))\n",
    "#     EV = np.zeros(shape=(N+1,N+1))\n",
    "\n",
    "#     S[0][0] = s0\n",
    "\n",
    "#     for i in range(N):\n",
    "#         for j in range(i,N):\n",
    "#             S[i][j+1] = S[i][j]*u\n",
    "#             S[i+1][j+1] = S[i][j]*d\n",
    "\n",
    "#     for i in range(N,0,-1):\n",
    "#         for j in range(i,N+1):\n",
    "#             EV[i][j] = max(k-S[i][j],0)\n",
    "#             CV[i-1][j-1] = disc * (p*EV[i-1][j] + (1-p)* EV[i][j])\n",
    "#             CV[i][j] = max(CV[i][j],EV[i][j])\n",
    "#             CV[i-1][j-1] = disc * (p*CV[i-1][j] + (1-p)* CV[i][j])\n",
    "\n",
    "#     CV[0][0] = disc * (p*CV[0][1] + (1-p)* CV[1][1])\n",
    "    \n",
    "#     return CV[0][0],CV\n",
    "\n",
    "# AmericanPut_Matrix(s0,u,d,N,k,r,T,option_type='p')"
   ]
  },
  {
   "cell_type": "code",
   "execution_count": 526,
   "id": "927d44c7",
   "metadata": {
    "ExecuteTime": {
     "end_time": "2022-04-27T07:19:03.622324Z",
     "start_time": "2022-04-27T07:19:03.605256Z"
    },
    "code_folding": [
     0
    ]
   },
   "outputs": [],
   "source": [
    "def parameters(r,sigma,N,T,formula):\n",
    "    dt = T/N\n",
    "    if formula == 'a':\n",
    "        c = 0.5 * (np.exp(-r*dt) + np.exp( (r+sigma**2)*dt) )\n",
    "        d = c - np.sqrt(c**2 -1)\n",
    "        u = 1/d\n",
    "        p = (np.exp(r*dt) -d) / (u-d)\n",
    "    elif formula == 'b':\n",
    "        u = np.exp(r*dt)*(1+np.sqrt(np.exp(sigma**2*dt)-1))\n",
    "        d = np.exp(r*dt)*(1-np.sqrt(np.exp(sigma**2*dt)-1))\n",
    "        p = 0.5\n",
    "    elif formula =='c':\n",
    "        u = np.exp((r-sigma**2/2)*dt + sigma*np.sqrt(dt))\n",
    "        d = np.exp((r-sigma**2/2)*dt - sigma*np.sqrt(dt))\n",
    "        p=0.5\n",
    "    elif formula =='d':\n",
    "        u = np.exp(sigma*np.sqrt(dt))\n",
    "        d = np.exp(-sigma*np.sqrt(dt))\n",
    "        p = 1/2 + 1/2*((r-sigma**2/2)*np.sqrt(dt))/sigma\n",
    "    \n",
    "    return u, d, p, N"
   ]
  },
  {
   "cell_type": "code",
   "execution_count": 527,
   "id": "b0f50ae4",
   "metadata": {
    "ExecuteTime": {
     "end_time": "2022-04-27T07:19:04.054332Z",
     "start_time": "2022-04-27T07:19:04.037296Z"
    },
    "code_folding": [
     0
    ]
   },
   "outputs": [],
   "source": [
    "def binoEuro_slow(s0,N,k,r,T,sigma,option_type,formula):\n",
    "    \"\"\"\n",
    "    s0: stock price\n",
    "    u: probability of going up\n",
    "    d: probability of going down\n",
    "    N: number of periods\n",
    "    \"\"\"\n",
    "    dt = T/N\n",
    "    params = parameters(r,sigma,N,T,formula)\n",
    "    u = params[0]\n",
    "    d = params[1]\n",
    "    p = params[2]\n",
    "    \n",
    "    disc = np.exp(-r*dt)        # discount back\n",
    " \n",
    "    S = np.zeros(N+1)           # N -period, every period has N+1 nodes\n",
    "    S[N] = s0*d**N              # last botton node\n",
    "    \n",
    "    for j in range(N-1,-1,-1):  #find the stock prices in last period\n",
    "        S[j] = S[j+1]*u/d  \n",
    "     \n",
    "    C = np.zeros(N+1)           #find the call payoff of each price node\n",
    "    for j in range(N+1):\n",
    "        if option_type.lower() =='c':\n",
    "            C[j] = max(S[j]-k,0)\n",
    "        else:\n",
    "            C[j] = max(k-S[j],0)\n",
    "\n",
    "    for i in range(N,0,-1):     # step backwards, find payoff of previous period\n",
    "        for j in range(i):\n",
    "            C[j] = disc * (p *(C[j]) + (1-p)*C[j+1])\n",
    "\n",
    "    return C[0]"
   ]
  },
  {
   "cell_type": "code",
   "execution_count": 528,
   "id": "c57551e4",
   "metadata": {
    "ExecuteTime": {
     "end_time": "2022-04-27T07:19:04.419078Z",
     "start_time": "2022-04-27T07:19:04.402420Z"
    },
    "code_folding": [
     0
    ]
   },
   "outputs": [],
   "source": [
    "def binoEuro_fast(s0,N,k,r,T,sigma,option_type,formula):\n",
    "    \"\"\"\n",
    "    s0: stock price\n",
    "    u: probability of going up\n",
    "    d: probability of going down\n",
    "    N: number of periods\n",
    "    \"\"\"\n",
    "    dt = T/N\n",
    "    params = parameters(r,sigma,N,T,formula)\n",
    "    u = params[0]\n",
    "    d = params[1]\n",
    "    p = params[2]\n",
    "    \n",
    "    disc = np.exp(-r*dt)        # discount back\n",
    "    \n",
    "    S =s0* u**np.arange(0,N+1,1)*d**np.arange(N,-1,-1)         # stock prices at last step\n",
    "    S = S[::-1]\n",
    "   \n",
    "    if option_type.lower() =='c':\n",
    "        S = np.maximum(S-k, np.zeros(N+1))\n",
    "    else:\n",
    "        S = np.maximum(k-S, np.zeros(N+1))\n",
    "        \n",
    "    for i in range(N,0,-1):     # step backwards, find payoff of previous period\n",
    "        S = disc*(p*S[0:i] +(1-p)*S[1:i+1])\n",
    "\n",
    "    return S[0]"
   ]
  },
  {
   "cell_type": "code",
   "execution_count": 569,
   "id": "e939c6e6",
   "metadata": {
    "ExecuteTime": {
     "end_time": "2022-04-27T07:52:46.753489Z",
     "start_time": "2022-04-27T07:52:46.728964Z"
    },
    "code_folding": [
     0
    ]
   },
   "outputs": [],
   "source": [
    "def AmericanPut_Matrix(s0,N,k,r,T,sigma,option_type,formula):\n",
    "    dt = T/N\n",
    "    params = parameters(r,sigma,N,T,formula)\n",
    "    u = params[0]\n",
    "    d = params[1]\n",
    "    p = params[2]\n",
    "    disc = np.exp(-r*dt)\n",
    "    \n",
    "    S = np.zeros(shape=(N+1,N+1))\n",
    "    CV = np.zeros(shape=(N+1,N+1))\n",
    "    EV = np.zeros(shape=(N+1,N+1))\n",
    "\n",
    "    S[0][0] = s0\n",
    "\n",
    "    for i in range(N):\n",
    "        for j in range(i,N):\n",
    "            S[i][j+1] = S[i][j]*u\n",
    "            S[i+1][j+1] = S[i][j]*d\n",
    "\n",
    "    for i in range(N,0,-1):\n",
    "        for j in range(i,N+1):\n",
    "            EV[i][j] = max(k-S[i][j],0)\n",
    "            CV[i-1][j-1] = disc * (p*EV[i-1][j] + (1-p)* EV[i][j])\n",
    "            CV[i][j] = max(CV[i][j],EV[i][j])\n",
    "            CV[i-1][j-1] = disc * (p*CV[i-1][j] + (1-p)* CV[i][j])\n",
    "\n",
    "    CV[0][0] = disc * (p*CV[0][1] + (1-p)* CV[1][1])\n",
    "    \n",
    "    return CV[0][0]\n"
   ]
  },
  {
   "cell_type": "markdown",
   "id": "2846be8b",
   "metadata": {},
   "source": [
    "## 1. Compare the convergence rates of the four methods below by doing the following:\n",
    "Use the Binomial Method to price a 6-month European Call option with the following information: the risk-free interest rate is 5% per annum; the volatility is 24% per annum; the current stock price is 32; and the strike price is $30. Divide the time interval into 𝑛 parts to estimate the price of this option. Use 𝑛 = 10,20,40,80,100,200, and 500 to estimate the price and draw all resulting prices in one graph, where the horizontal axis measures 𝑛, and the vertical one the price of the option."
   ]
  },
  {
   "cell_type": "markdown",
   "id": "2a81b45a",
   "metadata": {},
   "source": [
    "__(a)__\n",
    "\n",
    "$\\mu = \\frac{1}{d},~~~~~~~~~ d = c-\\sqrt{c^2-1} ~~~~~~~~~c=\\frac{1}{2}(e^{-r\\Delta}+e^{(r+\\sigma^2)\\Delta}),~~~~~~~~p=\\frac{e^{r\\Delta}-d}{u-d}$\n",
    "\n",
    "__(b)__\n",
    "\n",
    "$\\mu = e^{r\\Delta}(1+\\sqrt{e^{\\sigma^2\\Delta}-1}),~~~~~~~~~ d = e^{r\\Delta}(1-\\sqrt{e^{\\sigma^2\\Delta}-1}) ~~~~~~~~~~~~~~p=\\frac{1}{2}$\n",
    "\n",
    "__(c)__\n",
    "\n",
    "$\\mu = e^{(r-\\frac{\\sigma^2}{2})\\Delta+\\sigma\\Delta} ~~~~~~ d = e^{(r-\\frac{\\sigma^2}{2})\\Delta-\\sigma\\Delta}~~~~~~~p=\\frac{1}{2}$\n",
    "\n",
    "__(d)__\n",
    "\n",
    "$\\mu = e^{\\sigma\\sqrt{\\Delta}} ~~~~~~ d =e^{-\\sigma\\sqrt\\Delta}~~~~~~~ p= \\frac{1}{2}+\\frac{1}{2}(\\frac{(r-\\frac{\\sigma^2}{2})\\sqrt\\Delta}{\\sigma})$"
   ]
  },
  {
   "cell_type": "code",
   "execution_count": 45,
   "id": "d3882e94",
   "metadata": {
    "ExecuteTime": {
     "end_time": "2022-04-27T04:03:06.441020Z",
     "start_time": "2022-04-27T04:03:06.251324Z"
    }
   },
   "outputs": [
    {
     "data": {
      "image/png": "[encoded data removed]",
      "text/plain": [
       "<Figure size 576x360 with 1 Axes>"
      ]
     },
     "metadata": {},
     "output_type": "display_data"
    }
   ],
   "source": [
    "T = 0.5\n",
    "rf = 0.05\n",
    "sigma = 0.24\n",
    "s0 = 32\n",
    "N = [10,20,40,80,100,200,500]\n",
    "k=30\n",
    "\n",
    "a_call = [binoEuro_fast(s0=s0,k=k,T=T,sigma=sigma,r=rf,N=i,option_type='c',formula='a') for i in N]\n",
    "b_call = [binoEuro_fast(s0=s0,k=k,T=T,sigma=sigma,r=rf,N=i,option_type='c',formula='b') for i in N]\n",
    "c_call = [binoEuro_fast(s0=s0,k=k,T=T,sigma=sigma,r=rf,N=i,option_type='c',formula='c') for i in N]\n",
    "d_call = [binoEuro_fast(s0=s0,k=k,T=T,sigma=sigma,r=rf,N=i,option_type='c',formula='d') for i in N]\n",
    "\n",
    "question_1 = pd.DataFrame(list(zip(N,a_call,b_call,c_call,d_call)))\n",
    "question_1.columns=['Steps','a','b','c','d']\n",
    "question_1 = question_1.set_index('Steps')\n",
    "\n",
    "plt.figure(figsize=(8,5))\n",
    "plt.plot(question_1.iloc[:,:])\n",
    "plt.legend(['a','b','c','d'])\n",
    "plt.title('Four methods')\n",
    "\n",
    "plt.show()"
   ]
  },
  {
   "cell_type": "markdown",
   "id": "b5416641",
   "metadata": {},
   "source": [
    "## 2. \n",
    "    Take the current price of AMZN. Use risk-free rate of 1% per annum, and a strike price that is the closest integer to 110% of the current price (divisible by 50). Estimate the price of the American Call option that expires in January of next year, using the Binomial Method. AMZN does not pay dividends. To estimate the historical volatility, use 60 months of historical stock price data on the company. You may use Bloomberg or finance.yahoo.com to obtain historical prices and the current stock price of AMZN.\n"
   ]
  },
  {
   "cell_type": "code",
   "execution_count": 46,
   "id": "ef3eedfc",
   "metadata": {
    "ExecuteTime": {
     "end_time": "2022-04-27T04:03:07.377248Z",
     "start_time": "2022-04-27T04:03:06.677571Z"
    }
   },
   "outputs": [
    {
     "name": "stdout",
     "output_type": "stream",
     "text": [
      "[*********************100%***********************]  1 of 1 completed\n"
     ]
    }
   ],
   "source": [
    "# last 60 months data\n",
    "amzn = yf.download(\"AMZN\", start=\"2017-04-26\", end=\"2022-04-26\")"
   ]
  },
  {
   "cell_type": "code",
   "execution_count": 47,
   "id": "305f9317",
   "metadata": {
    "ExecuteTime": {
     "end_time": "2022-04-27T04:03:07.383577Z",
     "start_time": "2022-04-27T04:03:07.379345Z"
    }
   },
   "outputs": [],
   "source": [
    "amzn['return'] = amzn['Adj Close'].pct_change(1)\n",
    "amzn_std_daily = np.std(amzn['return'])\n",
    "amzn_std =amzn_std_daily*np.sqrt(252)\n"
   ]
  },
  {
   "cell_type": "code",
   "execution_count": 48,
   "id": "8243294d",
   "metadata": {
    "ExecuteTime": {
     "end_time": "2022-04-27T04:03:07.387813Z",
     "start_time": "2022-04-27T04:03:07.384556Z"
    }
   },
   "outputs": [],
   "source": [
    "rf = 0.01\n",
    "current_price = amzn.tail(1)['Adj Close'][0]\n",
    "strike_price = round(current_price*1.1) //10 * 10\n",
    "\n",
    "# AMZN Jan 2023 1360.000 call expire on 2023-01-20\n",
    "expire_date = datetime(2023,1,20)\n",
    "curr_date = amzn.tail(1).index[0]\n",
    "date_diff = int(str(expire_date - curr_date).split()[0])\n"
   ]
  },
  {
   "cell_type": "markdown",
   "id": "2fe968ed",
   "metadata": {},
   "source": [
    "## 3. Consider the following information on the stock of a company and options on it: \n",
    "    S0 = 49, x = 50, r = 0.03, 𝜎 = 0.2, T= 0.3846 (20 weeks), 𝜇 = 0.14.\n",
    "    Using the Binomial Method (any one of the parameter choices) estimate the following and draw the graphs:"
   ]
  },
  {
   "cell_type": "code",
   "execution_count": 49,
   "id": "a936ed01",
   "metadata": {
    "ExecuteTime": {
     "end_time": "2022-04-27T04:03:07.968292Z",
     "start_time": "2022-04-27T04:03:07.962927Z"
    }
   },
   "outputs": [],
   "source": [
    "s0 = 49\n",
    "k = 50\n",
    "rf = 0.03\n",
    "sigma = 0.2\n",
    "T = 0.3846\n",
    "mu = 0.14\n",
    "\n",
    "s0_range= np.arange(20,82,2)\n",
    "T_range = np.arange(0,0.3846,0.01)\n",
    "N = len(s0_range)"
   ]
  },
  {
   "cell_type": "code",
   "execution_count": 50,
   "id": "ab033fe6",
   "metadata": {
    "ExecuteTime": {
     "end_time": "2022-04-27T04:03:08.624162Z",
     "start_time": "2022-04-27T04:03:08.499493Z"
    }
   },
   "outputs": [],
   "source": [
    "delta_s0 = np.zeros(N)\n",
    "delta_t = np.zeros(len(T_range))\n",
    "gamma = np.zeros(N)\n",
    "vega = np.zeros(N)\n",
    "theta = np.zeros(N)\n",
    "rho = np.zeros(N)\n",
    "\n",
    "price= np.zeros(N)\n",
    "for i in range(len(s0_range)):\n",
    "    price[i] =  binoEuro_fast(s0=s0_range[i],k=k,T=T,sigma=sigma,r=rf,N=N,option_type='c',formula='a')\n",
    "    delta_s0[i] = (binoEuro_fast(s0=s0_range[i]+1,k=k,T=T,sigma=sigma,r=rf,N=N,option_type='c',formula='a') - \\\n",
    "               binoEuro_fast(s0=s0_range[i],k=k,T=T,sigma=sigma,r=rf,N=N,option_type='c',formula='a'))/1\n",
    "    gamma[i] = (binoEuro_fast(s0=s0_range[i]+1,k=k,T=T,sigma=sigma,r=rf,N=N,option_type='c',formula='a') +\\\n",
    "                binoEuro_fast(s0=s0_range[i]-1,k=k,T=T,sigma=sigma,r=rf,N=N,option_type='c',formula='a') - \\\n",
    "          2*binoEuro_fast(s0=s0_range[i],k=k,T=T,sigma=sigma,r=rf,N=N,option_type='c',formula='a'))/1\n",
    "    vega[i] = (binoEuro_fast(s0=s0_range[i],k=k,T=T,sigma=sigma+0.01,r=rf,N=N,option_type='c',formula='a') - \\\n",
    "        binoEuro_fast(s0=s0_range[i],k=k,T=T,sigma=sigma,r=rf,N=N,option_type='c',formula='a'))/0.01\n",
    "    theta[i] = -(binoEuro_fast(s0=s0_range[i],k=k,T=T+0.01,sigma=sigma,r=rf,N=N,option_type='c',formula='a')- \\\n",
    "                 binoEuro_fast(s0=s0_range[i],k=k,T=T,sigma=sigma,r=rf,N=N,option_type='c',formula='a'))/0.01\n",
    "    rho[i] = (binoEuro_fast(s0=s0_range[i],k=k,T=T,sigma=sigma,r=rf+0.01,N=N,option_type='c',formula='a') - \\\n",
    "              binoEuro_fast(s0=s0_range[i],k=k,T=T,sigma=sigma,r=rf,N=N,option_type='c',formula='a'))/0.01\n",
    "    \n",
    "price= np.zeros(len(T_range))\n",
    "for i in range(len(T_range)):\n",
    "    price[i] =  binoEuro_fast(s0=s0,k=k,T=T_range[i],sigma=sigma,r=rf,N=N,option_type='c',formula='a')\n",
    "    delta_t[i] = (binoEuro_fast(s0=s0+1,k=k,T=T_range[i],sigma=sigma,r=rf,N=N,option_type='c',formula='a') - \\\n",
    "                 price[i])/1"
   ]
  },
  {
   "cell_type": "code",
   "execution_count": 53,
   "id": "94d3131b",
   "metadata": {
    "ExecuteTime": {
     "end_time": "2022-04-27T04:04:28.740268Z",
     "start_time": "2022-04-27T04:04:28.184431Z"
    }
   },
   "outputs": [
    {
     "data": {
      "image/png": "[encoded data removed]",
      "text/plain": [
       "<Figure size 720x576 with 1 Axes>"
      ]
     },
     "metadata": {},
     "output_type": "display_data"
    }
   ],
   "source": [
    "plt.figure(figsize=(10,8))\n",
    "\n",
    "plt.plot(delta_s0)\n",
    "plt.plot(gamma)\n",
    "plt.plot(theta)\n",
    "plt.plot(vega)\n",
    "plt.plot(rho)\n",
    "plt.plot(delta_t)\n",
    "plt.legend(['delta_s0','gamma','theta','vega','rho','delta_t'])\n",
    "plt.title('Greeks')\n",
    "\n",
    "plt.show()\n"
   ]
  },
  {
   "cell_type": "markdown",
   "id": "6f2897e2",
   "metadata": {},
   "source": [
    "## 4. Consider 12-month put options on a stock of company XYZ. Assume the risk-free rate is 5%/annum, the volatility of the stock price is 30 % /annum, and the strike price of the option is 100. Use a Binomial Method to estimate the prices of European and American Put options with current stock prices varying from 80 to 120 in increments of 4. Draw them all in one graph, compare them and comment on your findings."
   ]
  },
  {
   "cell_type": "code",
   "execution_count": 541,
   "id": "0a11ab6c",
   "metadata": {
    "ExecuteTime": {
     "end_time": "2022-04-27T07:23:03.889454Z",
     "start_time": "2022-04-27T07:23:03.877220Z"
    }
   },
   "outputs": [
    {
     "data": {
      "text/plain": [
       "11"
      ]
     },
     "execution_count": 541,
     "metadata": {},
     "output_type": "execute_result"
    }
   ],
   "source": [
    "rf = 0.05\n",
    "sigma = 0.3\n",
    "k = 100\n",
    "T = 1\n",
    "\n",
    "s0_range = np.arange(80,124,4)\n",
    "N = len(s0_range)\n",
    "N"
   ]
  },
  {
   "cell_type": "code",
   "execution_count": 570,
   "id": "7be602f1",
   "metadata": {
    "ExecuteTime": {
     "end_time": "2022-04-27T07:52:50.218680Z",
     "start_time": "2022-04-27T07:52:50.096806Z"
    }
   },
   "outputs": [
    {
     "data": {
      "text/plain": [
       "[<matplotlib.lines.Line2D at 0x7fe0a88dcaf0>]"
      ]
     },
     "execution_count": 570,
     "metadata": {},
     "output_type": "execute_result"
    },
    {
     "data": {
      "image/png": "[encoded data removed]",
      "text/plain": [
       "<Figure size 432x288 with 1 Axes>"
      ]
     },
     "metadata": {},
     "output_type": "display_data"
    }
   ],
   "source": [
    "am_put = [AmericanPut_Matrix(s0=i,N=N,k=k,r=rf,T=T,sigma=sigma,option_type='p',formula='c') for i in s0_range]\n",
    "\n",
    "plt.plot(am_put)"
   ]
  },
  {
   "cell_type": "code",
   "execution_count": 571,
   "id": "924d7dd0",
   "metadata": {
    "ExecuteTime": {
     "end_time": "2022-04-27T07:52:53.453836Z",
     "start_time": "2022-04-27T07:52:53.446364Z"
    }
   },
   "outputs": [
    {
     "data": {
      "text/plain": [
       "18.285581508622798"
      ]
     },
     "execution_count": 571,
     "metadata": {},
     "output_type": "execute_result"
    }
   ],
   "source": [
    "AmericanPut_Matrix(s0=s0_range[0],N=N,k=k,r=rf,T=T,sigma=sigma,option_type='p',formula='d')"
   ]
  },
  {
   "cell_type": "code",
   "execution_count": null,
   "id": "08673aa6",
   "metadata": {},
   "outputs": [],
   "source": []
  },
  {
   "cell_type": "code",
   "execution_count": null,
   "id": "b806a96a",
   "metadata": {},
   "outputs": [],
   "source": []
  }
 ],
 "metadata": {
  "kernelspec": {
   "display_name": "Python 3 (ipykernel)",
   "language": "python",
   "name": "python3"
  },
  "language_info": {
   "codemirror_mode": {
    "name": "ipython",
    "version": 3
   },
   "file_extension": ".py",
   "mimetype": "text/x-python",
   "name": "python",
   "nbconvert_exporter": "python",
   "pygments_lexer": "ipython3",
   "version": "3.9.7"
  },
  "latex_envs": {
   "LaTeX_envs_menu_present": true,
   "autoclose": false,
   "autocomplete": true,
   "bibliofile": "biblio.bib",
   "cite_by": "apalike",
   "current_citInitial": 1,
   "eqLabelWithNumbers": true,
   "eqNumInitial": 1,
   "hotkeys": {
    "equation": "Ctrl-E",
    "itemize": "Ctrl-I"
   },
   "labels_anchors": false,
   "latex_user_defs": false,
   "report_style_numbering": false,
   "user_envs_cfg": false
  }
 },
 "nbformat": 4,
 "nbformat_minor": 5
}
