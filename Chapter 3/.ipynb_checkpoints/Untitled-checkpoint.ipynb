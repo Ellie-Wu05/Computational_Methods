{
 "cells": [
  {
   "cell_type": "markdown",
   "id": "c595c56d",
   "metadata": {},
   "source": [
    "# Problem Set 3"
   ]
  },
  {
   "cell_type": "code",
   "execution_count": 28,
   "id": "196c1818",
   "metadata": {
    "ExecuteTime": {
     "end_time": "2022-04-20T00:06:09.619535Z",
     "start_time": "2022-04-20T00:06:08.932842Z"
    }
   },
   "outputs": [],
   "source": [
    "import math\n",
    "import numpy as np\n",
    "from scipy.stats import norm \n",
    "import pandas as pd\n",
    "import matplotlib.pyplot as plt\n",
    "import seaborn as sns\n",
    "\n",
    "sns.set_style('darkgrid')\n",
    "sns.set(font_scale=1.5, rc={'text.usetex' : True})"
   ]
  },
  {
   "cell_type": "code",
   "execution_count": 310,
   "id": "9e5cc12d",
   "metadata": {
    "ExecuteTime": {
     "end_time": "2022-04-20T06:15:45.983398Z",
     "start_time": "2022-04-20T06:15:45.965745Z"
    }
   },
   "outputs": [],
   "source": [
    "def indicator(arr,target_num):\n",
    "    \"\"\"\n",
    "    transform array with indicator function\n",
    "    target_num: indicator threshold\n",
    "    \"\"\"\n",
    "    res = [i if i>target_num else 0 for i in arr]\n",
    "    \n",
    "    return res\n",
    "\n",
    "def modify_negative_abs(arr,sqrt):\n",
    "    \"\"\"\n",
    "    Modify array with negative value within root calculation by use its absolute value\n",
    "    \"\"\"\n",
    "    res = []\n",
    "    \n",
    "    for num in arr:\n",
    "        if num > 0:\n",
    "            res.append(num**(1/sqrt))\n",
    "        else:\n",
    "            num = -(abs(num)**(1/sqrt))\n",
    "            res.append(num)\n",
    "    return res"
   ]
  },
  {
   "cell_type": "markdown",
   "id": "5da43c6b",
   "metadata": {
    "heading_collapsed": true
   },
   "source": [
    "## 1. Evaluate the following expected values and probabilities:"
   ]
  },
  {
   "cell_type": "code",
   "execution_count": 311,
   "id": "6b5774ed",
   "metadata": {
    "ExecuteTime": {
     "end_time": "2022-04-20T06:15:46.717067Z",
     "start_time": "2022-04-20T06:15:46.708101Z"
    },
    "hidden": true
   },
   "outputs": [],
   "source": [
    "def simulate_x1(x0,n,t,path):\n",
    "    \"\"\"\n",
    "    x0: initial value\n",
    "    n: steps\n",
    "    t: time horizon\n",
    "    path: number of simulations\n",
    "    \"\"\"\n",
    "    np.random.seed(1)\n",
    "    dt = t/n\n",
    "    xt = [np.array([x0]*path)]\n",
    "    for i in range(n):\n",
    "        curr_x = xt.pop()\n",
    "        new = curr_x + (1/5-1/2*curr_x)*dt + (2/3)*np.sqrt(dt)*np.random.normal(0,1,path)\n",
    "        xt.append(new)\n",
    "    return xt[0]"
   ]
  },
  {
   "cell_type": "code",
   "execution_count": 312,
   "id": "ccfae349",
   "metadata": {
    "ExecuteTime": {
     "end_time": "2022-04-20T06:15:47.017528Z",
     "start_time": "2022-04-20T06:15:47.006393Z"
    },
    "hidden": true
   },
   "outputs": [],
   "source": [
    "def simulate_y1(y0,n,t,path):\n",
    "    \"\"\"\n",
    "    y0: initial value\n",
    "    n: steps\n",
    "    t: time horizon\n",
    "    path: number of simulations\n",
    "    \"\"\"\n",
    "    np.random.seed(0)\n",
    "    dt = t/n\n",
    "    yt = [np.array([y0]*path)]\n",
    "    for i in range(n):\n",
    "        curr_y = yt.pop()\n",
    "        t = dt * (i +1 )\n",
    "        new = curr_y + ((2/(1+t))*curr_y + (1+t**3)/3)*dt + (1+t**3)/3 * np.sqrt(dt) * np.random.normal(0,1,path)\n",
    "        yt.append(new)\n",
    "    return yt[0]"
   ]
  },
  {
   "cell_type": "code",
   "execution_count": 313,
   "id": "16f4f5c4",
   "metadata": {
    "ExecuteTime": {
     "end_time": "2022-04-20T06:15:47.397367Z",
     "start_time": "2022-04-20T06:15:47.392750Z"
    },
    "hidden": true
   },
   "outputs": [],
   "source": [
    "# x2 = simulate_x1(1,1000,2,1000)\n",
    "# y2 = simulate_y1(0.75,1000,2,1000)\n",
    "# y3 = simulate_y1(0.75,1000,3,1000)"
   ]
  },
  {
   "cell_type": "code",
   "execution_count": 314,
   "id": "981837d6",
   "metadata": {
    "ExecuteTime": {
     "end_time": "2022-04-20T06:15:47.830028Z",
     "start_time": "2022-04-20T06:15:47.674932Z"
    },
    "hidden": true
   },
   "outputs": [],
   "source": [
    "def question_1(x0=1,y0=0.75):\n",
    "    \"\"\"\n",
    "    Input: x0,y0\n",
    "    Output: p1, e1, e2, e3\n",
    "    \"\"\"\n",
    "    x2 = simulate_x1(x0,1000,2,1000)\n",
    "    y2 = simulate_y1(y0,1000,2,1000)\n",
    "    y3 = simulate_y1(y0,1000,3,1000)\n",
    "    \n",
    "    p1 = sum(y2>5)/len(y2)\n",
    "    e1 = np.mean(modify_negative_abs(x2,3))\n",
    "    e1_indicator = np.mean([i**(1/3) for i in indicator(x2,0)])\n",
    "    e2 = np.mean(y3)\n",
    "    new_x2 = indicator(x2,1)\n",
    "    e3 = np.mean(list(map(lambda x,y: x*y, new_x2,y2)))\n",
    "    \n",
    "    return p1 , e1 ,e1_indicator, e2 , e3\n",
    "    \n",
    "q1 = question_1(x0=1,y0=0.75)     "
   ]
  },
  {
   "cell_type": "code",
   "execution_count": 315,
   "id": "3566b717",
   "metadata": {
    "ExecuteTime": {
     "end_time": "2022-04-20T06:15:48.465152Z",
     "start_time": "2022-04-20T06:15:48.444197Z"
    },
    "hidden": true
   },
   "outputs": [
    {
     "data": {
      "text/html": [
       "<div>\n",
       "<style scoped>\n",
       "    .dataframe tbody tr th:only-of-type {\n",
       "        vertical-align: middle;\n",
       "    }\n",
       "\n",
       "    .dataframe tbody tr th {\n",
       "        vertical-align: top;\n",
       "    }\n",
       "\n",
       "    .dataframe thead th {\n",
       "        text-align: right;\n",
       "    }\n",
       "</style>\n",
       "<table border=\"1\" class=\"dataframe\">\n",
       "  <thead>\n",
       "    <tr style=\"text-align: right;\">\n",
       "      <th></th>\n",
       "      <th>Question</th>\n",
       "      <th>Answer</th>\n",
       "    </tr>\n",
       "  </thead>\n",
       "  <tbody>\n",
       "    <tr>\n",
       "      <th>0</th>\n",
       "      <td>P(y2&gt;5)</td>\n",
       "      <td>0.978000</td>\n",
       "    </tr>\n",
       "    <tr>\n",
       "      <th>1</th>\n",
       "      <td>e1</td>\n",
       "      <td>0.645733</td>\n",
       "    </tr>\n",
       "    <tr>\n",
       "      <th>2</th>\n",
       "      <td>e1 with max(value,0)</td>\n",
       "      <td>0.742916</td>\n",
       "    </tr>\n",
       "    <tr>\n",
       "      <th>3</th>\n",
       "      <td>e2</td>\n",
       "      <td>26.309194</td>\n",
       "    </tr>\n",
       "    <tr>\n",
       "      <th>4</th>\n",
       "      <td>e3</td>\n",
       "      <td>3.893022</td>\n",
       "    </tr>\n",
       "  </tbody>\n",
       "</table>\n",
       "</div>"
      ],
      "text/plain": [
       "               Question     Answer\n",
       "0               P(y2>5)   0.978000\n",
       "1                    e1   0.645733\n",
       "2  e1 with max(value,0)   0.742916\n",
       "3                    e2  26.309194\n",
       "4                    e3   3.893022"
      ]
     },
     "execution_count": 315,
     "metadata": {},
     "output_type": "execute_result"
    }
   ],
   "source": [
    "idx = ['P(y2>5)', 'e1','e1 with max(value,0)','e2','e3']\n",
    "ans_1 = pd.DataFrame(list(zip(idx,q1)))\n",
    "ans_1.columns=['Question','Answer']\n",
    "ans_1"
   ]
  },
  {
   "cell_type": "markdown",
   "id": "32360a50",
   "metadata": {
    "heading_collapsed": true
   },
   "source": [
    "## 2. Estimate the following expected values:"
   ]
  },
  {
   "cell_type": "code",
   "execution_count": 316,
   "id": "8a7a44d7",
   "metadata": {
    "ExecuteTime": {
     "end_time": "2022-04-20T06:15:49.072425Z",
     "start_time": "2022-04-20T06:15:49.064113Z"
    },
    "hidden": true
   },
   "outputs": [],
   "source": [
    "def simulate_x2(x0,n,t,path):\n",
    "    \"\"\"\n",
    "    x0: initial value\n",
    "    n: steps\n",
    "    t: time horizon\n",
    "    path: number of simulations\n",
    "    \"\"\"\n",
    "    #np.random.seed(1)\n",
    "    dt = t/n\n",
    "    xt = [np.array([x0]*path)]\n",
    "    for i in range(n):\n",
    "        curr_x = xt.pop()\n",
    "        new = curr_x + (1/4)*curr_x*dt + (1/3)*curr_x*np.sqrt(dt)*np.random.normal(0,1,path)\\\n",
    "                                       -(3/4)*curr_x*np.sqrt(dt)*np.random.normal(0,1,path)\n",
    "        xt.append(new)\n",
    "        \n",
    "    return xt[0]"
   ]
  },
  {
   "cell_type": "code",
   "execution_count": 317,
   "id": "dbaf904c",
   "metadata": {
    "ExecuteTime": {
     "end_time": "2022-04-20T06:15:49.364006Z",
     "start_time": "2022-04-20T06:15:49.356982Z"
    },
    "hidden": true
   },
   "outputs": [],
   "source": [
    "def simulate_y2(t,path):\n",
    "    \"\"\"\n",
    "    t: time horizon\n",
    "    path: number of simulations\n",
    "    \"\"\"\n",
    "    #np.random.seed(0)\n",
    "    \n",
    "    yt = np.exp(-0.08*t+(1/3)*np.sqrt(t)*np.random.normal(0,1,path)+(3/4)*np.random.normal(0,1,path))\n",
    "    \n",
    "    return yt"
   ]
  },
  {
   "cell_type": "code",
   "execution_count": 318,
   "id": "134bbec3",
   "metadata": {
    "ExecuteTime": {
     "end_time": "2022-04-20T06:15:49.845563Z",
     "start_time": "2022-04-20T06:15:49.657196Z"
    },
    "hidden": true
   },
   "outputs": [],
   "source": [
    "def question_2(x0):\n",
    "    \n",
    "    np.random.seed(923)\n",
    "    x1 = simulate_x2(x0,1000,1,1000)\n",
    "    x3 = simulate_x2(x0,1000,3,1000)\n",
    "    y1 = simulate_y2(1,1000)\n",
    "    if sum(x1<0)>0:\n",
    "        x1 = modify_negative_abs(x1)\n",
    "    if sum(x3<0)>0:\n",
    "        x3 = modify_negative_abs(x3)\n",
    "    \n",
    "    e1 = np.mean((1+x3)**(1/3))\n",
    "    e2 = np.mean(x1*y1)\n",
    "    \n",
    "    return e1, e2\n",
    "q2 = question_2(x0=1)"
   ]
  },
  {
   "cell_type": "code",
   "execution_count": 319,
   "id": "3b61ef67",
   "metadata": {
    "ExecuteTime": {
     "end_time": "2022-04-20T06:15:49.895116Z",
     "start_time": "2022-04-20T06:15:49.889597Z"
    },
    "hidden": true
   },
   "outputs": [
    {
     "data": {
      "text/html": [
       "<div>\n",
       "<style scoped>\n",
       "    .dataframe tbody tr th:only-of-type {\n",
       "        vertical-align: middle;\n",
       "    }\n",
       "\n",
       "    .dataframe tbody tr th {\n",
       "        vertical-align: top;\n",
       "    }\n",
       "\n",
       "    .dataframe thead th {\n",
       "        text-align: right;\n",
       "    }\n",
       "</style>\n",
       "<table border=\"1\" class=\"dataframe\">\n",
       "  <thead>\n",
       "    <tr style=\"text-align: right;\">\n",
       "      <th></th>\n",
       "      <th>Question</th>\n",
       "      <th>Answer</th>\n",
       "    </tr>\n",
       "  </thead>\n",
       "  <tbody>\n",
       "    <tr>\n",
       "      <th>0</th>\n",
       "      <td>e1</td>\n",
       "      <td>0.978000</td>\n",
       "    </tr>\n",
       "    <tr>\n",
       "      <th>1</th>\n",
       "      <td>e2</td>\n",
       "      <td>0.645733</td>\n",
       "    </tr>\n",
       "  </tbody>\n",
       "</table>\n",
       "</div>"
      ],
      "text/plain": [
       "  Question    Answer\n",
       "0       e1  0.978000\n",
       "1       e2  0.645733"
      ]
     },
     "execution_count": 319,
     "metadata": {},
     "output_type": "execute_result"
    }
   ],
   "source": [
    "idx = ['e1','e2']\n",
    "ans_2 = pd.DataFrame(list(zip(idx,q1)))\n",
    "ans_2.columns=['Question','Answer']\n",
    "ans_2"
   ]
  },
  {
   "cell_type": "markdown",
   "id": "3714c004",
   "metadata": {
    "heading_collapsed": true
   },
   "source": [
    "## 3"
   ]
  },
  {
   "cell_type": "markdown",
   "id": "8c6f39cf",
   "metadata": {
    "hidden": true
   },
   "source": [
    "### European Call options via Monte Carlo simulation"
   ]
  },
  {
   "cell_type": "code",
   "execution_count": 320,
   "id": "464fccd7",
   "metadata": {
    "ExecuteTime": {
     "end_time": "2022-04-20T06:15:50.649740Z",
     "start_time": "2022-04-20T06:15:50.627978Z"
    },
    "hidden": true
   },
   "outputs": [],
   "source": [
    "def MC_EuroCall(s0,k,t,r,sigma):\n",
    "    \"\"\"\n",
    "    Estimate European Call Price via Monte Carlo simulation\n",
    "    \n",
    "    r : risk-free ratw\n",
    "    sigma: volatility\n",
    "    s0: stock price at time 0\n",
    "    t: time t\n",
    "    k: strike price\n",
    "    \n",
    "    with Antithetic Variates\n",
    "    \"\"\"\n",
    "    dt = 0.004 # set dt =0.004\n",
    "    N=int(t/dt)\n",
    "    np.random.seed(110)\n",
    "    z = np.random.normal(0,1,N)\n",
    "    w_t_1 = np.sqrt(t) * z\n",
    "    w_t_2 = np.sqrt(t) * (-z)\n",
    "    \n",
    "    s_t_1 = s0*np.exp(sigma*w_t_1 + (r-sigma**2/2)*t)\n",
    "    s_t_2 = s0*np.exp(sigma*w_t_2 + (r-sigma**2/2)*t)\n",
    "        \n",
    "    res = []\n",
    "    for i in range(N):\n",
    "        val_1 = max(s_t_1[i]-k,0)\n",
    "        val_2 = max(s_t_2[i]-k,0)\n",
    "        val = (val_1+val_2)/2\n",
    "        res.append(val)\n",
    "        \n",
    "    \n",
    "    call_value = np.mean(res) * np.exp(-r*t)\n",
    "    \n",
    "    return call_value\n",
    "    "
   ]
  },
  {
   "cell_type": "code",
   "execution_count": 321,
   "id": "b9faf1ac",
   "metadata": {
    "ExecuteTime": {
     "end_time": "2022-04-20T06:15:50.847745Z",
     "start_time": "2022-04-20T06:15:50.840598Z"
    },
    "hidden": true
   },
   "outputs": [
    {
     "data": {
      "text/plain": [
       "0.06044605913179073"
      ]
     },
     "execution_count": 321,
     "metadata": {},
     "output_type": "execute_result"
    }
   ],
   "source": [
    "MC_EuroCall(s0=15,k=20,sigma=0.25,r=0.04,t=0.5)"
   ]
  },
  {
   "cell_type": "markdown",
   "id": "bfce4f65",
   "metadata": {
    "heading_collapsed": true,
    "hidden": true
   },
   "source": [
    "### European Call options by using the Black-Scholes formula"
   ]
  },
  {
   "cell_type": "code",
   "execution_count": 322,
   "id": "0432e80f",
   "metadata": {
    "ExecuteTime": {
     "end_time": "2022-04-20T06:15:51.339493Z",
     "start_time": "2022-04-20T06:15:51.323795Z"
    },
    "hidden": true
   },
   "outputs": [],
   "source": [
    "def BS_EuroCall(s0,k,t,r,sigma):\n",
    "    \"\"\"\n",
    "    Only for european call\n",
    "    s0: stock price\n",
    "    k: strike price\n",
    "    r: risk-free rate\n",
    "    sigma: volatility\n",
    "    \n",
    "    N(·)\n",
    "    \"\"\"\n",
    "    def N(x):\n",
    "        d1 = 0.0498673470\n",
    "        d2 = 0.0211410061 \n",
    "        d3 = 0.0032776263\n",
    "        d4 = 0.0000380036 \n",
    "        d5 = 0.0000488906 \n",
    "        d6 = 0.0000053830\n",
    "\n",
    "        if x > 0:\n",
    "            N = 1 - (1/2)*(1 + d1*x + d2*x**2 + d3*x**3 + d4*x**4 + d5*x**5 + d6*x**6) **(-16) \n",
    "        else:\n",
    "            N =  1 - (1 - (1/2)*(1 + d1*(-x) + d2*(-x)**2 + d3*(-x)**3 \n",
    "                                 + d4*(-x)**4 + d5*(-x)**5 + d6*(-x)**6) **(-16) )\n",
    "\n",
    "        return N\n",
    "    \n",
    "    \n",
    "    d1 = (np.log(s0/k) + (r+sigma**2/2)*t)/(sigma*np.sqrt(t))\n",
    "    d2 = d1 - sigma*np.sqrt(t)\n",
    "    \n",
    "    call_value = N(d1)*s0 - N(d2)*k*np.exp(-r*t)\n",
    "    \n",
    "    return call_value"
   ]
  },
  {
   "cell_type": "code",
   "execution_count": 323,
   "id": "0b68bbf8",
   "metadata": {
    "ExecuteTime": {
     "end_time": "2022-04-20T06:15:51.569624Z",
     "start_time": "2022-04-20T06:15:51.561390Z"
    },
    "hidden": true
   },
   "outputs": [
    {
     "data": {
      "text/plain": [
       "0.08575224964083072"
      ]
     },
     "execution_count": 323,
     "metadata": {},
     "output_type": "execute_result"
    }
   ],
   "source": [
    "BS_EuroCall(s0=15,k=20,sigma=0.25,r=0.04,t=0.5)"
   ]
  },
  {
   "cell_type": "markdown",
   "id": "447766f7",
   "metadata": {
    "hidden": true
   },
   "source": [
    "### Estimate the European call option’s greeks - delta, gamma, theta, and vega"
   ]
  },
  {
   "cell_type": "markdown",
   "id": "a256441e",
   "metadata": {
    "hidden": true
   },
   "source": [
    "__Delta__ $\\Delta = \\frac{\\partial C}{\\partial S_0} = \\frac{BS_{call}(S+\\Delta S,K,T,r,\\sigma) - BS_{call}( S,K,T,r,\\sigma)}{\\Delta S}$\n",
    "\n",
    "__Gamma__ $\\Gamma = \\frac{\\partial^2 C}{\\partial S_0^2} = \\frac{BS_{call}(S+\\Delta S,K,T,r,\\sigma) - 2BS_{call}( S,K,T,r,\\sigma) + BS_{call}(S-\\Delta S,K,T,r,\\sigma)}{(\\Delta S)^2}$\n",
    "\n",
    "__Theta__ $\\Theta = \\frac{\\partial C}{\\partial T} = \\frac{BS_{call}(S ,K,T + \\Delta T,r,\\sigma) - BS_{call}( S,K,T,r,\\sigma)}{\\Delta T}$\n",
    "\n",
    "__Vega__ $\\nu = \\frac{\\partial C}{\\partial \\sigma} = \\frac{BS_{call}(S,K,T,r,\\sigma) - BS_{call}( S,K,T,r,\\sigma - \\Delta \\sigma)}{\\Delta \\sigma}$\n",
    "\n",
    "__Rho__ $\\rho = \\frac{\\partial C}{\\partial r} = \\frac{BS_{call}(S,K,T,r + \\Delta r,\\sigma) - BS_{call}( S,K,T,r,\\sigma)}{\\Delta r}$"
   ]
  },
  {
   "cell_type": "code",
   "execution_count": 324,
   "id": "ab161fc1",
   "metadata": {
    "ExecuteTime": {
     "end_time": "2022-04-20T06:15:52.518598Z",
     "start_time": "2022-04-20T06:15:52.513791Z"
    },
    "hidden": true
   },
   "outputs": [],
   "source": [
    "s0_range = np.arange(15,26,1)\n",
    "k = 20\n",
    "sigma = 0.25\n",
    "r = 0.04\n",
    "t=0.5\n",
    "dt = 0.04"
   ]
  },
  {
   "cell_type": "code",
   "execution_count": 325,
   "id": "f39b906f",
   "metadata": {
    "ExecuteTime": {
     "end_time": "2022-04-20T06:15:52.900819Z",
     "start_time": "2022-04-20T06:15:52.879184Z"
    },
    "hidden": true
   },
   "outputs": [],
   "source": [
    "price = [0] * len(s0_range)\n",
    "delta = [0] * len(s0_range)\n",
    "gamma = [0] * len(s0_range)\n",
    "theta = [0] * len(s0_range)\n",
    "vega = [0] * len(s0_range)\n",
    "rho = [0] * len(s0_range)\n",
    "\n",
    "for i in range(len(delta)):\n",
    "    price[i] = BS_EuroCall(s0=s0_range[i],k=k,sigma=sigma,r=r,t=t)\n",
    "    \n",
    "    # option price change with respect to price change\n",
    "    delta[i] = (BS_EuroCall(s0=s0_range[i]+0.1,k=k,sigma=sigma,r=r,t=t)  \\\n",
    "                - BS_EuroCall(s0=s0_range[i],k=k,sigma=sigma,r=r,t=t))/0.1\n",
    "    # delta change with respect to price change\n",
    "    gamma[i] = (BS_EuroCall(s0=s0_range[i]+0.1,k=k,sigma=sigma,r=r,t=t)  \\\n",
    "                - 2*BS_EuroCall(s0=s0_range[i],k=k,sigma=sigma,r=r,t=t)  \\\n",
    "               + BS_EuroCall(s0=s0_range[i]-0.1,k=k,sigma=sigma,r=r,t=t))/(0.1)**2\n",
    "    # option price change with respect to time change\n",
    "    theta[i] = (BS_EuroCall(s0=s0_range[i],k=k,sigma=sigma,r=r,t=t-0.01)  \\\n",
    "                - BS_EuroCall(s0=s0_range[i],k=k,sigma=sigma,r=r,t=t))/0.01\n",
    "    #option price change with respect to volatility change\n",
    "    vega[i] = (BS_EuroCall(s0=s0_range[i],k=k,sigma=sigma,r=r,t=t)  \\\n",
    "                - BS_EuroCall(s0=s0_range[i],k=k,sigma=sigma-0.01,r=r,t=t))/0.01\n",
    "    #option price change with respect to risk-free rate change\n",
    "    rho[i] = (BS_EuroCall(s0=s0_range[i],k=k,sigma=sigma,r=r+0.01,t=t)  \\\n",
    "                - BS_EuroCall(s0=s0_range[i],k=k,sigma=sigma,r=r,t=t))/0.01"
   ]
  },
  {
   "cell_type": "code",
   "execution_count": 326,
   "id": "d7b6ee84",
   "metadata": {
    "ExecuteTime": {
     "end_time": "2022-04-20T06:15:53.937974Z",
     "start_time": "2022-04-20T06:15:53.379684Z"
    },
    "hidden": true
   },
   "outputs": [
    {
     "data": {
      "text/plain": [
       "[Text(0.5, 1.0, 'Vega')]"
      ]
     },
     "execution_count": 326,
     "metadata": {},
     "output_type": "execute_result"
    },
    {
     "data": {
      "text/plain": [
       "<Figure size 432x288 with 0 Axes>"
      ]
     },
     "metadata": {},
     "output_type": "display_data"
    },
    {
     "data": {
      "image/png": "[encoded data removed]",
      "text/plain": [
       "<Figure size 720x576 with 4 Axes>"
      ]
     },
     "metadata": {},
     "output_type": "display_data"
    }
   ],
   "source": [
    "plt.figure()\n",
    "\n",
    "fig, axs = plt.subplots(nrows=2,ncols=2,figsize=(10,8),sharex=True)\n",
    "\n",
    "sns.lineplot(x=s0_range, y=delta, ax=axs[0][0]).set(title='Delta')\n",
    "sns.lineplot(x=s0_range, y=gamma, ax=axs[0][1]).set(title='Gamma')\n",
    "sns.lineplot(x=s0_range, y=theta, ax=axs[1][0]).set(title='Theta')\n",
    "sns.lineplot(x=s0_range, y=vega, ax= axs[1][1]).set(title='Vega')"
   ]
  },
  {
   "cell_type": "code",
   "execution_count": 327,
   "id": "faa3e80f",
   "metadata": {
    "ExecuteTime": {
     "end_time": "2022-04-20T06:15:53.947500Z",
     "start_time": "2022-04-20T06:15:53.939577Z"
    },
    "hidden": true
   },
   "outputs": [
    {
     "data": {
      "text/html": [
       "<div>\n",
       "<style scoped>\n",
       "    .dataframe tbody tr th:only-of-type {\n",
       "        vertical-align: middle;\n",
       "    }\n",
       "\n",
       "    .dataframe tbody tr th {\n",
       "        vertical-align: top;\n",
       "    }\n",
       "\n",
       "    .dataframe thead th {\n",
       "        text-align: right;\n",
       "    }\n",
       "</style>\n",
       "<table border=\"1\" class=\"dataframe\">\n",
       "  <thead>\n",
       "    <tr style=\"text-align: right;\">\n",
       "      <th></th>\n",
       "      <th>price</th>\n",
       "      <th>delta</th>\n",
       "      <th>gamma</th>\n",
       "      <th>theta</th>\n",
       "      <th>vega</th>\n",
       "      <th>rho</th>\n",
       "    </tr>\n",
       "  </thead>\n",
       "  <tbody>\n",
       "    <tr>\n",
       "      <th>15</th>\n",
       "      <td>0.085752</td>\n",
       "      <td>0.079724</td>\n",
       "      <td>0.054447</td>\n",
       "      <td>-0.421719</td>\n",
       "      <td>1.460563</td>\n",
       "      <td>0.548477</td>\n",
       "    </tr>\n",
       "    <tr>\n",
       "      <th>16</th>\n",
       "      <td>0.194264</td>\n",
       "      <td>0.148458</td>\n",
       "      <td>0.080346</td>\n",
       "      <td>-0.724765</td>\n",
       "      <td>2.502395</td>\n",
       "      <td>1.081347</td>\n",
       "    </tr>\n",
       "    <tr>\n",
       "      <th>17</th>\n",
       "      <td>0.382816</td>\n",
       "      <td>0.241589</td>\n",
       "      <td>0.102593</td>\n",
       "      <td>-1.071968</td>\n",
       "      <td>3.657199</td>\n",
       "      <td>1.850951</td>\n",
       "    </tr>\n",
       "    <tr>\n",
       "      <th>18</th>\n",
       "      <td>0.673219</td>\n",
       "      <td>0.352430</td>\n",
       "      <td>0.115994</td>\n",
       "      <td>-1.400299</td>\n",
       "      <td>4.675596</td>\n",
       "      <td>2.823076</td>\n",
       "    </tr>\n",
       "    <tr>\n",
       "      <th>19</th>\n",
       "      <td>1.078682</td>\n",
       "      <td>0.470588</td>\n",
       "      <td>0.118249</td>\n",
       "      <td>-1.650729</td>\n",
       "      <td>5.336124</td>\n",
       "      <td>3.918770</td>\n",
       "    </tr>\n",
       "    <tr>\n",
       "      <th>20</th>\n",
       "      <td>1.601600</td>\n",
       "      <td>0.585381</td>\n",
       "      <td>0.110490</td>\n",
       "      <td>-1.789253</td>\n",
       "      <td>5.527828</td>\n",
       "      <td>5.040534</td>\n",
       "    </tr>\n",
       "    <tr>\n",
       "      <th>21</th>\n",
       "      <td>2.234510</td>\n",
       "      <td>0.688264</td>\n",
       "      <td>0.095886</td>\n",
       "      <td>-1.813089</td>\n",
       "      <td>5.269869</td>\n",
       "      <td>6.096879</td>\n",
       "    </tr>\n",
       "    <tr>\n",
       "      <th>22</th>\n",
       "      <td>2.963035</td>\n",
       "      <td>0.774427</td>\n",
       "      <td>0.077979</td>\n",
       "      <td>-1.744130</td>\n",
       "      <td>4.676368</td>\n",
       "      <td>7.023937</td>\n",
       "    </tr>\n",
       "    <tr>\n",
       "      <th>23</th>\n",
       "      <td>3.769536</td>\n",
       "      <td>0.842409</td>\n",
       "      <td>0.059979</td>\n",
       "      <td>-1.616088</td>\n",
       "      <td>3.900041</td>\n",
       "      <td>7.788614</td>\n",
       "    </tr>\n",
       "    <tr>\n",
       "      <th>24</th>\n",
       "      <td>4.636187</td>\n",
       "      <td>0.893366</td>\n",
       "      <td>0.043973</td>\n",
       "      <td>-1.462571</td>\n",
       "      <td>3.081859</td>\n",
       "      <td>8.386537</td>\n",
       "    </tr>\n",
       "    <tr>\n",
       "      <th>25</th>\n",
       "      <td>5.547058</td>\n",
       "      <td>0.929902</td>\n",
       "      <td>0.030923</td>\n",
       "      <td>-1.309715</td>\n",
       "      <td>2.323391</td>\n",
       "      <td>8.832900</td>\n",
       "    </tr>\n",
       "  </tbody>\n",
       "</table>\n",
       "</div>"
      ],
      "text/plain": [
       "       price     delta     gamma     theta      vega       rho\n",
       "15  0.085752  0.079724  0.054447 -0.421719  1.460563  0.548477\n",
       "16  0.194264  0.148458  0.080346 -0.724765  2.502395  1.081347\n",
       "17  0.382816  0.241589  0.102593 -1.071968  3.657199  1.850951\n",
       "18  0.673219  0.352430  0.115994 -1.400299  4.675596  2.823076\n",
       "19  1.078682  0.470588  0.118249 -1.650729  5.336124  3.918770\n",
       "20  1.601600  0.585381  0.110490 -1.789253  5.527828  5.040534\n",
       "21  2.234510  0.688264  0.095886 -1.813089  5.269869  6.096879\n",
       "22  2.963035  0.774427  0.077979 -1.744130  4.676368  7.023937\n",
       "23  3.769536  0.842409  0.059979 -1.616088  3.900041  7.788614\n",
       "24  4.636187  0.893366  0.043973 -1.462571  3.081859  8.386537\n",
       "25  5.547058  0.929902  0.030923 -1.309715  2.323391  8.832900"
      ]
     },
     "execution_count": 327,
     "metadata": {},
     "output_type": "execute_result"
    }
   ],
   "source": [
    "greeks = pd.DataFrame(list(zip(price,delta,gamma,theta,vega,rho)),\n",
    "                     index=np.arange(15,26,1),columns=['price','delta','gamma','theta','vega','rho'])\n",
    "greeks"
   ]
  },
  {
   "cell_type": "markdown",
   "id": "ee92cb58",
   "metadata": {
    "heading_collapsed": true
   },
   "source": [
    "## 4. Consider the following 2-factor model for stock prices with stochastic volatility:"
   ]
  },
  {
   "cell_type": "markdown",
   "id": "9e4d08f8",
   "metadata": {
    "hidden": true
   },
   "source": [
    "                                                    Heston Model\n",
    "\\begin{equation}\n",
    "  \\left \\{\n",
    "  \\begin{aligned}\n",
    "    &dS_t = rS_td_t + \\sqrt{V_t}S_tdW_t^1 &&  \\\\\n",
    "    &dV_t = \\alpha(\\beta-V_t)d_t + \\sigma \\sqrt{V_t}dW_t^2 && \n",
    "  \\end{aligned} \n",
    "  \\right.\n",
    "\\end{equation} "
   ]
  },
  {
   "cell_type": "markdown",
   "id": "ef9e796f",
   "metadata": {
    "hidden": true
   },
   "source": [
    "__Three Truncation Methods__\n",
    "\n",
    "$\\hat S _{k+1} = \\hat S_k + r\\hat S_k\\Delta + \\sqrt{f_3(\\hat V_k)} \\hat S_k\\sqrt{\\Delta}Z^1_{k+1}  $\n",
    "\n",
    "$\\hat V _{k+1} = f_1(\\hat V_k) + \\alpha(\\beta-f_2(\\hat V_k))\\Delta + \\sigma\\sqrt{f_3(\\hat V_k)}\\sqrt{\\Delta}Z^2_{k+1} $\n",
    "\n",
    "| Scheme | $f_1$ | $f_2$ |$f_3$|\n",
    "| --- | --- | --- |---|\n",
    "| Reflection |$\\left| x \\right| $ |$\\left| x \\right| $ |$\\left| x \\right| $ |\n",
    "| Partial Truncation | $x$ | $x$ | $x^+$ |\n",
    "| Full Truncation | $x$ | $x^+$ | $x^+$ |"
   ]
  },
  {
   "cell_type": "code",
   "execution_count": 439,
   "id": "9ddf5b38",
   "metadata": {
    "ExecuteTime": {
     "end_time": "2022-04-20T06:44:02.620977Z",
     "start_time": "2022-04-20T06:44:02.594007Z"
    },
    "hidden": true
   },
   "outputs": [],
   "source": [
    "def twoD_Normal(path,rho):\n",
    "    \"\"\"\n",
    "    Two-dimensional Normal\n",
    "    \"\"\"\n",
    "    var_covar_matrix = np.array([[1,rho],[rho,1]])\n",
    "    L = np.linalg.cholesky(var_covar_matrix)\n",
    "    z1 = np.random.normal(0,1,path)\n",
    "    z2 = np.random.normal(0,1,path)\n",
    "    z = np.array([z1,z2])\n",
    "    w1,w2 = L.dot(z)\n",
    "    return w1,w2\n",
    "\n",
    "def full_truc(arr):\n",
    "    return np.array([i if i>0 else 0 for i in arr])\n",
    "\n",
    "def twoFactor(r,s0,k,v0,rho,T,steps,trials,sigma,alpha,beta,truc_type):\n",
    "    dt = T/steps\n",
    "    v = [np.array([v0]*trials)]\n",
    "    s = [np.array([s0]*trials)]\n",
    "  \n",
    "    for i in range(trials):\n",
    "        w1,w2 = twoD_Normal(trials,rho)\n",
    "        dw1 = np.sqrt(dt) * w1\n",
    "        dw2 = np.sqrt(dt) * w2\n",
    "        \n",
    "        if truc_type.lower() == \"full\":\n",
    "            vt = v.pop()\n",
    "            vt_1 = vt + alpha*(beta-full_truc(vt))*dt + sigma*np.sqrt(full_truc(vt))*dw2\n",
    "            st = s.pop()\n",
    "            st_1 = st + r*st*dt + np.sqrt(full_truc(vt))*st*dw1\n",
    "            v.append(vt_1)\n",
    "            s.append(st_1)\n",
    "            \n",
    "        elif truc_type.lower() == \"partial\":\n",
    "            vt = v.pop()\n",
    "            vt_1 = vt + alpha*(beta-vt)*dt + sigma*np.sqrt(full_truc(vt))*dw2\n",
    "            st = s.pop()\n",
    "            st_1 = st + r*st*dt + np.sqrt(full_truc(vt))*st*dw1\n",
    "            v.append(vt_1)\n",
    "            s.append(st_1)\n",
    "        \n",
    "        elif truc_type.lower() == \"reflection\":\n",
    "            vt = v.pop()\n",
    "            vt_1 = abs(vt) + alpha*(beta-abs(vt))*dt + sigma*np.sqrt(abs(vt))*dw2\n",
    "            st = s.pop()\n",
    "            st_1 = st + r*st*dt + np.sqrt(abs(vt))*st*dw1\n",
    "            v.append(vt_1)\n",
    "            s.append(st_1)\n",
    "            \n",
    "    call_payoff = s[0] - k\n",
    "    call_payoff = full_truc(call_payoff)\n",
    "    call_price = np.mean(call_payoff)\n",
    "\n",
    "    return call_price"
   ]
  },
  {
   "cell_type": "code",
   "execution_count": 484,
   "id": "cfb51d0a",
   "metadata": {
    "ExecuteTime": {
     "end_time": "2022-04-20T06:57:21.032878Z",
     "start_time": "2022-04-20T06:57:18.176452Z"
    },
    "hidden": true
   },
   "outputs": [],
   "source": [
    "price_t05_full = twoFactor(r=0.03,s0=48,k=50,v0=0.05,rho=-0.6,T=0.5,steps=1000,trials=1000,\\\n",
    "          sigma=0.42,alpha=5.8,beta=0.0625,truc_type='full')\n",
    "\n",
    "price_t05_partial = twoFactor(r=0.03,s0=48,k=50,v0=0.05,rho=-0.6,T=0.5,steps=1000,trials=1000,\\\n",
    "          sigma=0.42,alpha=5.8,beta=0.0625,truc_type='partial')\n",
    "\n",
    "price_t05_reflection = twoFactor(r=0.03,s0=48,k=50,v0=0.05,rho=-0.6,T=0.5,steps=1000,trials=1000,\\\n",
    "          sigma=0.42,alpha=5.8,beta=0.0625,truc_type='reflection')\n",
    "\n",
    "price_t5_full = twoFactor(r=0.03,s0=48,k=50,v0=0.05,rho=-0.6,T=5,steps=1000,trials=1000,\\\n",
    "          sigma=0.42,alpha=5.8,beta=0.0625,truc_type='full')\n",
    "\n",
    "price_t5_partial = twoFactor(r=0.03,s0=48,k=50,v0=0.05,rho=-0.6,T=5,steps=1000,trials=1000,\\\n",
    "          sigma=0.42,alpha=5.8,beta=0.0625,truc_type='partial')\n",
    "\n",
    "price_t5_reflection = twoFactor(r=0.03,s0=48,k=50,v0=0.05,rho=-0.6,T=5,steps=1000,trials=1000,\\\n",
    "          sigma=0.42,alpha=5.8,beta=0.0625,truc_type='reflection')"
   ]
  },
  {
   "cell_type": "code",
   "execution_count": 485,
   "id": "c008ae4e",
   "metadata": {
    "ExecuteTime": {
     "end_time": "2022-04-20T06:57:21.039956Z",
     "start_time": "2022-04-20T06:57:21.034535Z"
    },
    "hidden": true
   },
   "outputs": [
    {
     "data": {
      "text/html": [
       "<div>\n",
       "<style scoped>\n",
       "    .dataframe tbody tr th:only-of-type {\n",
       "        vertical-align: middle;\n",
       "    }\n",
       "\n",
       "    .dataframe tbody tr th {\n",
       "        vertical-align: top;\n",
       "    }\n",
       "\n",
       "    .dataframe thead th {\n",
       "        text-align: right;\n",
       "    }\n",
       "</style>\n",
       "<table border=\"1\" class=\"dataframe\">\n",
       "  <thead>\n",
       "    <tr style=\"text-align: right;\">\n",
       "      <th></th>\n",
       "      <th>T=0.5</th>\n",
       "      <th>T=5</th>\n",
       "    </tr>\n",
       "  </thead>\n",
       "  <tbody>\n",
       "    <tr>\n",
       "      <th>Full Truncation</th>\n",
       "      <td>2.789566</td>\n",
       "      <td>14.257875</td>\n",
       "    </tr>\n",
       "    <tr>\n",
       "      <th>Partial Truncation</th>\n",
       "      <td>2.627894</td>\n",
       "      <td>15.425628</td>\n",
       "    </tr>\n",
       "    <tr>\n",
       "      <th>Reflection</th>\n",
       "      <td>2.571650</td>\n",
       "      <td>14.681633</td>\n",
       "    </tr>\n",
       "  </tbody>\n",
       "</table>\n",
       "</div>"
      ],
      "text/plain": [
       "                       T=0.5        T=5\n",
       "Full Truncation     2.789566  14.257875\n",
       "Partial Truncation  2.627894  15.425628\n",
       "Reflection          2.571650  14.681633"
      ]
     },
     "execution_count": 485,
     "metadata": {},
     "output_type": "execute_result"
    }
   ],
   "source": [
    "T05 = [price_t05_full,price_t05_partial,price_t05_reflection]\n",
    "T5 = [price_t5_full,price_t5_partial,price_t5_reflection]\n",
    "\n",
    "ans = pd.DataFrame(list(zip(T05,T5)),index=['Full Truncation','Partial Truncation','Reflection'],columns=['T=0.5','T=5'])\n",
    "ans"
   ]
  },
  {
   "cell_type": "markdown",
   "id": "e757a795",
   "metadata": {},
   "source": [
    "## 5. The objective of this exercise is to compare a sample of Pseudo-Random numbers with a sample of Quasi-Monte Carlo numbers of 𝑈𝑛𝑖𝑓𝑜𝑟𝑚[0,1]𝑥[0,1]:"
   ]
  },
  {
   "cell_type": "markdown",
   "id": "4b081d13",
   "metadata": {},
   "source": [
    "### a) Generate 100 2-dimensional Uniform [0,1]x[0,1] vectors by using any one of the algorithms for random number generation."
   ]
  },
  {
   "cell_type": "code",
   "execution_count": null,
   "id": "5401f457",
   "metadata": {},
   "outputs": [],
   "source": []
  },
  {
   "cell_type": "code",
   "execution_count": null,
   "id": "a23e5cac",
   "metadata": {},
   "outputs": [],
   "source": []
  },
  {
   "cell_type": "code",
   "execution_count": null,
   "id": "9070d81c",
   "metadata": {},
   "outputs": [],
   "source": []
  },
  {
   "cell_type": "markdown",
   "id": "6983e8f6",
   "metadata": {},
   "source": [
    "### b) Generate 100 points of the 2-dimensional Halton sequences, using bases 2 and 7."
   ]
  },
  {
   "cell_type": "code",
   "execution_count": null,
   "id": "7706696d",
   "metadata": {},
   "outputs": [],
   "source": []
  },
  {
   "cell_type": "markdown",
   "id": "8656fa72",
   "metadata": {},
   "source": [
    "### c) Generate 100 points of the 2-dimensional Halton sequences, using bases 2 and 4. (Note: 4 is a non- prime number!)"
   ]
  },
  {
   "cell_type": "code",
   "execution_count": null,
   "id": "3d95f0ea",
   "metadata": {},
   "outputs": [],
   "source": []
  },
  {
   "cell_type": "markdown",
   "id": "88df6da5",
   "metadata": {},
   "source": [
    "### d) Draw all 3 sequences of random numbers on separate graphs. Are there differences in the three sets (visual test only)? Comment on your observations."
   ]
  },
  {
   "cell_type": "code",
   "execution_count": null,
   "id": "8509a943",
   "metadata": {},
   "outputs": [],
   "source": []
  },
  {
   "cell_type": "code",
   "execution_count": null,
   "id": "ea0af202",
   "metadata": {},
   "outputs": [],
   "source": []
  },
  {
   "cell_type": "markdown",
   "id": "da2123c0",
   "metadata": {},
   "source": [
    "### e) Use 2-dimensional Halton sequences to compute the following integral:"
   ]
  }
 ],
 "metadata": {
  "kernelspec": {
   "display_name": "Python 3 (ipykernel)",
   "language": "python",
   "name": "python3"
  },
  "language_info": {
   "codemirror_mode": {
    "name": "ipython",
    "version": 3
   },
   "file_extension": ".py",
   "mimetype": "text/x-python",
   "name": "python",
   "nbconvert_exporter": "python",
   "pygments_lexer": "ipython3",
   "version": "3.9.7"
  },
  "latex_envs": {
   "LaTeX_envs_menu_present": true,
   "autoclose": false,
   "autocomplete": true,
   "bibliofile": "biblio.bib",
   "cite_by": "apalike",
   "current_citInitial": 1,
   "eqLabelWithNumbers": true,
   "eqNumInitial": 1,
   "hotkeys": {
    "equation": "Ctrl-E",
    "itemize": "Ctrl-I"
   },
   "labels_anchors": false,
   "latex_user_defs": false,
   "report_style_numbering": false,
   "user_envs_cfg": false
  }
 },
 "nbformat": 4,
 "nbformat_minor": 5
}
