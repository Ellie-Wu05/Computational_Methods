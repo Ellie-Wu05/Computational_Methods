{
 "cells": [
  {
   "cell_type": "markdown",
   "id": "c595c56d",
   "metadata": {},
   "source": [
    "# Problem Set 3"
   ]
  },
  {
   "cell_type": "code",
   "execution_count": 63,
   "id": "196c1818",
   "metadata": {
    "ExecuteTime": {
     "end_time": "2022-04-26T18:13:19.518065Z",
     "start_time": "2022-04-26T18:13:19.393174Z"
    }
   },
   "outputs": [],
   "source": [
    "import math\n",
    "import numpy as np\n",
    "from scipy.stats import norm \n",
    "import pandas as pd\n",
    "import matplotlib.pyplot as plt\n",
    "import seaborn as sns\n",
    "\n",
    "sns.set_style('darkgrid')\n",
    "sns.set(font_scale=1.5, rc={'text.usetex' : True})"
   ]
  },
  {
   "cell_type": "code",
   "execution_count": 64,
   "id": "a2c66645",
   "metadata": {
    "ExecuteTime": {
     "end_time": "2022-04-26T18:13:19.559450Z",
     "start_time": "2022-04-26T18:13:19.547445Z"
    }
   },
   "outputs": [],
   "source": [
    "def indicator(arr,target_num):\n",
    "    \"\"\"\n",
    "    transform array with indicator function\n",
    "    target_num: indicator threshold\n",
    "    \"\"\"\n",
    "    res = [i if i>target_num else 0 for i in arr]\n",
    "    \n",
    "    return res\n",
    "\n",
    "def modify_negative_arr(arr,sqrt):\n",
    "    \"\"\"\n",
    "    Modify array with negative value within root calculation by use its absolute value\n",
    "    \"\"\"\n",
    "    res = []\n",
    "    \n",
    "    for num in arr:\n",
    "        if num > 0:\n",
    "            res.append(num**(1/sqrt))\n",
    "        else:\n",
    "            num = -(abs(num)**(1/sqrt))\n",
    "            res.append(num)\n",
    "    return res\n",
    "\n",
    "\n",
    "\n",
    "def modify_negative_num(num,sqrt):\n",
    "    \"\"\"\n",
    "    Modify array with negative value within root calculation by use its absolute value\n",
    "    \"\"\"\n",
    "\n",
    "    if num > 0:\n",
    "        return num**(1/sqrt)\n",
    "    else:\n",
    "        return -(abs(num)**(1/sqrt))\n"
   ]
  },
  {
   "cell_type": "markdown",
   "id": "5da43c6b",
   "metadata": {},
   "source": [
    "## 1. Evaluate the following expected values and probabilities:"
   ]
  },
  {
   "cell_type": "code",
   "execution_count": 65,
   "id": "6b5774ed",
   "metadata": {
    "ExecuteTime": {
     "end_time": "2022-04-26T18:13:20.117156Z",
     "start_time": "2022-04-26T18:13:20.099487Z"
    }
   },
   "outputs": [],
   "source": [
    "def simulate_x1(x0,n,t,path):\n",
    "    \"\"\"\n",
    "    x0: initial value\n",
    "    n: steps\n",
    "    t: time horizon\n",
    "    path: number of simulations\n",
    "    \"\"\"\n",
    "    np.random.seed(1)\n",
    "    dt = t/n\n",
    "    xt = [np.array([x0]*path)]\n",
    "    for i in range(n):\n",
    "        curr_x = xt.pop()\n",
    "        new = curr_x + (1/5-1/2*curr_x)*dt + (2/3)*np.sqrt(dt)*np.random.normal(0,1,path)\n",
    "        xt.append(new)\n",
    "    return xt[0]"
   ]
  },
  {
   "cell_type": "code",
   "execution_count": 66,
   "id": "ccfae349",
   "metadata": {
    "ExecuteTime": {
     "end_time": "2022-04-26T18:13:20.291236Z",
     "start_time": "2022-04-26T18:13:20.280148Z"
    }
   },
   "outputs": [],
   "source": [
    "def simulate_y1(y0,n,t,path):\n",
    "    \"\"\"\n",
    "    y0: initial value\n",
    "    n: steps\n",
    "    t: time horizon\n",
    "    path: number of simulations\n",
    "    \"\"\"\n",
    "    np.random.seed(0)\n",
    "    dt = t/n\n",
    "    yt = [np.array([y0]*path)]\n",
    "    for i in range(n):\n",
    "        curr_y = yt.pop()\n",
    "        t = dt * (i +1 )\n",
    "        new = curr_y + ((2/(1+t))*curr_y + (1+t**3)/3)*dt + (1+t**3)/3 * np.sqrt(dt) * np.random.normal(0,1,path)\n",
    "        yt.append(new)\n",
    "    return yt[0]"
   ]
  },
  {
   "cell_type": "code",
   "execution_count": 67,
   "id": "16f4f5c4",
   "metadata": {
    "ExecuteTime": {
     "end_time": "2022-04-26T18:13:20.459206Z",
     "start_time": "2022-04-26T18:13:20.446389Z"
    }
   },
   "outputs": [],
   "source": [
    "# x2 = simulate_x1(1,1000,2,1000)\n",
    "# y2 = simulate_y1(0.75,1000,2,1000)\n",
    "# y3 = simulate_y1(0.75,1000,3,1000)"
   ]
  },
  {
   "cell_type": "code",
   "execution_count": 68,
   "id": "981837d6",
   "metadata": {
    "ExecuteTime": {
     "end_time": "2022-04-26T18:13:20.830659Z",
     "start_time": "2022-04-26T18:13:20.668291Z"
    }
   },
   "outputs": [],
   "source": [
    "def question_1(x0=1,y0=0.75):\n",
    "    \"\"\"\n",
    "    Input: x0,y0\n",
    "    Output: p1, e1, e2, e3\n",
    "    \"\"\"\n",
    "    x2 = simulate_x1(x0,1000,2,1000)\n",
    "    y2 = simulate_y1(y0,1000,2,1000)\n",
    "    y3 = simulate_y1(y0,1000,3,1000)\n",
    "    \n",
    "    p1 = sum(y2>5)/len(y2)\n",
    "    e1 = np.mean(modify_negative_arr(x2,3))\n",
    "   \n",
    "    e2 = np.mean(y3)\n",
    "    new_x2 = indicator(x2,1)\n",
    "    e3 = np.mean(list(map(lambda x,y: x*y, new_x2,y2)))\n",
    "    \n",
    "    return p1 , e1 , e2 , e3\n",
    "    \n",
    "q1 = question_1(x0=1,y0=0.75)     "
   ]
  },
  {
   "cell_type": "code",
   "execution_count": 69,
   "id": "3566b717",
   "metadata": {
    "ExecuteTime": {
     "end_time": "2022-04-26T18:13:21.010067Z",
     "start_time": "2022-04-26T18:13:20.880364Z"
    }
   },
   "outputs": [
    {
     "data": {
      "text/html": [
       "<div>\n",
       "<style scoped>\n",
       "    .dataframe tbody tr th:only-of-type {\n",
       "        vertical-align: middle;\n",
       "    }\n",
       "\n",
       "    .dataframe tbody tr th {\n",
       "        vertical-align: top;\n",
       "    }\n",
       "\n",
       "    .dataframe thead th {\n",
       "        text-align: right;\n",
       "    }\n",
       "</style>\n",
       "<table border=\"1\" class=\"dataframe\">\n",
       "  <thead>\n",
       "    <tr style=\"text-align: right;\">\n",
       "      <th></th>\n",
       "      <th>Question</th>\n",
       "      <th>Answer</th>\n",
       "    </tr>\n",
       "  </thead>\n",
       "  <tbody>\n",
       "    <tr>\n",
       "      <th>0</th>\n",
       "      <td>P(y2&gt;5)</td>\n",
       "      <td>0.978000</td>\n",
       "    </tr>\n",
       "    <tr>\n",
       "      <th>1</th>\n",
       "      <td>e1</td>\n",
       "      <td>0.645733</td>\n",
       "    </tr>\n",
       "    <tr>\n",
       "      <th>2</th>\n",
       "      <td>e2</td>\n",
       "      <td>26.309194</td>\n",
       "    </tr>\n",
       "    <tr>\n",
       "      <th>3</th>\n",
       "      <td>e3</td>\n",
       "      <td>3.893022</td>\n",
       "    </tr>\n",
       "  </tbody>\n",
       "</table>\n",
       "</div>"
      ],
      "text/plain": [
       "  Question     Answer\n",
       "0  P(y2>5)   0.978000\n",
       "1       e1   0.645733\n",
       "2       e2  26.309194\n",
       "3       e3   3.893022"
      ]
     },
     "execution_count": 69,
     "metadata": {},
     "output_type": "execute_result"
    }
   ],
   "source": [
    "idx = ['P(y2>5)', 'e1','e2','e3']\n",
    "ans_1 = pd.DataFrame(list(zip(idx,q1)))\n",
    "ans_1.columns=['Question','Answer']\n",
    "ans_1"
   ]
  },
  {
   "cell_type": "markdown",
   "id": "32360a50",
   "metadata": {},
   "source": [
    "## 2. Estimate the following expected values:"
   ]
  },
  {
   "cell_type": "code",
   "execution_count": 70,
   "id": "8a7a44d7",
   "metadata": {
    "ExecuteTime": {
     "end_time": "2022-04-26T18:13:21.410765Z",
     "start_time": "2022-04-26T18:13:21.398424Z"
    }
   },
   "outputs": [],
   "source": [
    "def simulate_x2(x0,n,t,path):\n",
    "    \"\"\"\n",
    "    x0: initial value\n",
    "    n: steps\n",
    "    t: time horizon\n",
    "    path: number of simulations\n",
    "    \"\"\"\n",
    "    #np.random.seed(1)\n",
    "    dt = t/n\n",
    "    xt = [np.array([x0]*path)]\n",
    "    for i in range(n):\n",
    "        curr_x = xt.pop()\n",
    "        new = curr_x + (1/4)*curr_x*dt + (1/3)*curr_x*np.sqrt(dt)*np.random.normal(0,1,path)\\\n",
    "                                       -(3/4)*curr_x*np.sqrt(dt)*np.random.normal(0,1,path)\n",
    "        xt.append(new)\n",
    "        \n",
    "    return xt[0]"
   ]
  },
  {
   "cell_type": "code",
   "execution_count": 71,
   "id": "dbaf904c",
   "metadata": {
    "ExecuteTime": {
     "end_time": "2022-04-26T18:13:21.708222Z",
     "start_time": "2022-04-26T18:13:21.697523Z"
    }
   },
   "outputs": [],
   "source": [
    "def simulate_y2(t,path):\n",
    "    \"\"\"\n",
    "    t: time horizon\n",
    "    path: number of simulations\n",
    "    \"\"\"\n",
    "    #np.random.seed(0)\n",
    "    \n",
    "    yt = np.exp(-0.08*t+(1/3)*np.sqrt(t)*np.random.normal(0,1,path)+(3/4)*np.random.normal(0,1,path))\n",
    "    \n",
    "    return yt"
   ]
  },
  {
   "cell_type": "code",
   "execution_count": 72,
   "id": "134bbec3",
   "metadata": {
    "ExecuteTime": {
     "end_time": "2022-04-26T18:13:22.424167Z",
     "start_time": "2022-04-26T18:13:22.098335Z"
    }
   },
   "outputs": [
    {
     "data": {
      "text/plain": [
       "(1.321560900513529, 1.9090118269394103)"
      ]
     },
     "execution_count": 72,
     "metadata": {},
     "output_type": "execute_result"
    }
   ],
   "source": [
    "def question_2(x0):\n",
    "    \n",
    "#     np.random.seed(923)\n",
    "    x1 = simulate_x2(x0,1000,1,1000)\n",
    "    x3 = simulate_x2(x0,3000,3,1000)\n",
    "    y1 = simulate_y2(1,1000)\n",
    "    if sum(x1<0)>0:\n",
    "        x1 = modify_negative_arr(x1)\n",
    "    if sum(x3<0)>0:\n",
    "        x3 = modify_negative_arr(x3)\n",
    "\n",
    "    e1 = np.mean((1+x3)**(1/3))\n",
    "    e2 = np.mean(x1*y1)\n",
    "    \n",
    "    return e1, e2\n",
    "\n",
    "q2 = question_2(x0=1)\n",
    "q2"
   ]
  },
  {
   "cell_type": "code",
   "execution_count": 73,
   "id": "3b61ef67",
   "metadata": {
    "ExecuteTime": {
     "end_time": "2022-04-26T18:13:22.430610Z",
     "start_time": "2022-04-26T18:13:22.425351Z"
    }
   },
   "outputs": [
    {
     "data": {
      "text/html": [
       "<div>\n",
       "<style scoped>\n",
       "    .dataframe tbody tr th:only-of-type {\n",
       "        vertical-align: middle;\n",
       "    }\n",
       "\n",
       "    .dataframe tbody tr th {\n",
       "        vertical-align: top;\n",
       "    }\n",
       "\n",
       "    .dataframe thead th {\n",
       "        text-align: right;\n",
       "    }\n",
       "</style>\n",
       "<table border=\"1\" class=\"dataframe\">\n",
       "  <thead>\n",
       "    <tr style=\"text-align: right;\">\n",
       "      <th></th>\n",
       "      <th>Question</th>\n",
       "      <th>Answer</th>\n",
       "    </tr>\n",
       "  </thead>\n",
       "  <tbody>\n",
       "    <tr>\n",
       "      <th>0</th>\n",
       "      <td>e1</td>\n",
       "      <td>1.321561</td>\n",
       "    </tr>\n",
       "    <tr>\n",
       "      <th>1</th>\n",
       "      <td>e2</td>\n",
       "      <td>1.909012</td>\n",
       "    </tr>\n",
       "  </tbody>\n",
       "</table>\n",
       "</div>"
      ],
      "text/plain": [
       "  Question    Answer\n",
       "0       e1  1.321561\n",
       "1       e2  1.909012"
      ]
     },
     "execution_count": 73,
     "metadata": {},
     "output_type": "execute_result"
    }
   ],
   "source": [
    "idx = ['e1','e2']\n",
    "ans_2 = pd.DataFrame(list(zip(idx,q2)))\n",
    "ans_2.columns=['Question','Answer']\n",
    "ans_2"
   ]
  },
  {
   "cell_type": "markdown",
   "id": "3714c004",
   "metadata": {},
   "source": [
    "## 3"
   ]
  },
  {
   "cell_type": "markdown",
   "id": "8c6f39cf",
   "metadata": {},
   "source": [
    "### European Call options via Monte Carlo simulation"
   ]
  },
  {
   "cell_type": "code",
   "execution_count": 74,
   "id": "464fccd7",
   "metadata": {
    "ExecuteTime": {
     "end_time": "2022-04-26T18:13:23.786389Z",
     "start_time": "2022-04-26T18:13:23.781249Z"
    },
    "code_folding": [
     0
    ]
   },
   "outputs": [],
   "source": [
    "# Estimate European Call Price via Monte Carlo simulation\n",
    "# def MC_EuroCall(s0,k,t,r,sigma):\n",
    "#     \"\"\"\n",
    "#     Estimate European Call Price via Monte Carlo simulation\n",
    "    \n",
    "#     r : risk-free ratw\n",
    "#     sigma: volatility\n",
    "#     s0: stock price at time 0\n",
    "#     t: time t\n",
    "#     k: strike price\n",
    "    \n",
    "#     with Antithetic Variates\n",
    "#     \"\"\"\n",
    "#     dt = 0.004 # set dt =0.004\n",
    "#     N=1000\n",
    "#     np.random.seed(20)\n",
    "#     z = np.random.normal(0,1,N)\n",
    "#     w_t_1 = np.sqrt(t) * z\n",
    "#     w_t_2 = np.sqrt(t) * (-z)\n",
    "    \n",
    "#     s_t_1 = s0*np.exp(sigma*w_t_1 + (r-sigma**2/2)*t)\n",
    "#     s_t_2 = s0*np.exp(sigma*w_t_2 + (r-sigma**2/2)*t)\n",
    "        \n",
    "#     res = []\n",
    "#     for i in range(N):\n",
    "#         val_1 = max(s_t_1[i]-k,0)\n",
    "#         val_2 = max(s_t_2[i]-k,0)\n",
    "#         val = (val_1+val_2)/2\n",
    "#         res.append(val)\n",
    "        \n",
    "    \n",
    "#     call_value = np.mean(res) * np.exp(-r*t)\n",
    "    \n",
    "#     return call_value\n",
    "    "
   ]
  },
  {
   "cell_type": "code",
   "execution_count": 75,
   "id": "f60152a8",
   "metadata": {
    "ExecuteTime": {
     "end_time": "2022-04-26T18:13:24.322210Z",
     "start_time": "2022-04-26T18:13:24.282501Z"
    }
   },
   "outputs": [],
   "source": [
    "def MC_EuroCall(s0,k,t,r,sigma):\n",
    "    \"\"\"\n",
    "    Estimate European Call Price via Monte Carlo simulation\n",
    "    \n",
    "    r : risk-free ratw\n",
    "    sigma: volatility\n",
    "    s0: stock price at time 0\n",
    "    t: time t\n",
    "    k: strike price\n",
    "    \n",
    "    with Antithetic Variates and Euler Method\n",
    "    \"\"\"\n",
    "    np.random.seed(10)\n",
    "    dt = 0.004\n",
    "    steps = int(t/dt)\n",
    "    N = 1000\n",
    "    st_1 = [np.array([s0]*N)]\n",
    "    st_2 = [np.array([s0]*N)]\n",
    "  \n",
    "    wt_1 = []\n",
    "    wt_2 = []\n",
    "    \n",
    "    for i in range(steps):\n",
    "        wt_1.append(np.random.normal(0,1,N))\n",
    "        wt_2.append(-wt_1[i])\n",
    "        s1 = st_1.pop()\n",
    "        st_1.append(s1+r*s1*dt + sigma*s1*np.sqrt(dt)*wt_1[i])\n",
    "        s2 = st_2.pop()\n",
    "        st_2.append(s2+r*s2*dt + sigma*s2*np.sqrt(dt)*wt_2[i])\n",
    "    \n",
    "    st_1 = st_1[0]\n",
    "    st_2 = st_2[0]\n",
    "    \n",
    "    pay_s1 = [i-k if i-k>0 else 0 for i in st_1]\n",
    "    pay_s2 = [i-k if i-k>0 else 0 for i in st_2]\n",
    "    pay = [i/2+j/2 for i in pay_s1 for j in pay_s2]\n",
    "    \n",
    "    return np.mean(pay) * np.exp(-r*t) \n"
   ]
  },
  {
   "cell_type": "code",
   "execution_count": 76,
   "id": "b9faf1ac",
   "metadata": {
    "ExecuteTime": {
     "end_time": "2022-04-26T18:13:25.213561Z",
     "start_time": "2022-04-26T18:13:24.969875Z"
    }
   },
   "outputs": [
    {
     "name": "stdout",
     "output_type": "stream",
     "text": [
      "The Monte Carlo price is: 0.08025144505413202\n"
     ]
    }
   ],
   "source": [
    "mc_price = MC_EuroCall(s0=15,k=20,sigma=0.25,r=0.04,t=0.5)\n",
    "print(f'The Monte Carlo price is: {mc_price}')"
   ]
  },
  {
   "cell_type": "markdown",
   "id": "bfce4f65",
   "metadata": {},
   "source": [
    "### European Call options by using the Black-Scholes formula"
   ]
  },
  {
   "cell_type": "code",
   "execution_count": 77,
   "id": "0432e80f",
   "metadata": {
    "ExecuteTime": {
     "end_time": "2022-04-26T18:13:26.434260Z",
     "start_time": "2022-04-26T18:13:26.414007Z"
    }
   },
   "outputs": [],
   "source": [
    "def BS_EuroCall(s0,k,t,r,sigma):\n",
    "    \"\"\"\n",
    "    Only for european call\n",
    "    s0: stock price\n",
    "    k: strike price\n",
    "    r: risk-free rate\n",
    "    sigma: volatility\n",
    "    \n",
    "    N(·)\n",
    "    \"\"\"\n",
    "    def N(x):\n",
    "        d1 = 0.0498673470\n",
    "        d2 = 0.0211410061 \n",
    "        d3 = 0.0032776263\n",
    "        d4 = 0.0000380036 \n",
    "        d5 = 0.0000488906 \n",
    "        d6 = 0.0000053830\n",
    "\n",
    "        if x > 0:\n",
    "            N = 1 - (1/2)*(1 + d1*x + d2*x**2 + d3*x**3 + d4*x**4 + d5*x**5 + d6*x**6) **(-16) \n",
    "        else:\n",
    "            N =  1 - (1 - (1/2)*(1 + d1*(-x) + d2*(-x)**2 + d3*(-x)**3 \n",
    "                                 + d4*(-x)**4 + d5*(-x)**5 + d6*(-x)**6) **(-16) )\n",
    "\n",
    "        return N\n",
    "    \n",
    "    \n",
    "    d1 = (np.log(s0/k) + (r+sigma**2/2)*t)/(sigma*np.sqrt(t))\n",
    "    d2 = d1 - sigma*np.sqrt(t)\n",
    "    \n",
    "    call_value = N(d1)*s0 - N(d2)*k*np.exp(-r*t)\n",
    "    \n",
    "    return call_value"
   ]
  },
  {
   "cell_type": "code",
   "execution_count": 78,
   "id": "0b68bbf8",
   "metadata": {
    "ExecuteTime": {
     "end_time": "2022-04-26T18:13:27.092463Z",
     "start_time": "2022-04-26T18:13:27.085794Z"
    }
   },
   "outputs": [
    {
     "name": "stdout",
     "output_type": "stream",
     "text": [
      "The Black-Scholes price is: 0.08575224964083072\n"
     ]
    }
   ],
   "source": [
    "bs_price = BS_EuroCall(s0=15,k=20,sigma=0.25,r=0.04,t=0.5)\n",
    "print(f'The Black-Scholes price is: {bs_price}')"
   ]
  },
  {
   "cell_type": "markdown",
   "id": "447766f7",
   "metadata": {},
   "source": [
    "### Estimate the European call option’s greeks - delta, gamma, theta, and vega"
   ]
  },
  {
   "cell_type": "markdown",
   "id": "a256441e",
   "metadata": {},
   "source": [
    "__Delta__ $\\Delta = \\frac{\\partial C}{\\partial S_0} = \\frac{BS_{call}(S+\\Delta S,K,T,r,\\sigma) - BS_{call}( S,K,T,r,\\sigma)}{\\Delta S}$\n",
    "\n",
    "__Gamma__ $\\Gamma = \\frac{\\partial^2 C}{\\partial S_0^2} = \\frac{BS_{call}(S+\\Delta S,K,T,r,\\sigma) - 2BS_{call}( S,K,T,r,\\sigma) + BS_{call}(S-\\Delta S,K,T,r,\\sigma)}{(\\Delta S)^2}$\n",
    "\n",
    "__Theta__ $\\Theta = \\frac{\\partial C}{\\partial T} = \\frac{BS_{call}(S ,K,T + \\Delta T,r,\\sigma) - BS_{call}( S,K,T,r,\\sigma)}{\\Delta T}$\n",
    "\n",
    "__Vega__ $\\nu = \\frac{\\partial C}{\\partial \\sigma} = \\frac{BS_{call}(S,K,T,r,\\sigma) - BS_{call}( S,K,T,r,\\sigma - \\Delta \\sigma)}{\\Delta \\sigma}$\n",
    "\n",
    "__Rho__ $\\rho = \\frac{\\partial C}{\\partial r} = \\frac{BS_{call}(S,K,T,r + \\Delta r,\\sigma) - BS_{call}( S,K,T,r,\\sigma)}{\\Delta r}$"
   ]
  },
  {
   "cell_type": "code",
   "execution_count": 79,
   "id": "ab161fc1",
   "metadata": {
    "ExecuteTime": {
     "end_time": "2022-04-26T18:13:28.670342Z",
     "start_time": "2022-04-26T18:13:28.662963Z"
    }
   },
   "outputs": [],
   "source": [
    "s0_range = np.arange(15,26,1)\n",
    "k = 20\n",
    "sigma = 0.25\n",
    "r = 0.04\n",
    "t=0.5\n",
    "dt = 0.04"
   ]
  },
  {
   "cell_type": "code",
   "execution_count": 80,
   "id": "f39b906f",
   "metadata": {
    "ExecuteTime": {
     "end_time": "2022-04-26T18:14:04.902774Z",
     "start_time": "2022-04-26T18:13:29.235173Z"
    }
   },
   "outputs": [],
   "source": [
    "price = [0] * len(s0_range)\n",
    "price_incr = [0] * len(s0_range)\n",
    "price_decr = [0] * len(s0_range)\n",
    "delta = [0] * len(s0_range)\n",
    "gamma = [0] * len(s0_range)\n",
    "theta = [0] * len(s0_range)\n",
    "vega = [0] * len(s0_range)\n",
    "rho = [0] * len(s0_range)\n",
    "\n",
    "for i in range(len(delta)):\n",
    "    price[i] = MC_EuroCall(s0=s0_range[i],k=k,sigma=sigma,r=r,t=t)\n",
    "    \n",
    "    # option price change with respect to price change\n",
    "    delta[i] = (MC_EuroCall(s0=s0_range[i]+0.01,k=k,sigma=sigma,r=r,t=t)  \\\n",
    "                - MC_EuroCall(s0=s0_range[i],k=k,sigma=sigma,r=r,t=t))/0.01\n",
    "    # delta change with respect to price change\n",
    "    \n",
    "    price_incr[i] = MC_EuroCall(s0=s0_range[i]+0.1,k=k,sigma=sigma,r=r,t=t)\n",
    "    price_decr[i] = MC_EuroCall(s0=s0_range[i]-0.1,k=k,sigma=sigma,r=r,t=t)\n",
    "    \n",
    "    gamma[i] = (price_incr[i] + price_decr[i] - 2*price[i])/(0.1**2)\n",
    "    \n",
    "#     gamma[i] = (MC_EuroCall(s0=s0_range[i]+0.01,k=k,sigma=sigma,r=r,t=t)  \\\n",
    "#                 - 2*MC_EuroCall(s0=s0_range[i],k=k,sigma=sigma,r=r,t=t)  \\\n",
    "#                + MC_EuroCall(s0=s0_range[i]-0.01,k=k,sigma=sigma,r=r,t=t))/(0.01)**2\n",
    "    # option price change with respect to time change\n",
    "    theta[i] = (MC_EuroCall(s0=s0_range[i],k=k,sigma=sigma,r=r,t=t-0.01)  \\\n",
    "                - MC_EuroCall(s0=s0_range[i],k=k,sigma=sigma,r=r,t=t))/0.01\n",
    "    #option price change with respect to volatility change\n",
    "    vega[i] = (MC_EuroCall(s0=s0_range[i],k=k,sigma=sigma,r=r,t=t)  \\\n",
    "                - MC_EuroCall(s0=s0_range[i],k=k,sigma=sigma-0.01,r=r,t=t))/0.01\n",
    "    #option price change with respect to risk-free rate change\n",
    "    rho[i] = (MC_EuroCall(s0=s0_range[i],k=k,sigma=sigma,r=r+0.01,t=t)  \\\n",
    "                - MC_EuroCall(s0=s0_range[i],k=k,sigma=sigma,r=r,t=t))/0.01"
   ]
  },
  {
   "cell_type": "code",
   "execution_count": 81,
   "id": "016df45f",
   "metadata": {
    "ExecuteTime": {
     "end_time": "2022-04-26T18:14:05.681417Z",
     "start_time": "2022-04-26T18:14:04.907778Z"
    }
   },
   "outputs": [
    {
     "data": {
      "text/plain": [
       "[Text(0.5, 1.0, 'Vega')]"
      ]
     },
     "execution_count": 81,
     "metadata": {},
     "output_type": "execute_result"
    },
    {
     "data": {
      "text/plain": [
       "<Figure size 432x288 with 0 Axes>"
      ]
     },
     "metadata": {},
     "output_type": "display_data"
    },
    {
     "data": {
      "image/png": "[encoded data removed]",
      "text/plain": [
       "<Figure size 720x576 with 4 Axes>"
      ]
     },
     "metadata": {},
     "output_type": "display_data"
    }
   ],
   "source": [
    "plt.figure()\n",
    "\n",
    "fig, axs = plt.subplots(nrows=2,ncols=2,figsize=(10,8),sharex=True)\n",
    "\n",
    "sns.lineplot(x=s0_range, y=delta, ax=axs[0][0]).set(title='Delta')\n",
    "sns.lineplot(x=s0_range, y=gamma, ax=axs[0][1]).set(title='Gamma')\n",
    "sns.lineplot(x=s0_range, y=theta, ax=axs[1][0]).set(title='Theta')\n",
    "sns.lineplot(x=s0_range, y=vega, ax= axs[1][1]).set(title='Vega')"
   ]
  },
  {
   "cell_type": "code",
   "execution_count": 1,
   "id": "faa3e80f",
   "metadata": {
    "ExecuteTime": {
     "end_time": "2022-06-08T06:38:30.451704Z",
     "start_time": "2022-06-08T06:38:30.363126Z"
    }
   },
   "outputs": [
    {
     "ename": "NameError",
     "evalue": "name 'pd' is not defined",
     "output_type": "error",
     "traceback": [
      "\u001b[0;31m---------------------------------------------------------------------------\u001b[0m",
      "\u001b[0;31mNameError\u001b[0m                                 Traceback (most recent call last)",
      "\u001b[0;32m/var/folders/lz/5kdvmp9s4d145m7yc4m4xnx80000gn/T/ipykernel_91482/4078234062.py\u001b[0m in \u001b[0;36m<module>\u001b[0;34m\u001b[0m\n\u001b[0;32m----> 1\u001b[0;31m greeks = pd.DataFrame(list(zip(price,delta,gamma,theta,vega,rho)),\n\u001b[0m\u001b[1;32m      2\u001b[0m                      index=np.arange(15,26,1),columns=['price','delta','gamma','theta','vega','rho'])\n\u001b[1;32m      3\u001b[0m \u001b[0mgreeks\u001b[0m\u001b[0;34m\u001b[0m\u001b[0;34m\u001b[0m\u001b[0m\n",
      "\u001b[0;31mNameError\u001b[0m: name 'pd' is not defined"
     ]
    }
   ],
   "source": [
    "greeks = pd.DataFrame(list(zip(price,delta,gamma,theta,vega,rho)),\n",
    "                     index=np.arange(15,26,1),columns=['price','delta','gamma','theta','vega','rho'])\n",
    "greeks"
   ]
  },
  {
   "cell_type": "markdown",
   "id": "dff3e254",
   "metadata": {},
   "source": [
    "## 4. Consider the following 2-factor model for stock prices with stochastic volatility:"
   ]
  },
  {
   "cell_type": "markdown",
   "id": "432292ab",
   "metadata": {},
   "source": [
    "                                                    Heston Model\n",
    "\\begin{equation}\n",
    "  \\left \\{\n",
    "  \\begin{aligned}\n",
    "    &dS_t = rS_td_t + \\sqrt{V_t}S_tdW_t^1 &&  \\\\\n",
    "    &dV_t = \\alpha(\\beta-V_t)d_t + \\sigma \\sqrt{V_t}dW_t^2 && \n",
    "  \\end{aligned} \n",
    "  \\right.\n",
    "\\end{equation} "
   ]
  },
  {
   "cell_type": "markdown",
   "id": "1c371dd8",
   "metadata": {},
   "source": [
    "__Three Truncation Methods__\n",
    "\n",
    "$\\hat S _{k+1} = \\hat S_k + r\\hat S_k\\Delta + \\sqrt{f_3(\\hat V_k)} \\hat S_k\\sqrt{\\Delta}Z^1_{k+1}  $\n",
    "\n",
    "$\\hat V _{k+1} = f_1(\\hat V_k) + \\alpha(\\beta-f_2(\\hat V_k))\\Delta + \\sigma\\sqrt{f_3(\\hat V_k)}\\sqrt{\\Delta}Z^2_{k+1} $\n",
    "\n",
    "| Scheme | $f_1$ | $f_2$ |$f_3$|\n",
    "| --- | --- | --- |---|\n",
    "| Reflection |$\\left| x \\right| $ |$\\left| x \\right| $ |$\\left| x \\right| $ |\n",
    "| Partial Truncation | $x$ | $x$ | $x^+$ |\n",
    "| Full Truncation | $x$ | $x^+$ | $x^+$ |"
   ]
  },
  {
   "cell_type": "code",
   "execution_count": 20,
   "id": "9bb8c3d6",
   "metadata": {
    "ExecuteTime": {
     "end_time": "2022-04-21T17:54:16.228276Z",
     "start_time": "2022-04-21T17:54:16.196675Z"
    }
   },
   "outputs": [],
   "source": [
    "def twoD_Normal(path,rho):\n",
    "    \"\"\"\n",
    "    Two-dimensional Normal\n",
    "    \"\"\"\n",
    "    var_covar_matrix = np.array([[1,rho],[rho,1]])\n",
    "    L = np.linalg.cholesky(var_covar_matrix)\n",
    "    z1 = np.random.normal(0,1,path)\n",
    "    z2 = np.random.normal(0,1,path)\n",
    "    z = np.array([z1,z2])\n",
    "    w1,w2 = L.dot(z)\n",
    "    return w1,w2\n",
    "\n",
    "def full_truc(arr):\n",
    "    return np.array([i if i>0 else 0 for i in arr])\n",
    "\n",
    "def twoFactor(r,s0,k,v0,rho,T,steps,trials,sigma,alpha,beta,truc_type):\n",
    "    dt = T/steps\n",
    "    v = [np.array([v0]*trials)]\n",
    "    s = [np.array([s0]*trials)]\n",
    "  \n",
    "    for i in range(trials):\n",
    "        w1,w2 = twoD_Normal(trials,rho)\n",
    "        dw1 = np.sqrt(dt) * w1\n",
    "        dw2 = np.sqrt(dt) * w2\n",
    "        \n",
    "        if truc_type.lower() == \"full\":\n",
    "            vt = v.pop()\n",
    "            vt_1 = vt + alpha*(beta-full_truc(vt))*dt + sigma*np.sqrt(full_truc(vt))*dw2\n",
    "            st = s.pop()\n",
    "            st_1 = st + r*st*dt + np.sqrt(full_truc(vt))*st*dw1\n",
    "            v.append(vt_1)\n",
    "            s.append(st_1)\n",
    "            \n",
    "        elif truc_type.lower() == \"partial\":\n",
    "            vt = v.pop()\n",
    "            vt_1 = vt + alpha*(beta-vt)*dt + sigma*np.sqrt(full_truc(vt))*dw2\n",
    "            st = s.pop()\n",
    "            st_1 = st + r*st*dt + np.sqrt(full_truc(vt))*st*dw1\n",
    "            v.append(vt_1)\n",
    "            s.append(st_1)\n",
    "        \n",
    "        elif truc_type.lower() == \"reflection\":\n",
    "            vt = v.pop()\n",
    "            vt_1 = abs(vt) + alpha*(beta-abs(vt))*dt + sigma*np.sqrt(abs(vt))*dw2\n",
    "            st = s.pop()\n",
    "            st_1 = st + r*st*dt + np.sqrt(abs(vt))*st*dw1\n",
    "            v.append(vt_1)\n",
    "            s.append(st_1)\n",
    "            \n",
    "    call_payoff = s[0] - k\n",
    "    call_payoff = full_truc(call_payoff)\n",
    "    call_price = np.mean(call_payoff)\n",
    "\n",
    "    return call_price"
   ]
  },
  {
   "cell_type": "code",
   "execution_count": 21,
   "id": "dd38bdef",
   "metadata": {
    "ExecuteTime": {
     "end_time": "2022-04-21T17:54:19.588272Z",
     "start_time": "2022-04-21T17:54:16.754023Z"
    }
   },
   "outputs": [],
   "source": [
    "price_t05_full = twoFactor(r=0.03,s0=48,k=50,v0=0.05,rho=-0.6,T=0.5,steps=1000,trials=1000,\\\n",
    "          sigma=0.42,alpha=5.8,beta=0.0625,truc_type='full')\n",
    "\n",
    "price_t05_partial = twoFactor(r=0.03,s0=48,k=50,v0=0.05,rho=-0.6,T=0.5,steps=1000,trials=1000,\\\n",
    "          sigma=0.42,alpha=5.8,beta=0.0625,truc_type='partial')\n",
    "\n",
    "price_t05_reflection = twoFactor(r=0.03,s0=48,k=50,v0=0.05,rho=-0.6,T=0.5,steps=1000,trials=1000,\\\n",
    "          sigma=0.42,alpha=5.8,beta=0.0625,truc_type='reflection')\n",
    "\n",
    "price_t5_full = twoFactor(r=0.03,s0=48,k=50,v0=0.05,rho=-0.6,T=5,steps=1000,trials=1000,\\\n",
    "          sigma=0.42,alpha=5.8,beta=0.0625,truc_type='full')\n",
    "\n",
    "price_t5_partial = twoFactor(r=0.03,s0=48,k=50,v0=0.05,rho=-0.6,T=5,steps=1000,trials=1000,\\\n",
    "          sigma=0.42,alpha=5.8,beta=0.0625,truc_type='partial')\n",
    "\n",
    "price_t5_reflection = twoFactor(r=0.03,s0=48,k=50,v0=0.05,rho=-0.6,T=5,steps=1000,trials=1000,\\\n",
    "          sigma=0.42,alpha=5.8,beta=0.0625,truc_type='reflection')"
   ]
  },
  {
   "cell_type": "code",
   "execution_count": 22,
   "id": "55a9000f",
   "metadata": {
    "ExecuteTime": {
     "end_time": "2022-04-21T17:54:19.603737Z",
     "start_time": "2022-04-21T17:54:19.589600Z"
    }
   },
   "outputs": [
    {
     "data": {
      "text/html": [
       "<div>\n",
       "<style scoped>\n",
       "    .dataframe tbody tr th:only-of-type {\n",
       "        vertical-align: middle;\n",
       "    }\n",
       "\n",
       "    .dataframe tbody tr th {\n",
       "        vertical-align: top;\n",
       "    }\n",
       "\n",
       "    .dataframe thead th {\n",
       "        text-align: right;\n",
       "    }\n",
       "</style>\n",
       "<table border=\"1\" class=\"dataframe\">\n",
       "  <thead>\n",
       "    <tr style=\"text-align: right;\">\n",
       "      <th></th>\n",
       "      <th>T=0.5</th>\n",
       "      <th>T=5</th>\n",
       "    </tr>\n",
       "  </thead>\n",
       "  <tbody>\n",
       "    <tr>\n",
       "      <th>Full Truncation</th>\n",
       "      <td>2.558547</td>\n",
       "      <td>14.670873</td>\n",
       "    </tr>\n",
       "    <tr>\n",
       "      <th>Partial Truncation</th>\n",
       "      <td>2.433621</td>\n",
       "      <td>15.148165</td>\n",
       "    </tr>\n",
       "    <tr>\n",
       "      <th>Reflection</th>\n",
       "      <td>2.814669</td>\n",
       "      <td>15.968595</td>\n",
       "    </tr>\n",
       "  </tbody>\n",
       "</table>\n",
       "</div>"
      ],
      "text/plain": [
       "                       T=0.5        T=5\n",
       "Full Truncation     2.558547  14.670873\n",
       "Partial Truncation  2.433621  15.148165\n",
       "Reflection          2.814669  15.968595"
      ]
     },
     "execution_count": 22,
     "metadata": {},
     "output_type": "execute_result"
    }
   ],
   "source": [
    "T05 = [price_t05_full,price_t05_partial,price_t05_reflection]\n",
    "T5 = [price_t5_full,price_t5_partial,price_t5_reflection]\n",
    "\n",
    "ans = pd.DataFrame(list(zip(T05,T5)),index=['Full Truncation','Partial Truncation','Reflection'],columns=['T=0.5','T=5'])\n",
    "ans"
   ]
  },
  {
   "cell_type": "markdown",
   "id": "ff565c76",
   "metadata": {},
   "source": [
    "## 5. The objective of this exercise is to compare a sample of Pseudo-Random numbers with a sample of Quasi-Monte Carlo numbers of 𝑈𝑛𝑖𝑓𝑜𝑟𝑚[0,1]𝑥[0,1]:"
   ]
  },
  {
   "cell_type": "code",
   "execution_count": 35,
   "id": "3348c523",
   "metadata": {
    "ExecuteTime": {
     "end_time": "2022-04-21T18:15:57.777888Z",
     "start_time": "2022-04-21T18:15:57.768405Z"
    }
   },
   "outputs": [],
   "source": [
    "def halton_oneD(n,base):\n",
    "    \"\"\"\n",
    "    One-dimensional Halton sequence \n",
    "    (the code is adopted from Brandimarte’s “Numerical methods in finance and economics: \n",
    "    a MATLAB-based introduction”)\n",
    "    \n",
    "    \"\"\"\n",
    "    sequence = np.zeros(n)\n",
    "    numbits = int(1 + np.ceil(np.log(n)/np.log(base)))\n",
    "    VetBase = [1/base**(i+1) for i in range(numbits)]\n",
    "    WorkVet = np.zeros(numbits)\n",
    "    for i in range(n):\n",
    "        j=0\n",
    "        ok = 0\n",
    "        while ok==0:\n",
    "            WorkVet[j] = WorkVet[j]+1\n",
    "            if WorkVet[j] < base:\n",
    "                ok = 1\n",
    "            else:\n",
    "                WorkVet[j] = 0\n",
    "                j = j+1\n",
    "        sequence[i] = np.dot(WorkVet,VetBase)\n",
    "        \n",
    "    return sequence"
   ]
  },
  {
   "cell_type": "markdown",
   "id": "bbbe1fa0",
   "metadata": {},
   "source": [
    "### a) Generate 100 2-dimensional Uniform [0,1]x[0,1] vectors by using any one of the algorithms for random number generation."
   ]
  },
  {
   "cell_type": "code",
   "execution_count": 36,
   "id": "794dadc4",
   "metadata": {
    "ExecuteTime": {
     "end_time": "2022-04-21T18:15:58.258331Z",
     "start_time": "2022-04-21T18:15:58.250961Z"
    }
   },
   "outputs": [],
   "source": [
    "def LGM(x,n):\n",
    "    '''\n",
    "    x: initial value\n",
    "    n: number of random variables to generate\n",
    "    '''\n",
    "    m=2**31-1\n",
    "    a=7**5\n",
    "    b=0\n",
    "\n",
    "    LGM_rm=[]\n",
    "\n",
    "    for i in range(n):\n",
    "        x = (a*x+b) % m\n",
    "        LGM_rm.append(x/m)\n",
    "        \n",
    "    return LGM_rm"
   ]
  },
  {
   "cell_type": "code",
   "execution_count": 37,
   "id": "b0671d49",
   "metadata": {
    "ExecuteTime": {
     "end_time": "2022-04-21T18:15:59.690645Z",
     "start_time": "2022-04-21T18:15:59.685524Z"
    }
   },
   "outputs": [],
   "source": [
    "rv = LGM(1,200)\n",
    "l1 = rv[:100]\n",
    "l2 = rv[100:]\n",
    "vector_a = list(zip(l1,l2))"
   ]
  },
  {
   "cell_type": "markdown",
   "id": "6e6ab010",
   "metadata": {},
   "source": [
    "### b) Generate 100 points of the 2-dimensional Halton sequences, using bases 2 and 7."
   ]
  },
  {
   "cell_type": "code",
   "execution_count": 38,
   "id": "953785e3",
   "metadata": {
    "ExecuteTime": {
     "end_time": "2022-04-21T18:16:01.374821Z",
     "start_time": "2022-04-21T18:16:01.365180Z"
    }
   },
   "outputs": [],
   "source": [
    "b_base2 = halton_oneD(100,2)\n",
    "b_base7 = halton_oneD(100,7)\n",
    "vector_b = list(zip(b_base2,b_base7))"
   ]
  },
  {
   "cell_type": "markdown",
   "id": "8c93b0a6",
   "metadata": {},
   "source": [
    "### c) Generate 100 points of the 2-dimensional Halton sequences, using bases 2 and 4. (Note: 4 is a non- prime number!)"
   ]
  },
  {
   "cell_type": "code",
   "execution_count": 39,
   "id": "3011c2a8",
   "metadata": {
    "ExecuteTime": {
     "end_time": "2022-04-21T18:16:01.923816Z",
     "start_time": "2022-04-21T18:16:01.913637Z"
    }
   },
   "outputs": [],
   "source": [
    "c_base2 = halton_oneD(100,2)\n",
    "c_base4 = halton_oneD(100,4)\n",
    "vector_c = list(zip(c_base2,c_base4))"
   ]
  },
  {
   "cell_type": "markdown",
   "id": "af9c35d0",
   "metadata": {},
   "source": [
    "### d) Draw all 3 sequences of random numbers on separate graphs. Are there differences in the three sets (visual test only)? Comment on your observations."
   ]
  },
  {
   "cell_type": "code",
   "execution_count": null,
   "id": "1ea16a14",
   "metadata": {},
   "outputs": [],
   "source": [
    "plt.figure()\n",
    "plt.rcParams[\"figure.figsize\"] = (20,6)\n",
    "\n",
    "fig, axs = plt.subplots(ncols=3)\n",
    "sns.scatterplot(x=l1, y=l2, ax=axs[0],s=100).set(title='LGM')\n",
    "sns.scatterplot(x=b_base2,y=b_base7,ax=axs[1],s=100).set(title='base 2 and 7')\n",
    "sns.scatterplot(x=c_base2,y=c_base4,ax=axs[2],s=100).set(title='base 2 and 4')\n",
    "plt.legend(markerscale=2)"
   ]
  },
  {
   "cell_type": "markdown",
   "id": "95567f02",
   "metadata": {},
   "source": [
    "### e) Use 2-dimensional Halton sequences to compute the following integral:"
   ]
  },
  {
   "cell_type": "markdown",
   "id": "3ab5b152",
   "metadata": {},
   "source": [
    " $I = \\int^{1}_{0} \\int^{1}_{0} e^{-xy}(\\sin 6\\pi x+ \\cos ^{\\frac{1}{3}}2\\pi y)dxdy$ , Use N=10,000 in your simulations. Try different couples for bases: (2,4), (2,7), (5,7)."
   ]
  },
  {
   "cell_type": "code",
   "execution_count": 29,
   "id": "1cc0f73f",
   "metadata": {
    "ExecuteTime": {
     "end_time": "2022-04-21T18:15:47.983341Z",
     "start_time": "2022-04-21T18:15:47.961378Z"
    }
   },
   "outputs": [],
   "source": [
    "def integral(base1,base2):\n",
    "    \"\"\"\n",
    "    return integral number base on two different bases\n",
    "    \"\"\"\n",
    "    N =10000\n",
    "    x = halton_oneD(N,base1)\n",
    "    y = halton_oneD(N,base2)\n",
    "    \n",
    "    val = []\n",
    "    for i in range(N):\n",
    "        c = np.cos(2*np.pi*y[i])\n",
    "        v = np.exp(-x[i]*y[i])*(np.sin(6*np.pi*x[i]) +modify_negative_num(c,3))\n",
    "        val.append(v)\n",
    "    return val"
   ]
  },
  {
   "cell_type": "code",
   "execution_count": 30,
   "id": "50d7b34c",
   "metadata": {
    "ExecuteTime": {
     "end_time": "2022-04-21T18:15:48.325797Z",
     "start_time": "2022-04-21T18:15:48.281165Z"
    }
   },
   "outputs": [
    {
     "ename": "NameError",
     "evalue": "name 'halton_oneD' is not defined",
     "output_type": "error",
     "traceback": [
      "\u001b[0;31m---------------------------------------------------------------------------\u001b[0m",
      "\u001b[0;31mNameError\u001b[0m                                 Traceback (most recent call last)",
      "\u001b[0;32m/var/folders/lz/5kdvmp9s4d145m7yc4m4xnx80000gn/T/ipykernel_49211/4181348829.py\u001b[0m in \u001b[0;36m<module>\u001b[0;34m\u001b[0m\n\u001b[0;32m----> 1\u001b[0;31m \u001b[0mI24\u001b[0m \u001b[0;34m=\u001b[0m \u001b[0mnp\u001b[0m\u001b[0;34m.\u001b[0m\u001b[0mmean\u001b[0m\u001b[0;34m(\u001b[0m\u001b[0mintegral\u001b[0m\u001b[0;34m(\u001b[0m\u001b[0;36m2\u001b[0m\u001b[0;34m,\u001b[0m\u001b[0;36m4\u001b[0m\u001b[0;34m)\u001b[0m\u001b[0;34m)\u001b[0m\u001b[0;34m\u001b[0m\u001b[0;34m\u001b[0m\u001b[0m\n\u001b[0m\u001b[1;32m      2\u001b[0m \u001b[0mI27\u001b[0m \u001b[0;34m=\u001b[0m \u001b[0mnp\u001b[0m\u001b[0;34m.\u001b[0m\u001b[0mmean\u001b[0m\u001b[0;34m(\u001b[0m\u001b[0mintegral\u001b[0m\u001b[0;34m(\u001b[0m\u001b[0;36m2\u001b[0m\u001b[0;34m,\u001b[0m\u001b[0;36m7\u001b[0m\u001b[0;34m)\u001b[0m\u001b[0;34m)\u001b[0m\u001b[0;34m\u001b[0m\u001b[0;34m\u001b[0m\u001b[0m\n\u001b[1;32m      3\u001b[0m \u001b[0mI57\u001b[0m \u001b[0;34m=\u001b[0m \u001b[0mnp\u001b[0m\u001b[0;34m.\u001b[0m\u001b[0mmean\u001b[0m\u001b[0;34m(\u001b[0m\u001b[0mintegral\u001b[0m\u001b[0;34m(\u001b[0m\u001b[0;36m5\u001b[0m\u001b[0;34m,\u001b[0m\u001b[0;36m7\u001b[0m\u001b[0;34m)\u001b[0m\u001b[0;34m)\u001b[0m\u001b[0;34m\u001b[0m\u001b[0;34m\u001b[0m\u001b[0m\n",
      "\u001b[0;32m/var/folders/lz/5kdvmp9s4d145m7yc4m4xnx80000gn/T/ipykernel_49211/611787166.py\u001b[0m in \u001b[0;36mintegral\u001b[0;34m(base1, base2)\u001b[0m\n\u001b[1;32m      4\u001b[0m     \"\"\"\n\u001b[1;32m      5\u001b[0m     \u001b[0mN\u001b[0m \u001b[0;34m=\u001b[0m\u001b[0;36m10000\u001b[0m\u001b[0;34m\u001b[0m\u001b[0;34m\u001b[0m\u001b[0m\n\u001b[0;32m----> 6\u001b[0;31m     \u001b[0mx\u001b[0m \u001b[0;34m=\u001b[0m \u001b[0mhalton_oneD\u001b[0m\u001b[0;34m(\u001b[0m\u001b[0mN\u001b[0m\u001b[0;34m,\u001b[0m\u001b[0mbase1\u001b[0m\u001b[0;34m)\u001b[0m\u001b[0;34m\u001b[0m\u001b[0;34m\u001b[0m\u001b[0m\n\u001b[0m\u001b[1;32m      7\u001b[0m     \u001b[0my\u001b[0m \u001b[0;34m=\u001b[0m \u001b[0mhalton_oneD\u001b[0m\u001b[0;34m(\u001b[0m\u001b[0mN\u001b[0m\u001b[0;34m,\u001b[0m\u001b[0mbase2\u001b[0m\u001b[0;34m)\u001b[0m\u001b[0;34m\u001b[0m\u001b[0;34m\u001b[0m\u001b[0m\n\u001b[1;32m      8\u001b[0m \u001b[0;34m\u001b[0m\u001b[0m\n",
      "\u001b[0;31mNameError\u001b[0m: name 'halton_oneD' is not defined"
     ]
    }
   ],
   "source": [
    "I24 = np.mean(integral(2,4))\n",
    "I27 = np.mean(integral(2,7))\n",
    "I57 = np.mean(integral(5,7))"
   ]
  },
  {
   "cell_type": "code",
   "execution_count": null,
   "id": "76104c86",
   "metadata": {},
   "outputs": [],
   "source": [
    "base_pair = ['2,4','2,7','5,7']\n",
    "Iresult = pd.DataFrame(list(zip(base_pair,[I24,I27,I57])),columns=['Base','Integral Value'])\n",
    "Iresult\n"
   ]
  },
  {
   "cell_type": "code",
   "execution_count": null,
   "id": "8ee653ca",
   "metadata": {},
   "outputs": [],
   "source": []
  }
 ],
 "metadata": {
  "kernelspec": {
   "display_name": "Python 3 (ipykernel)",
   "language": "python",
   "name": "python3"
  },
  "language_info": {
   "codemirror_mode": {
    "name": "ipython",
    "version": 3
   },
   "file_extension": ".py",
   "mimetype": "text/x-python",
   "name": "python",
   "nbconvert_exporter": "python",
   "pygments_lexer": "ipython3",
   "version": "3.9.7"
  },
  "latex_envs": {
   "LaTeX_envs_menu_present": true,
   "autoclose": false,
   "autocomplete": true,
   "bibliofile": "biblio.bib",
   "cite_by": "apalike",
   "current_citInitial": 1,
   "eqLabelWithNumbers": true,
   "eqNumInitial": 1,
   "hotkeys": {
    "equation": "Ctrl-E",
    "itemize": "Ctrl-I"
   },
   "labels_anchors": false,
   "latex_user_defs": false,
   "report_style_numbering": false,
   "user_envs_cfg": false
  }
 },
 "nbformat": 4,
 "nbformat_minor": 5
}
