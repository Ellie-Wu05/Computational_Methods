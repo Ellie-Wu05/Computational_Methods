{
 "cells": [
  {
   "cell_type": "markdown",
   "id": "a645637c",
   "metadata": {},
   "source": [
    "# Problem Set 5"
   ]
  },
  {
   "cell_type": "code",
   "execution_count": 5,
   "id": "bd62e1ed",
   "metadata": {
    "ExecuteTime": {
     "end_time": "2022-05-04T16:20:49.266398Z",
     "start_time": "2022-05-04T16:20:49.235563Z"
    }
   },
   "outputs": [],
   "source": [
    "import numpy as np\n",
    "import matplotlib.pyplot as plt\n",
    "import seaborn as sns\n",
    "import pandas as pd\n",
    "from scipy.stats import norm\n",
    "from sklearn.linear_model import LinearRegression\n",
    "\n",
    "new_line = '\\n'\n",
    "pd.options.mode.chained_assignment = None \n",
    "import warnings\n",
    "warnings.filterwarnings('ignore')\n",
    "\n",
    "sns.set_style('darkgrid')\n",
    "sns.set(font_scale=1.5, rc={'text.usetex' : True,})\n",
    "%config InlineBackend.figure_format='retina'"
   ]
  },
  {
   "cell_type": "code",
   "execution_count": 102,
   "id": "3e814c2b",
   "metadata": {
    "ExecuteTime": {
     "end_time": "2022-05-04T17:51:07.434279Z",
     "start_time": "2022-05-04T17:51:07.426956Z"
    },
    "code_folding": [
     0
    ]
   },
   "outputs": [],
   "source": [
    "# def simulateGBM(s0, mu, sigma, paths, T, steps,antithetic_var = True):\n",
    "#     \"\"\"\n",
    "#     This simulation gives the same ST price\n",
    "#     \"\"\"\n",
    "#     dt = T/N\n",
    "#     if antithetic_var==True:\n",
    "#         sn = np.random.normal(0,1,size=(paths,int(steps/2)))\n",
    "#         sn = np.concatenate((sn,-sn), axis=1) \n",
    "#         dW = sn * np.sqrt(dt)\n",
    "#     else: \n",
    "#         dW = np.random.normal(0,1,size=(paths,int(steps/2))) * np.sqrt(dt)\n",
    "  \n",
    "#     St = np.zeros((paths,steps+1))\n",
    "#     St[:,0] = s0\n",
    "#     for i in range(0,steps):\n",
    "#         St[:,i+1] = St[:,i] * np.exp((mu - 1/2*(sigma**2))*dt + sigma*dW[:, i])\n",
    "    \n",
    "#     return St[:,1:]\n",
    "\n",
    "# simulateGBM(s0,0,sigma,10,1,10,antithetic_var=True)"
   ]
  },
  {
   "cell_type": "code",
   "execution_count": 139,
   "id": "707b5eea",
   "metadata": {
    "ExecuteTime": {
     "end_time": "2022-05-04T18:29:24.104291Z",
     "start_time": "2022-05-04T18:29:24.088326Z"
    },
    "code_folding": []
   },
   "outputs": [
    {
     "data": {
      "text/plain": [
       "array([[40.        , 44.06221044, 48.44649948, ..., 44.82055271,\n",
       "        50.50644405, 51.98901112],\n",
       "       [40.        , 37.71339114, 37.48757703, ..., 33.83300135,\n",
       "        33.64260463, 34.38015194],\n",
       "       [40.        , 39.08745094, 38.87216363, ..., 33.91704706,\n",
       "        32.19662811, 33.25921916],\n",
       "       ...,\n",
       "       [40.        , 44.53319056, 45.40498535, ..., 54.9740112 ,\n",
       "        55.90542569, 54.6882151 ],\n",
       "       [40.        , 41.24163239, 39.42361898, ..., 46.77833987,\n",
       "        37.39833052, 33.83534926],\n",
       "       [40.        , 39.5658766 , 40.09344047, ..., 35.63314472,\n",
       "        34.86241826, 37.48319002]])"
      ]
     },
     "execution_count": 139,
     "metadata": {},
     "output_type": "execute_result"
    }
   ],
   "source": [
    "def simulate_gbm(s0, mu, sigma, path, T, steps,antithetic_var=True):\n",
    "    \n",
    "    dt = T/steps\n",
    "    \n",
    "    if antithetic_var:\n",
    "        dW_ant = np.random.normal(scale = np.sqrt(dt), \n",
    "                                  size=(int(path/2), steps + 1))\n",
    "        dW = np.concatenate((dW_ant, -dW_ant), axis=0)\n",
    "    else: \n",
    "        dW = np.random.normal(scale = np.sqrt(dt), \n",
    "                              size=(path, steps + 1))\n",
    "  \n",
    "    St = s0 * np.exp(np.cumsum((mu - 0.5 * sigma ** 2) * dt + sigma * dW, \n",
    "                                 axis=1)) \n",
    "    St[:, 0] = s0\n",
    "    \n",
    "    return St\n",
    "\n",
    "simulate_gbm(s0=s0, mu=0, sigma=sigma, path=10, T=1, steps=10, antithetic_var=True)"
   ]
  },
  {
   "cell_type": "code",
   "execution_count": 112,
   "id": "843b2264",
   "metadata": {
    "ExecuteTime": {
     "end_time": "2022-05-04T18:13:27.305929Z",
     "start_time": "2022-05-04T18:13:27.280149Z"
    },
    "code_folding": [
     0,
     14,
     28,
     42
    ]
   },
   "outputs": [],
   "source": [
    "def laguerre(x,k):\n",
    "    x = np.array(x)\n",
    "    n = len(x)\n",
    "    \n",
    "    s1 = np.exp(-x/2)\n",
    "    s2 = np.exp(-x/2)*(1-x)\n",
    "    s3 = np.exp(-x/2)*(1-2*x+x**2/2)\n",
    "    s4 = np.exp(-x/2)*(1-3*x+3*x**2/2-x**3/6)\n",
    "    \n",
    "    if k==1: return s1\n",
    "    elif k==2: return np.array([s1,s2]).reshape(2,n)\n",
    "    elif k==3: return np.array([s1,s2,s3]).reshape(3,n)\n",
    "    elif k==4: return np.array([s1,s2,s3,s4]).reshape(4,n)\n",
    "    \n",
    "def hermite(x,k):\n",
    "    x = np.array(x)\n",
    "    n = len(x)\n",
    "    \n",
    "    s1 = [1] * n\n",
    "    s2 = 2*x\n",
    "    s3 = 4*x**2-2\n",
    "    s4 = 8*x**3-12*x\n",
    "    \n",
    "    if k==1: return s1\n",
    "    elif k==2: return np.array([s1,s2]).reshape(2,n)\n",
    "    elif k==3: return np.array([s1,s2,s3]).reshape(3,n)\n",
    "    elif k==4: return np.array([s1,s2,s3,s4]).reshape(4,n)\n",
    "    \n",
    "def monomials(x,k):\n",
    "    x = np.array(x)\n",
    "    n = len(x)\n",
    "    \n",
    "    s1 = [1] * n\n",
    "    s2 = x\n",
    "    s3 = x**2\n",
    "    s4 = x**3\n",
    "    \n",
    "    if k==1: return s1\n",
    "    elif k==2: return np.array([s1,s2]).reshape(2,n)\n",
    "    elif k==3: return np.array([s1,s2,s3]).reshape(3,n)\n",
    "    elif k==4: return np.array([s1,s2,s3,s4]).reshape(4,n)\n",
    "    \n",
    "def basis_function(x,k,method):\n",
    "    if method.lower() == 'laguerre':\n",
    "        return laguerre(x,k)\n",
    "    elif method.lower() =='hermite':\n",
    "        return hermite(x,k)\n",
    "    elif method.lower() == 'monomials':\n",
    "        return monomials(x,k)"
   ]
  },
  {
   "cell_type": "code",
   "execution_count": 137,
   "id": "68221ef9",
   "metadata": {
    "ExecuteTime": {
     "end_time": "2022-05-04T18:28:23.427609Z",
     "start_time": "2022-05-04T18:28:23.417439Z"
    }
   },
   "outputs": [
    {
     "data": {
      "text/plain": [
       "101.0"
      ]
     },
     "execution_count": 137,
     "metadata": {},
     "output_type": "execute_result"
    }
   ],
   "source": [
    "1/np.sqrt(10000)\n",
    "1/0.01 +1"
   ]
  },
  {
   "cell_type": "code",
   "execution_count": 134,
   "id": "ff7f7487",
   "metadata": {
    "ExecuteTime": {
     "end_time": "2022-05-04T18:27:32.570741Z",
     "start_time": "2022-05-04T18:27:32.555667Z"
    }
   },
   "outputs": [
    {
     "data": {
      "text/plain": [
       "array([[40.        , 37.27200647, 35.63200002, 35.651319  , 35.67931088,\n",
       "        33.44400625, 32.82200359, 35.44806943, 36.03520773, 33.91990896,\n",
       "        34.87801312],\n",
       "       [40.        , 38.84168358, 39.41396476, 34.96886241, 36.39877353,\n",
       "        37.85069912, 35.03958669, 37.47153736, 40.14826687, 36.23847554,\n",
       "        35.91966016],\n",
       "       [40.        , 41.89880824, 41.07577445, 40.62035361, 40.97986007,\n",
       "        40.62655402, 42.50900868, 39.97930346, 40.47959252, 37.32632752,\n",
       "        37.25774373],\n",
       "       [40.        , 38.99900922, 37.40480588, 39.29085027, 44.52611126,\n",
       "        43.85464645, 46.88153692, 46.40051665, 46.68024531, 44.21578151,\n",
       "        45.86831228],\n",
       "       [40.        , 35.49297834, 38.56358333, 41.71546557, 41.41960925,\n",
       "        41.27795273, 40.9483804 , 39.22945351, 40.32065681, 38.15296254,\n",
       "        40.81330272],\n",
       "       [40.        , 43.62002614, 45.9941768 , 46.33848213, 46.67403034,\n",
       "        50.19353949, 51.55554533, 48.11962585, 47.71579404, 51.09858374,\n",
       "        50.09405177],\n",
       "       [40.        , 41.85724579, 41.58080819, 47.24282961, 45.7514657 ,\n",
       "        44.34985582, 48.29270131, 45.52115974, 42.8274664 , 47.82925558,\n",
       "        48.6413565 ],\n",
       "       [40.        , 38.80315372, 39.89856626, 40.66995635, 40.63696742,\n",
       "        41.31960214, 39.80700436, 42.66577179, 42.4769234 , 46.43530247,\n",
       "        46.89443913],\n",
       "       [40.        , 41.68838977, 43.81427654, 42.04612517, 37.40046439,\n",
       "        38.27811154, 36.09430077, 36.76139753, 36.83460828, 39.20001522,\n",
       "        38.09124226],\n",
       "       [40.        , 45.8064094 , 42.49772369, 39.60229104, 40.20552749,\n",
       "        40.66754617, 41.32413242, 43.48130512, 42.64435867, 45.42921945,\n",
       "        42.80910582]])"
      ]
     },
     "execution_count": 134,
     "metadata": {},
     "output_type": "execute_result"
    }
   ],
   "source": [
    "def LCSM(s0,strike,T,r,sigma,N,k,steps):\n",
    "    dt =  T/N\n",
    "    St = simulate_gbm(s0=s0, mu=r, sigma=sigma, path=N, T=T, steps=steps, antithetic_var=True)   #/strike\n",
    "    return St\n",
    "\n",
    "\n",
    "\n",
    "\n",
    "\n",
    "LCSM(s0=s0,r=rf, sigma=sigma, N=10, T=1, steps=10,strike=40,k=2)"
   ]
  },
  {
   "cell_type": "markdown",
   "id": "3b2b73cb",
   "metadata": {},
   "source": [
    "## 1"
   ]
  },
  {
   "cell_type": "code",
   "execution_count": 113,
   "id": "fffe41ff",
   "metadata": {
    "ExecuteTime": {
     "end_time": "2022-05-04T18:13:46.422532Z",
     "start_time": "2022-05-04T18:13:46.413681Z"
    }
   },
   "outputs": [],
   "source": [
    "s0 = 40\n",
    "sigma = 0.2\n",
    "rf = 0.06\n",
    "N = 100000\n",
    "strike = 40\n",
    "T = [0.5,1,2]\n",
    "k = [2,3,4]"
   ]
  },
  {
   "cell_type": "markdown",
   "id": "20b7162f",
   "metadata": {},
   "source": [
    "### (a) Laguerre Polynomials"
   ]
  },
  {
   "cell_type": "code",
   "execution_count": 7,
   "id": "2cb5676e",
   "metadata": {
    "ExecuteTime": {
     "end_time": "2022-05-04T16:24:05.847478Z",
     "start_time": "2022-05-04T16:24:05.843080Z"
    }
   },
   "outputs": [],
   "source": [
    "\n",
    "\n"
   ]
  },
  {
   "cell_type": "code",
   "execution_count": null,
   "id": "8d9118a0",
   "metadata": {},
   "outputs": [],
   "source": []
  },
  {
   "cell_type": "markdown",
   "id": "0b7db32c",
   "metadata": {},
   "source": [
    "### (b) Hermite Polynomials"
   ]
  },
  {
   "cell_type": "code",
   "execution_count": null,
   "id": "1a542fc8",
   "metadata": {},
   "outputs": [],
   "source": []
  },
  {
   "cell_type": "code",
   "execution_count": null,
   "id": "995f30b5",
   "metadata": {},
   "outputs": [],
   "source": []
  },
  {
   "cell_type": "markdown",
   "id": "36afe0f9",
   "metadata": {},
   "source": [
    "### (c) Simple Monomials"
   ]
  },
  {
   "cell_type": "code",
   "execution_count": null,
   "id": "e6d46ed1",
   "metadata": {},
   "outputs": [],
   "source": []
  },
  {
   "cell_type": "code",
   "execution_count": null,
   "id": "614fbc8b",
   "metadata": {},
   "outputs": [],
   "source": []
  },
  {
   "cell_type": "markdown",
   "id": "900f59d6",
   "metadata": {},
   "source": [
    "### (d)"
   ]
  },
  {
   "cell_type": "code",
   "execution_count": null,
   "id": "2fd242c1",
   "metadata": {},
   "outputs": [],
   "source": []
  },
  {
   "cell_type": "code",
   "execution_count": null,
   "id": "d964644e",
   "metadata": {},
   "outputs": [],
   "source": []
  }
 ],
 "metadata": {
  "kernelspec": {
   "display_name": "Python 3 (ipykernel)",
   "language": "python",
   "name": "python3"
  },
  "language_info": {
   "codemirror_mode": {
    "name": "ipython",
    "version": 3
   },
   "file_extension": ".py",
   "mimetype": "text/x-python",
   "name": "python",
   "nbconvert_exporter": "python",
   "pygments_lexer": "ipython3",
   "version": "3.9.7"
  },
  "latex_envs": {
   "LaTeX_envs_menu_present": true,
   "autoclose": false,
   "autocomplete": true,
   "bibliofile": "biblio.bib",
   "cite_by": "apalike",
   "current_citInitial": 1,
   "eqLabelWithNumbers": true,
   "eqNumInitial": 1,
   "hotkeys": {
    "equation": "Ctrl-E",
    "itemize": "Ctrl-I"
   },
   "labels_anchors": false,
   "latex_user_defs": false,
   "report_style_numbering": false,
   "user_envs_cfg": false
  }
 },
 "nbformat": 4,
 "nbformat_minor": 5
}
