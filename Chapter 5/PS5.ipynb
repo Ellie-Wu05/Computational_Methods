{
 "cells": [
  {
   "cell_type": "markdown",
   "id": "da3b6596",
   "metadata": {},
   "source": [
    "# Problem Set 5"
   ]
  },
  {
   "cell_type": "code",
   "execution_count": 5,
   "id": "ca535dbf",
   "metadata": {
    "ExecuteTime": {
     "end_time": "2022-05-06T01:11:33.414187Z",
     "start_time": "2022-05-06T01:11:33.388715Z"
    }
   },
   "outputs": [],
   "source": [
    "import numpy as np\n",
    "import matplotlib.pyplot as plt\n",
    "import seaborn as sns\n",
    "import pandas as pd\n",
    "from scipy.stats import norm\n",
    "from sklearn.linear_model import LinearRegression\n",
    "\n",
    "new_line = '\\n'\n",
    "pd.options.mode.chained_assignment = None \n",
    "import warnings\n",
    "warnings.filterwarnings('ignore')\n",
    "\n",
    "sns.set_style('darkgrid')\n",
    "sns.set(font_scale=1.5, rc={'text.usetex' : True,})\n",
    "%config InlineBackend.figure_format='retina'"
   ]
  },
  {
   "cell_type": "code",
   "execution_count": 1,
   "id": "d60dfa53",
   "metadata": {
    "ExecuteTime": {
     "end_time": "2022-06-08T07:21:03.207040Z",
     "start_time": "2022-06-08T07:21:03.194630Z"
    },
    "code_folding": []
   },
   "outputs": [],
   "source": [
    "# simulate stock prices with antithetic variables to reduce variance\n",
    "def simulate_gbm(s_0, mu, sigma, n_sims, T, antithetic_var=False):\n",
    "    \n",
    "    \"\"\"\n",
    "    simulation of stock prices with antithetic variables to reduce variance\n",
    "    \"\"\"\n",
    "    \n",
    "    dt = 1/np.sqrt(n_sims)\n",
    "    step = int(T/dt)\n",
    "    \n",
    "    # Antithetic variables\n",
    "    if antithetic_var:\n",
    "        dW_ant = np.random.normal(scale = np.sqrt(dt), \n",
    "                                  size=(int(n_sims/2), step + 1))\n",
    "        dW = np.concatenate((dW_ant, -dW_ant), axis=0)\n",
    "    else: \n",
    "        dW = np.random.normal(scale = np.sqrt(dt), \n",
    "                              size=(n_sims, step + 1))\n",
    "  \n",
    "    St = np.zeros((n_sims, step + 1))\n",
    "    St[:, 0] = s_0\n",
    "    \n",
    "    for i in range (1, step + 1):\n",
    "        St[:, i] = St[:, i - 1]*np.exp((mu - 1/2*np.power(sigma, 2))*dt + sigma*dW[:, i - 1])\n",
    "    \n",
    "    return St\n"
   ]
  },
  {
   "cell_type": "code",
   "execution_count": 16,
   "id": "b6d6eea3",
   "metadata": {
    "ExecuteTime": {
     "end_time": "2022-05-06T01:12:45.240161Z",
     "start_time": "2022-05-06T01:12:45.217352Z"
    },
    "code_folding": [
     1,
     15,
     29,
     43
    ]
   },
   "outputs": [],
   "source": [
    "# Polynomials function\n",
    "def laguerre(x,k):\n",
    "    x = np.array(x)\n",
    "    n = len(x)\n",
    "    \n",
    "    s1 = np.exp(-x/2)\n",
    "    s2 = np.exp(-x/2)*(1-x)\n",
    "    s3 = np.exp(-x/2)*(1-2*x+x**2/2)\n",
    "    s4 = np.exp(-x/2)*(1-3*x+3*x**2/2-x**3/6)\n",
    "    \n",
    "    if k==1: return s1\n",
    "    elif k==2: return np.array([s1,s2]).reshape(2,n)\n",
    "    elif k==3: return np.array([s1,s2,s3]).reshape(3,n)\n",
    "    elif k==4: return np.array([s1,s2,s3,s4]).reshape(4,n)\n",
    "    \n",
    "def hermite(x,k):\n",
    "    x = np.array(x)\n",
    "    n = len(x)\n",
    "    \n",
    "    s1 = [1] * n\n",
    "    s2 = 2*x\n",
    "    s3 = 4*x**2-2\n",
    "    s4 = 8*x**3-12*x\n",
    "    \n",
    "    if k==1: return s1\n",
    "    elif k==2: return np.array([s1,s2]).reshape(2,n)\n",
    "    elif k==3: return np.array([s1,s2,s3]).reshape(3,n)\n",
    "    elif k==4: return np.array([s1,s2,s3,s4]).reshape(4,n)\n",
    "    \n",
    "def monomials(x,k):\n",
    "    x = np.array(x)\n",
    "    n = len(x)\n",
    "    \n",
    "    s1 = [1] * n\n",
    "    s2 = x\n",
    "    s3 = x**2\n",
    "    s4 = x**3\n",
    "    \n",
    "    if k==1: return s1\n",
    "    elif k==2: return np.array([s1,s2]).reshape(2,n)\n",
    "    elif k==3: return np.array([s1,s2,s3]).reshape(3,n)\n",
    "    elif k==4: return np.array([s1,s2,s3,s4]).reshape(4,n)\n",
    "    \n",
    "def basis_function(x,k,method):\n",
    "    if method.lower() == 'laguerre':\n",
    "        return laguerre(x,k)\n",
    "    elif method.lower() =='hermite':\n",
    "        return hermite(x,k)\n",
    "    elif method.lower() == 'monomials':\n",
    "        return monomials(x,k)\n"
   ]
  },
  {
   "cell_type": "code",
   "execution_count": 67,
   "id": "841d7284",
   "metadata": {
    "ExecuteTime": {
     "end_time": "2022-05-06T01:59:03.297239Z",
     "start_time": "2022-05-06T01:59:03.279238Z"
    },
    "code_folding": []
   },
   "outputs": [],
   "source": [
    "def LCSM(s0,strike,T,r,sigma,path,k,method):\n",
    "    \"\"\"\n",
    "    Least-Square Monte Carlo Function\n",
    "    Method: function of choosing polynomials in ['laguerre','hermite','monomials']\n",
    "    \"\"\"\n",
    "    dt = 1/np.sqrt(path)\n",
    "    step = int(T/dt)\n",
    "    disc = np.exp(-r*dt)\n",
    "    \n",
    "    # scale stock price by strike price\n",
    "    St = simulate_gbm(s_0=s0,mu=r,sigma=sigma,n_sims=path,T=T,antithetic_var=True)/strike\n",
    "    # cashflow matrix\n",
    "    payoff_matrix = np.maximum(1 - St, np.zeros_like(St))\n",
    "    # continuation matrix\n",
    "    value_matrix = np.zeros_like(payoff_matrix)\n",
    "    value_matrix[:, -1] = payoff_matrix[:, -1]\n",
    "    \n",
    "    for i in range(step - 1, 0 , -1):\n",
    "\n",
    "        X = St[:,i]\n",
    "        y = value_matrix[:,i+1]*disc\n",
    "        \n",
    "        X = basis_function(X,k,method)\n",
    "        A = np.dot(X,X.T)\n",
    "        b = np.dot(X,y)\n",
    "        \n",
    "        # find coefficients\n",
    "        coef = np.dot(np.linalg.inv(A), b)\n",
    "        # calculate continuation value with coefficients\n",
    "        continuation_value = np.dot(X.T,coef)\n",
    "    \n",
    "        value_matrix[:, i] = np.where(\n",
    "            payoff_matrix[:, i] > continuation_value,\n",
    "            payoff_matrix[:, i],\n",
    "            value_matrix[:, i + 1] * disc\n",
    "        )\n",
    "    \n",
    "    \n",
    "    option = np.mean(value_matrix[:, 1] * disc)* strike\n",
    "    \n",
    "    return option\n",
    "\n",
    "# LCSM(s0=40,r=0.06, sigma=0.2, path=10,T=2,strike=40,k=4,method=\"monomials\")"
   ]
  },
  {
   "cell_type": "code",
   "execution_count": 37,
   "id": "33c6f610",
   "metadata": {
    "ExecuteTime": {
     "end_time": "2022-05-06T01:16:23.975337Z",
     "start_time": "2022-05-06T01:16:23.970731Z"
    }
   },
   "outputs": [],
   "source": [
    "s0 = 40\n",
    "sigma = 0.2\n",
    "rf = 0.06\n",
    "N = 100000\n",
    "strike = 40\n",
    "T = [0.5,1,2]\n",
    "k = [2,3,4]"
   ]
  },
  {
   "cell_type": "markdown",
   "id": "984b95ca",
   "metadata": {
    "heading_collapsed": true
   },
   "source": [
    "### (a) Laguerre Polynomials"
   ]
  },
  {
   "cell_type": "code",
   "execution_count": 38,
   "id": "35570800",
   "metadata": {
    "ExecuteTime": {
     "end_time": "2022-05-06T01:17:23.663659Z",
     "start_time": "2022-05-06T01:16:25.668718Z"
    },
    "hidden": true
   },
   "outputs": [],
   "source": [
    "a_2 = []\n",
    "for t in T:\n",
    "    price = LCSM(s0=s0,strike=strike,T=t,r=rf,sigma=sigma,path=N,k=2,method='laguerre')\n",
    "    a_2.append(price)\n",
    "a_3 = []\n",
    "for t in T:\n",
    "    price = LCSM(s0=s0,strike=strike,T=t,r=rf,sigma=sigma,path=N,k=3,method='laguerre')\n",
    "    a_3.append(price)\n",
    "a_4 = []\n",
    "for t in T:\n",
    "    price = LCSM(s0=s0,strike=strike,T=t,r=rf,sigma=sigma,path=N,k=4,method='laguerre')\n",
    "    a_4.append(price)"
   ]
  },
  {
   "cell_type": "code",
   "execution_count": 39,
   "id": "c87a459a",
   "metadata": {
    "ExecuteTime": {
     "end_time": "2022-05-06T01:17:23.680348Z",
     "start_time": "2022-05-06T01:17:23.667594Z"
    },
    "hidden": true
   },
   "outputs": [
    {
     "data": {
      "text/html": [
       "<div>\n",
       "<style scoped>\n",
       "    .dataframe tbody tr th:only-of-type {\n",
       "        vertical-align: middle;\n",
       "    }\n",
       "\n",
       "    .dataframe tbody tr th {\n",
       "        vertical-align: top;\n",
       "    }\n",
       "\n",
       "    .dataframe thead th {\n",
       "        text-align: right;\n",
       "    }\n",
       "</style>\n",
       "<table border=\"1\" class=\"dataframe\">\n",
       "  <thead>\n",
       "    <tr style=\"text-align: right;\">\n",
       "      <th></th>\n",
       "      <th>K=2</th>\n",
       "      <th>K=3</th>\n",
       "      <th>K=4</th>\n",
       "    </tr>\n",
       "  </thead>\n",
       "  <tbody>\n",
       "    <tr>\n",
       "      <th>T=0.5</th>\n",
       "      <td>1.585069</td>\n",
       "      <td>1.702291</td>\n",
       "      <td>1.723197</td>\n",
       "    </tr>\n",
       "    <tr>\n",
       "      <th>T=1</th>\n",
       "      <td>2.018832</td>\n",
       "      <td>2.169624</td>\n",
       "      <td>2.216167</td>\n",
       "    </tr>\n",
       "    <tr>\n",
       "      <th>T=2</th>\n",
       "      <td>2.485110</td>\n",
       "      <td>2.643543</td>\n",
       "      <td>2.750408</td>\n",
       "    </tr>\n",
       "  </tbody>\n",
       "</table>\n",
       "</div>"
      ],
      "text/plain": [
       "            K=2       K=3       K=4\n",
       "T=0.5  1.585069  1.702291  1.723197\n",
       "T=1    2.018832  2.169624  2.216167\n",
       "T=2    2.485110  2.643543  2.750408"
      ]
     },
     "execution_count": 39,
     "metadata": {},
     "output_type": "execute_result"
    }
   ],
   "source": [
    "answer_a = pd.DataFrame(list(zip(a_2,a_3,a_4)))\n",
    "answer_a.index=['T=0.5','T=1','T=2']\n",
    "answer_a.columns = ['K=2','K=3','K=4']\n",
    "answer_a"
   ]
  },
  {
   "cell_type": "markdown",
   "id": "078df7e3",
   "metadata": {
    "heading_collapsed": true
   },
   "source": [
    "### (b) Hermite Polynomials"
   ]
  },
  {
   "cell_type": "code",
   "execution_count": 40,
   "id": "62ac7f97",
   "metadata": {
    "ExecuteTime": {
     "end_time": "2022-05-06T01:18:46.772784Z",
     "start_time": "2022-05-06T01:17:36.618966Z"
    },
    "hidden": true
   },
   "outputs": [],
   "source": [
    "b_2 = []\n",
    "for t in T:\n",
    "    price = LCSM(s0=s0,strike=strike,T=t,r=rf,sigma=sigma,path=N,k=2,method='hermite')\n",
    "    b_2.append(price)\n",
    "b_3 = []\n",
    "for t in T:\n",
    "    price = LCSM(s0=s0,strike=strike,T=t,r=rf,sigma=sigma,path=N,k=3,method='hermite')\n",
    "    b_3.append(price)\n",
    "b_4 = []\n",
    "for t in T:\n",
    "    price = LCSM(s0=s0,strike=strike,T=t,r=rf,sigma=sigma,path=N,k=4,method='hermite')\n",
    "    b_4.append(price)"
   ]
  },
  {
   "cell_type": "code",
   "execution_count": 41,
   "id": "3f7323a0",
   "metadata": {
    "ExecuteTime": {
     "end_time": "2022-05-06T01:18:46.789127Z",
     "start_time": "2022-05-06T01:18:46.778488Z"
    },
    "hidden": true
   },
   "outputs": [
    {
     "data": {
      "text/html": [
       "<div>\n",
       "<style scoped>\n",
       "    .dataframe tbody tr th:only-of-type {\n",
       "        vertical-align: middle;\n",
       "    }\n",
       "\n",
       "    .dataframe tbody tr th {\n",
       "        vertical-align: top;\n",
       "    }\n",
       "\n",
       "    .dataframe thead th {\n",
       "        text-align: right;\n",
       "    }\n",
       "</style>\n",
       "<table border=\"1\" class=\"dataframe\">\n",
       "  <thead>\n",
       "    <tr style=\"text-align: right;\">\n",
       "      <th></th>\n",
       "      <th>K=2</th>\n",
       "      <th>K=3</th>\n",
       "      <th>K=4</th>\n",
       "    </tr>\n",
       "  </thead>\n",
       "  <tbody>\n",
       "    <tr>\n",
       "      <th>T=0.5</th>\n",
       "      <td>1.572054</td>\n",
       "      <td>1.681312</td>\n",
       "      <td>1.726638</td>\n",
       "    </tr>\n",
       "    <tr>\n",
       "      <th>T=1</th>\n",
       "      <td>1.995157</td>\n",
       "      <td>2.120473</td>\n",
       "      <td>2.220375</td>\n",
       "    </tr>\n",
       "    <tr>\n",
       "      <th>T=2</th>\n",
       "      <td>2.448517</td>\n",
       "      <td>2.577618</td>\n",
       "      <td>2.729778</td>\n",
       "    </tr>\n",
       "  </tbody>\n",
       "</table>\n",
       "</div>"
      ],
      "text/plain": [
       "            K=2       K=3       K=4\n",
       "T=0.5  1.572054  1.681312  1.726638\n",
       "T=1    1.995157  2.120473  2.220375\n",
       "T=2    2.448517  2.577618  2.729778"
      ]
     },
     "execution_count": 41,
     "metadata": {},
     "output_type": "execute_result"
    }
   ],
   "source": [
    "answer_b = pd.DataFrame(list(zip(b_2,b_3,b_4)))\n",
    "answer_b.index=['T=0.5','T=1','T=2']\n",
    "answer_b.columns = ['K=2','K=3','K=4']\n",
    "answer_b"
   ]
  },
  {
   "cell_type": "markdown",
   "id": "80cdf34b",
   "metadata": {
    "heading_collapsed": true
   },
   "source": [
    "### (c) Simple Monomials"
   ]
  },
  {
   "cell_type": "code",
   "execution_count": 42,
   "id": "354ee5da",
   "metadata": {
    "ExecuteTime": {
     "end_time": "2022-05-06T01:19:57.339324Z",
     "start_time": "2022-05-06T01:18:46.790584Z"
    },
    "hidden": true
   },
   "outputs": [],
   "source": [
    "c_2 = []\n",
    "for t in T:\n",
    "    price = LCSM(s0=s0,strike=strike,T=t,r=rf,sigma=sigma,path=N,k=2,method='monomials')\n",
    "    c_2.append(price)\n",
    "c_3 = []\n",
    "for t in T:\n",
    "    price = LCSM(s0=s0,strike=strike,T=t,r=rf,sigma=sigma,path=N,k=3,method='monomials')\n",
    "    c_3.append(price)\n",
    "c_4 = []\n",
    "for t in T:\n",
    "    price = LCSM(s0=s0,strike=strike,T=t,r=rf,sigma=sigma,path=N,k=4,method='monomials')\n",
    "    c_4.append(price)"
   ]
  },
  {
   "cell_type": "code",
   "execution_count": 43,
   "id": "c50d26aa",
   "metadata": {
    "ExecuteTime": {
     "end_time": "2022-05-06T01:19:57.359535Z",
     "start_time": "2022-05-06T01:19:57.344882Z"
    },
    "hidden": true
   },
   "outputs": [
    {
     "data": {
      "text/html": [
       "<div>\n",
       "<style scoped>\n",
       "    .dataframe tbody tr th:only-of-type {\n",
       "        vertical-align: middle;\n",
       "    }\n",
       "\n",
       "    .dataframe tbody tr th {\n",
       "        vertical-align: top;\n",
       "    }\n",
       "\n",
       "    .dataframe thead th {\n",
       "        text-align: right;\n",
       "    }\n",
       "</style>\n",
       "<table border=\"1\" class=\"dataframe\">\n",
       "  <thead>\n",
       "    <tr style=\"text-align: right;\">\n",
       "      <th></th>\n",
       "      <th>K=2</th>\n",
       "      <th>K=3</th>\n",
       "      <th>K=4</th>\n",
       "    </tr>\n",
       "  </thead>\n",
       "  <tbody>\n",
       "    <tr>\n",
       "      <th>T=0.5</th>\n",
       "      <td>1.586788</td>\n",
       "      <td>1.677614</td>\n",
       "      <td>1.726501</td>\n",
       "    </tr>\n",
       "    <tr>\n",
       "      <th>T=1</th>\n",
       "      <td>1.998103</td>\n",
       "      <td>2.127337</td>\n",
       "      <td>2.225514</td>\n",
       "    </tr>\n",
       "    <tr>\n",
       "      <th>T=2</th>\n",
       "      <td>2.469076</td>\n",
       "      <td>2.567499</td>\n",
       "      <td>2.716316</td>\n",
       "    </tr>\n",
       "  </tbody>\n",
       "</table>\n",
       "</div>"
      ],
      "text/plain": [
       "            K=2       K=3       K=4\n",
       "T=0.5  1.586788  1.677614  1.726501\n",
       "T=1    1.998103  2.127337  2.225514\n",
       "T=2    2.469076  2.567499  2.716316"
      ]
     },
     "execution_count": 43,
     "metadata": {},
     "output_type": "execute_result"
    }
   ],
   "source": [
    "answer_c = pd.DataFrame(list(zip(c_2,c_3,c_4)))\n",
    "answer_c.index=['T=0.5','T=1','T=2']\n",
    "answer_c.columns = ['K=2','K=3','K=4']\n",
    "answer_c"
   ]
  },
  {
   "cell_type": "markdown",
   "id": "c9868262",
   "metadata": {},
   "source": [
    "### (d)"
   ]
  },
  {
   "cell_type": "code",
   "execution_count": 54,
   "id": "0867918d",
   "metadata": {
    "ExecuteTime": {
     "end_time": "2022-05-06T01:44:04.871416Z",
     "start_time": "2022-05-06T01:44:04.834529Z"
    },
    "code_folding": [
     0,
     22
    ]
   },
   "outputs": [],
   "source": [
    "def parameters(r,sigma,N,T,formula):\n",
    "    dt = T/N\n",
    "    if formula == 'a':\n",
    "        c = 0.5 * (np.exp(-r*dt) + np.exp( (r+sigma**2)*dt) )\n",
    "        d = c - np.sqrt(c**2 -1)\n",
    "        u = 1/d\n",
    "        p = (np.exp(r*dt) -d) / (u-d)\n",
    "    elif formula == 'b':\n",
    "        u = np.exp(r*dt)*(1+np.sqrt(np.exp(sigma**2*dt)-1))\n",
    "        d = np.exp(r*dt)*(1-np.sqrt(np.exp(sigma**2*dt)-1))\n",
    "        p = 0.5\n",
    "    elif formula =='c':\n",
    "        u = np.exp((r-sigma**2/2)*dt + sigma*np.sqrt(dt))\n",
    "        d = np.exp((r-sigma**2/2)*dt - sigma*np.sqrt(dt))\n",
    "        p=0.5\n",
    "    elif formula =='d':\n",
    "        u = np.exp(sigma*np.sqrt(dt))\n",
    "        d = np.exp(-sigma*np.sqrt(dt))\n",
    "        p = 1/2 + 1/2*((r-sigma**2/2)*np.sqrt(dt))/sigma\n",
    "    \n",
    "    return u, d, p, N\n",
    "\n",
    "def binoAmer_fast(s0,N,k,r,T,sigma,option_type,formula):\n",
    "    dt = T/N\n",
    "    params = parameters(r,sigma,N,T,formula)\n",
    "    u = params[0]\n",
    "    d = params[1]\n",
    "    p = params[2]\n",
    "    disc = np.exp(-r*dt)\n",
    "    \n",
    "    S = s0* u**np.arange(0,N+1,1)*d**np.arange(N,-1,-1)       # stock prices at last step\n",
    "\n",
    "    if option_type.lower()=='c':\n",
    "        C = np.maximum(0,S - k)\n",
    "    else:\n",
    "        C = np.maximum(0,k - S)\n",
    "   \n",
    "    for i in np.arange(N-1,-1,-1):\n",
    "        S = s0* u**np.arange(0,i+1,1)*d**np.arange(i,-1,-1)\n",
    "   \n",
    "        C[:i+1] = disc * (p * C[1:i+2] + (1-p)* C[0:i+1])\n",
    "   \n",
    "        C = C[:-1]\n",
    "       \n",
    "        if option_type.lower()=='c':\n",
    "            C = np.maximum(C,S - k)\n",
    "        else:\n",
    "            C = np.maximum(C,k - S)\n",
    "        \n",
    "    return C[0]"
   ]
  },
  {
   "cell_type": "code",
   "execution_count": 64,
   "id": "316cad66",
   "metadata": {
    "ExecuteTime": {
     "end_time": "2022-05-06T01:51:17.186924Z",
     "start_time": "2022-05-06T01:51:17.153280Z"
    },
    "code_folding": []
   },
   "outputs": [],
   "source": [
    "# compare to binomial prices \n",
    "binoPrice = []\n",
    "for t in T:\n",
    "    price = binoAmer_fast(s0=s0,N=158,k=strike,r=rf,T=t,sigma=sigma,option_type='put',formula='c')\n",
    "    binoPrice.append(price)"
   ]
  },
  {
   "cell_type": "code",
   "execution_count": 65,
   "id": "3e137eb3",
   "metadata": {
    "ExecuteTime": {
     "end_time": "2022-05-06T01:51:17.430434Z",
     "start_time": "2022-05-06T01:51:17.415767Z"
    }
   },
   "outputs": [
    {
     "data": {
      "text/html": [
       "<div>\n",
       "<style scoped>\n",
       "    .dataframe tbody tr th:only-of-type {\n",
       "        vertical-align: middle;\n",
       "    }\n",
       "\n",
       "    .dataframe tbody tr th {\n",
       "        vertical-align: top;\n",
       "    }\n",
       "\n",
       "    .dataframe thead th {\n",
       "        text-align: right;\n",
       "    }\n",
       "</style>\n",
       "<table border=\"1\" class=\"dataframe\">\n",
       "  <thead>\n",
       "    <tr style=\"text-align: right;\">\n",
       "      <th></th>\n",
       "      <th>Price</th>\n",
       "    </tr>\n",
       "  </thead>\n",
       "  <tbody>\n",
       "    <tr>\n",
       "      <th>T=0.5</th>\n",
       "      <td>1.797425</td>\n",
       "    </tr>\n",
       "    <tr>\n",
       "      <th>T=1</th>\n",
       "      <td>2.320763</td>\n",
       "    </tr>\n",
       "    <tr>\n",
       "      <th>T=2</th>\n",
       "      <td>2.890038</td>\n",
       "    </tr>\n",
       "  </tbody>\n",
       "</table>\n",
       "</div>"
      ],
      "text/plain": [
       "          Price\n",
       "T=0.5  1.797425\n",
       "T=1    2.320763\n",
       "T=2    2.890038"
      ]
     },
     "execution_count": 65,
     "metadata": {},
     "output_type": "execute_result"
    }
   ],
   "source": [
    "binop = pd.DataFrame(binoPrice,index=['T=0.5','T=1','T=2'],columns=['Price'])\n",
    "binop"
   ]
  },
  {
   "cell_type": "code",
   "execution_count": 45,
   "id": "f38a04b6",
   "metadata": {
    "ExecuteTime": {
     "end_time": "2022-05-06T01:19:58.248054Z",
     "start_time": "2022-05-06T01:19:57.366842Z"
    }
   },
   "outputs": [
    {
     "data": {
      "image/png": "[encoded data removed]",
      "text/plain": [
       "<Figure size 432x288 with 1 Axes>"
      ]
     },
     "metadata": {
      "image/png": {
       "height": 274,
       "width": 387
      }
     },
     "output_type": "display_data"
    }
   ],
   "source": [
    "plt.figure()\n",
    "\n",
    "plt.plot(answer_a)\n",
    "plt.legend(answer_a.columns)\n",
    "plt.title('Laguerre Polynomials')\n",
    "plt.show()"
   ]
  },
  {
   "cell_type": "code",
   "execution_count": 46,
   "id": "6da36727",
   "metadata": {
    "ExecuteTime": {
     "end_time": "2022-05-06T01:19:58.350051Z",
     "start_time": "2022-05-06T01:19:58.249494Z"
    }
   },
   "outputs": [
    {
     "data": {
      "image/png": "[encoded data removed]",
      "text/plain": [
       "<Figure size 432x288 with 1 Axes>"
      ]
     },
     "metadata": {
      "image/png": {
       "height": 274,
       "width": 387
      }
     },
     "output_type": "display_data"
    }
   ],
   "source": [
    "plt.figure()\n",
    "\n",
    "plt.plot(answer_b)\n",
    "plt.legend(answer_b.columns)\n",
    "plt.title('Hermite Polynomials')\n",
    "\n",
    "plt.show()"
   ]
  },
  {
   "cell_type": "code",
   "execution_count": 47,
   "id": "f10af6c6",
   "metadata": {
    "ExecuteTime": {
     "end_time": "2022-05-06T01:19:58.449835Z",
     "start_time": "2022-05-06T01:19:58.351214Z"
    }
   },
   "outputs": [
    {
     "data": {
      "image/png": "[encoded data removed]",
      "text/plain": [
       "<Figure size 432x288 with 1 Axes>"
      ]
     },
     "metadata": {
      "image/png": {
       "height": 274,
       "width": 387
      }
     },
     "output_type": "display_data"
    }
   ],
   "source": [
    "plt.figure()\n",
    "\n",
    "plt.plot(answer_c)\n",
    "plt.legend(answer_c.columns)\n",
    "plt.title('Simple Monomials')\n",
    "plt.show()"
   ]
  },
  {
   "cell_type": "code",
   "execution_count": 17,
   "id": "233cd600",
   "metadata": {
    "ExecuteTime": {
     "end_time": "2022-05-06T01:12:45.461066Z",
     "start_time": "2022-05-06T01:12:45.450942Z"
    },
    "code_folding": [
     0
    ]
   },
   "outputs": [],
   "source": [
    "# ## class material example\n",
    "# k=97.5\n",
    "# r =0.05\n",
    "# dt = 3/3\n",
    "# disc = np.exp(-r*dt)\n",
    "# path = 10\n",
    "# step = 3\n",
    "# ss = np.array([[100,92.8,108.8,121.11],\n",
    "#              [100,100.1,94.2,92.1],\n",
    "#               [100,98.87,93.11,97.8],\n",
    "#               [100,96.34,93.11,90.36],\n",
    "#               [100,102.14,100.05,96.43],\n",
    "#               [100,98.3,110.21,99.2],\n",
    "#               [100,102.87,120.1,128.43],\n",
    "#               [100,110.21,98.2,94.5],\n",
    "#               [100,89.87,93.8,90],\n",
    "#               [100,86.12,90.21,98.34]])\n",
    "# # 0: do nothing, 1: exercise\n",
    "# payoff = np.zeros_like(ss)\n",
    "# payoff= np.maximum(k -ss,np.zeros_like(ss))\n",
    "# index = np.zeros_like(ss)\n",
    "# index[:,step] = np.where(k > ss[:,step],1,0)\n",
    "# continue_matrix = np.zeros_like(payoff)\n",
    "# continue_matrix[:,step] = payoff[:,step]\n",
    "\n",
    "\n",
    "# for i in range(step-1,0,-1):\n",
    "    \n",
    "#     in_the_money_path = np.where(payoff[:,i]*disc >0)[0]\n",
    "#     X = ss[in_the_money_path,i]\n",
    "#     y = continue_matrix[in_the_money_path,i+1]*disc\n",
    "    \n",
    "#     X = basis_function(X,3,method='hermite')\n",
    "#     A = np.dot(X,X.T)\n",
    "#     b = np.dot(X,y)\n",
    "#     coef = np.dot(np.linalg.inv(A), b)\n",
    "    \n",
    "#     continue_matrix[in_the_money_path,i] = np.dot(X.T,coef)\n",
    "#     exercise_value = payoff[in_the_money_path,i]\n",
    "   \n",
    "#     index[in_the_money_path,i] = np.where(exercise_value>continue_matrix[in_the_money_path,i],1,0)\n",
    "#     continue_matrix[in_the_money_path,i] = np.maximum(exercise_value,continue_matrix[in_the_money_path,i])\n",
    "    \n",
    "# #     for j in range(path):\n",
    "# #         if index[j,i] ==1:\n",
    "# #             index[j,i+1:] = 0\n",
    "            \n",
    "#     continue_matrix[in_the_money_path,i+1] *= index[in_the_money_path,i+1]\n",
    "   \n",
    "#     continue_matrix[:,i] = np.maximum(disc* continue_matrix[:,i+1],continue_matrix[:,i])\n",
    "\n",
    "#     for j in range(path):\n",
    "#         if index[j,i] ==1:\n",
    "#             index[j,i+1:] = 0\n",
    "    \n",
    "# optimal_matrix = np.ones_like(payoff) * index * payoff\n",
    "# dt_array = np.exp(-r*dt*np.arange(1,step+1,1))\n",
    "# avg_payoff = np.sum(optimal_matrix,axis=0)[1:] # exclude the initial price\n",
    "# option_price = np.dot(avg_payoff,dt_array)/path\n",
    "\n",
    "# # print(f\"option price: {option_price} {new_line} \\\n",
    "# #       index matrix : {new_line} {index} {new_line}  \\\n",
    "# #       optimal exercise decision{new_line} {optimal_matrix}\")\n"
   ]
  },
  {
   "cell_type": "code",
   "execution_count": 25,
   "id": "bf634219",
   "metadata": {
    "ExecuteTime": {
     "end_time": "2022-05-06T01:14:18.665115Z",
     "start_time": "2022-05-06T01:14:18.647537Z"
    },
    "code_folding": [
     0
    ]
   },
   "outputs": [],
   "source": [
    "# def LCSM(s0,strike,T,r,sigma,path,k,method):\n",
    "    \n",
    "#     dt = 1/np.sqrt(path)\n",
    "#     step = int(T/dt)\n",
    "#     disc = np.exp(-r*dt)\n",
    "    \n",
    "#     St = simulate_gbm(s_0=s0,mu=r,sigma=sigma,n_sims=path,T=T,antithetic_var=True)/strike\n",
    "    \n",
    "#     payoff_matrix = np.maximum(1 - St, np.zeros_like(St))\n",
    "    \n",
    "#     index_matrix = np.zeros_like(payoff_matrix)\n",
    "#     index_matrix[:,-1] = np.where(payoff_matrix[:,-1]>0,1,0)\n",
    "    \n",
    "#     value_matrix = np.zeros_like(payoff_matrix)\n",
    "#     value_matrix[:, -1] = payoff_matrix[:, -1]\n",
    "    \n",
    "#     for i in range(step - 1, 0 , -1):\n",
    "#         in_the_money_path = np.where(payoff_matrix[:,i]>0)[0]\n",
    "        \n",
    "#         X = St[in_the_money_path,i]\n",
    "#         y = value_matrix[in_the_money_path,i+1]*disc\n",
    "        \n",
    "#         X = basis_function(X,k,method)\n",
    "#         A = np.dot(X,X.T)\n",
    "#         b = np.dot(X,y)\n",
    "#         # find betas\n",
    "#         coef = np.dot(np.linalg.inv(A), b)\n",
    "        \n",
    "#         continuation_value = np.dot(X.T,coef)\n",
    "    \n",
    "#         value_matrix[in_the_money_path, i] = np.where(\n",
    "#             payoff_matrix[in_the_money_path, i] > continuation_value,\n",
    "#             payoff_matrix[in_the_money_path, i],\n",
    "#             value_matrix[in_the_money_path, i + 1] * disc\n",
    "#         )\n",
    "        \n",
    "#     option_premium = np.mean(value_matrix[:, 1] * disc)* strike\n",
    "    \n",
    "#     return option_premium\n",
    "\n",
    "# LCSM(s0=40,r=0.06, sigma=0.2, path=10,T=2,strike=40,k=4,method=\"monomials\")"
   ]
  },
  {
   "cell_type": "code",
   "execution_count": 27,
   "id": "8d028d5b",
   "metadata": {
    "ExecuteTime": {
     "end_time": "2022-05-06T01:14:32.013049Z",
     "start_time": "2022-05-06T01:14:32.005343Z"
    },
    "code_folding": [
     0
    ]
   },
   "outputs": [],
   "source": [
    "# def LCSM(s0,strike,T,r,sigma,path,k,method):\n",
    "#     \"\"\"\n",
    "#     Least-square Monte Carlo Simulation\n",
    "#     method in ['laguerre','hermite','monomials']\n",
    "#     \"\"\"\n",
    "#     # define dt = 1/sqrt(N)\n",
    "#     dt = 1/np.sqrt(path)\n",
    "#     steps = int(T/dt)\n",
    "#     disc = np.exp(-r*dt)\n",
    "#     # simulate stock prices\n",
    "#     St = simulate_gbm(s0=s0, mu=r, sigma=sigma, path=path, T=T)/strike # scale by strike price\n",
    "    \n",
    "#     # initialized payoff marix\n",
    "#     payoff = np.zeros_like(St)\n",
    "#     payoff = np.maximum(1-St, np.zeros_like(St))\n",
    "    \n",
    "#     # index matrix\n",
    "#     # 1: exercise , 0: doing nothing\n",
    "#     index = np.zeros_like(St)\n",
    "#     index[:,steps] = np.where(1>St[:,steps],1,0)\n",
    "    \n",
    "#     continue_matrix = np.zeros_like(payoff)\n",
    "#     continue_matrix[:,step] = payoff[:,step]\n",
    "    \n",
    "#     for i in range(step-1,0,-1):\n",
    "#         # find the in the money path\n",
    "#         in_the_money_path = np.where(payoff[:,i]*disc >0)[0]\n",
    "#         X = St[in_the_money_path,i]\n",
    "#         y = continue_matrix[in_the_money_path,i+1]*disc\n",
    "        \n",
    "#         X = basis_function(X,k,method)\n",
    "#         A = np.dot(X,X.T)\n",
    "#         b = np.dot(X,y)\n",
    "#         # find betas\n",
    "#         coef = np.dot(np.linalg.inv(A), b)\n",
    "        \n",
    "#         continue_matrix[in_the_money_path,i] = np.dot(X.T,coef)\n",
    "\n",
    "#         exercise_value = payoff[in_the_money_path,i]\n",
    "\n",
    "#         index[in_the_money_path,i] = np.where(exercise_value>continue_matrix[in_the_money_path,i],1,0)\n",
    "\n",
    "#         continue_matrix[in_the_money_path,i] = np.maximum(exercise_value,continue_matrix[in_the_money_path,i])\n",
    "                \n",
    "#         continue_matrix[in_the_money_path,i+1] *= index[in_the_money_path,i+1]\n",
    "#         continue_matrix[:,i] = np.maximum(disc* continue_matrix[:,i+1],continue_matrix[:,i])\n",
    "#         # make sure one row has only one 1\n",
    "#         for j in range(path):\n",
    "#             if index[j,i] ==1:\n",
    "#                 index[j,i+1:] = 0\n",
    "                \n",
    "#     optimal_matrix = strike* np.ones_like(payoff) * index * payoff\n",
    "#     dt_array = np.exp(-r*dt*np.arange(1,steps+1,1))\n",
    "#     avg_payoff = np.sum(optimal_matrix,axis=0)[1:] # exclude the initial price\n",
    "    \n",
    "#     # find the option price\n",
    "#     option_price = np.dot(avg_payoff,dt_array)/path\n",
    "\n",
    "    \n",
    "#     return option_price\n",
    "\n",
    "# # LCSM(s0=40,r=0.06, sigma=0.2, path=100000,T=2,strike=40,k=4,method=\"monomials\")\n"
   ]
  },
  {
   "cell_type": "code",
   "execution_count": null,
   "id": "840979e2",
   "metadata": {},
   "outputs": [],
   "source": []
  }
 ],
 "metadata": {
  "kernelspec": {
   "display_name": "Python 3 (ipykernel)",
   "language": "python",
   "name": "python3"
  },
  "language_info": {
   "codemirror_mode": {
    "name": "ipython",
    "version": 3
   },
   "file_extension": ".py",
   "mimetype": "text/x-python",
   "name": "python",
   "nbconvert_exporter": "python",
   "pygments_lexer": "ipython3",
   "version": "3.9.7"
  },
  "latex_envs": {
   "LaTeX_envs_menu_present": true,
   "autoclose": false,
   "autocomplete": true,
   "bibliofile": "biblio.bib",
   "cite_by": "apalike",
   "current_citInitial": 1,
   "eqLabelWithNumbers": true,
   "eqNumInitial": 1,
   "hotkeys": {
    "equation": "Ctrl-E",
    "itemize": "Ctrl-I"
   },
   "labels_anchors": false,
   "latex_user_defs": false,
   "report_style_numbering": false,
   "user_envs_cfg": false
  }
 },
 "nbformat": 4,
 "nbformat_minor": 5
}
